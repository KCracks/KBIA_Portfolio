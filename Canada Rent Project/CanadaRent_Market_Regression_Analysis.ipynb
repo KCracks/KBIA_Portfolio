{
 "cells": [
  {
   "cell_type": "markdown",
   "id": "b1aa1287",
   "metadata": {},
   "source": [
    "# 🇨🇦 Analysis of Canadian Residential Rental Prices using Linear Regression Models \n",
    "\n",
    "🇨🇦 This notebook analyzes rental prices in Canada using Linear Regression."
   ]
  },
  {
   "cell_type": "markdown",
   "id": "0bef3f92",
   "metadata": {},
   "source": [
    "\n",
    "## **Dataset Overview and Introduction**\n",
    "\n",
    "The dataset used for this analysis provides historical rental price data for various cities contained in all Provinces across Canada. It contains 69,532 records and covers rental trends over a span of 37 years (1987-2024).\n",
    "\n",
    "### **Objective(s):**\n",
    "\n",
    "The primary objective of this notebook is to predict rental prices in Canada using Regression Analysis. By leveraging historical rent data from 1987 to 2024, the model aims to:\n",
    "- Identify key factors influencing rental prices, such as province, city, year, and unit type.\n",
    "- Build a predictive model using Linear Regression to estimate rent prices based on available features.\n",
    "-Evaluate model performance using metrics like Mean Absolute Error (MAE), Mean Squared Error (MSE), Root Mean Squared Error (RMSE), and R² score.\n",
    "- Analyze prediction accuracy to assess how well the model generalizes to new rental price data.\n",
    "\n",
    "---\n",
    "\n",
    "### **Data Overview:**\n",
    "- **Total Entries:** 69,532\n",
    "- **Features:**\n",
    "  - **Province, City, Year, Average Rent, Unit Type, Unit Description**\n",
    "- **Target Variable:** Rent prices categorized into two groups (High vs. Low)\n",
    "\n",
    "---\n",
    "\n",
    "### **Feature Breakdown**\n",
    "\n",
    "The dataset consists of **six columns**:\n",
    "\n",
    "1. **Province** - The Canadian province where the rental data was collected.\n",
    "2. **City** - The specific city in the province.\n",
    "3. **Year** - The year when the rental price data was recorded. ( 1987 - 2024)\n",
    "4. **AverageRent** - The average rent price in the respective city for the given year.\n",
    "5. **UnitType** - The type of rental unit.\n",
    "6. **UnitDescription** - A standardized description of the general building layout for each \"unit types\".\n",
    "\n",
    "---\n"
   ]
  },
  {
   "cell_type": "code",
   "execution_count": 10,
   "id": "8054aa1e",
   "metadata": {},
   "outputs": [],
   "source": [
    "import pandas as pd\n",
    "import numpy as np\n",
    "import matplotlib.pyplot as plt\n",
    "import seaborn as sns\n",
    "\n",
    "from sklearn.model_selection import train_test_split\n",
    "from sklearn.preprocessing import OneHotEncoder, StandardScaler\n",
    "from sklearn.linear_model import LinearRegression\n",
    "from sklearn.metrics import mean_absolute_error, mean_squared_error, r2_score"
   ]
  },
  {
   "cell_type": "code",
   "execution_count": 11,
   "id": "9ceef0a5-69f9-45d1-9e65-9edca6f23d50",
   "metadata": {},
   "outputs": [],
   "source": [
    "# Load the dataset\n",
    "df = pd.read_csv(\"Canada_Rent_1987-2024_NO ZEROS.csv\", encoding=\"latin1\")"
   ]
  },
  {
   "cell_type": "code",
   "execution_count": 14,
   "id": "6f30f936-75fb-43f7-92e2-00edc7ae3fdf",
   "metadata": {},
   "outputs": [
    {
     "data": {
      "text/html": [
       "<div>\n",
       "<style scoped>\n",
       "    .dataframe tbody tr th:only-of-type {\n",
       "        vertical-align: middle;\n",
       "    }\n",
       "\n",
       "    .dataframe tbody tr th {\n",
       "        vertical-align: top;\n",
       "    }\n",
       "\n",
       "    .dataframe thead th {\n",
       "        text-align: right;\n",
       "    }\n",
       "</style>\n",
       "<table border=\"1\" class=\"dataframe\">\n",
       "  <thead>\n",
       "    <tr style=\"text-align: right;\">\n",
       "      <th></th>\n",
       "      <th>Province</th>\n",
       "      <th>City</th>\n",
       "      <th>Year</th>\n",
       "      <th>AverageRent</th>\n",
       "      <th>UnitType</th>\n",
       "      <th>UnitDescription</th>\n",
       "    </tr>\n",
       "  </thead>\n",
       "  <tbody>\n",
       "    <tr>\n",
       "      <th>0</th>\n",
       "      <td>Newfoundland and Labrador</td>\n",
       "      <td>Corner Brook</td>\n",
       "      <td>1987</td>\n",
       "      <td>480</td>\n",
       "      <td>Two bedroom units</td>\n",
       "      <td>Apartment structures of six units and over</td>\n",
       "    </tr>\n",
       "    <tr>\n",
       "      <th>1</th>\n",
       "      <td>Newfoundland and Labrador</td>\n",
       "      <td>Gander</td>\n",
       "      <td>1987</td>\n",
       "      <td>370</td>\n",
       "      <td>One bedroom units</td>\n",
       "      <td>Apartment structures of six units and over</td>\n",
       "    </tr>\n",
       "    <tr>\n",
       "      <th>2</th>\n",
       "      <td>Newfoundland and Labrador</td>\n",
       "      <td>Gander</td>\n",
       "      <td>1987</td>\n",
       "      <td>414</td>\n",
       "      <td>Two bedroom units</td>\n",
       "      <td>Apartment structures of six units and over</td>\n",
       "    </tr>\n",
       "    <tr>\n",
       "      <th>3</th>\n",
       "      <td>Newfoundland and Labrador</td>\n",
       "      <td>Gander</td>\n",
       "      <td>1987</td>\n",
       "      <td>414</td>\n",
       "      <td>Three bedroom units</td>\n",
       "      <td>Apartment structures of six units and over</td>\n",
       "    </tr>\n",
       "    <tr>\n",
       "      <th>4</th>\n",
       "      <td>Newfoundland and Labrador</td>\n",
       "      <td>Labrador City</td>\n",
       "      <td>1987</td>\n",
       "      <td>254</td>\n",
       "      <td>One bedroom units</td>\n",
       "      <td>Apartment structures of six units and over</td>\n",
       "    </tr>\n",
       "  </tbody>\n",
       "</table>\n",
       "</div>"
      ],
      "text/plain": [
       "                     Province           City  Year  AverageRent  \\\n",
       "0   Newfoundland and Labrador   Corner Brook  1987          480   \n",
       "1   Newfoundland and Labrador         Gander  1987          370   \n",
       "2   Newfoundland and Labrador         Gander  1987          414   \n",
       "3   Newfoundland and Labrador         Gander  1987          414   \n",
       "4   Newfoundland and Labrador  Labrador City  1987          254   \n",
       "\n",
       "              UnitType                             UnitDescription  \n",
       "0    Two bedroom units  Apartment structures of six units and over  \n",
       "1    One bedroom units  Apartment structures of six units and over  \n",
       "2    Two bedroom units  Apartment structures of six units and over  \n",
       "3  Three bedroom units  Apartment structures of six units and over  \n",
       "4    One bedroom units  Apartment structures of six units and over  "
      ]
     },
     "execution_count": 14,
     "metadata": {},
     "output_type": "execute_result"
    }
   ],
   "source": [
    "# Display basic info\n",
    "df.head()"
   ]
  },
  {
   "cell_type": "code",
   "execution_count": 15,
   "id": "1780ab7c-3544-4f39-9bcb-ed0128b40aef",
   "metadata": {},
   "outputs": [
    {
     "name": "stdout",
     "output_type": "stream",
     "text": [
      "<class 'pandas.core.frame.DataFrame'>\n",
      "RangeIndex: 69532 entries, 0 to 69531\n",
      "Data columns (total 6 columns):\n",
      " #   Column           Non-Null Count  Dtype \n",
      "---  ------           --------------  ----- \n",
      " 0   Province         69532 non-null  object\n",
      " 1   City             69532 non-null  object\n",
      " 2   Year             69532 non-null  int64 \n",
      " 3   AverageRent      69532 non-null  int64 \n",
      " 4   UnitType         69532 non-null  object\n",
      " 5   UnitDescription  69532 non-null  object\n",
      "dtypes: int64(2), object(4)\n",
      "memory usage: 3.2+ MB\n"
     ]
    }
   ],
   "source": [
    "df.info()"
   ]
  },
  {
   "cell_type": "code",
   "execution_count": 16,
   "id": "e2a2f53a-69d7-4e05-9452-4b0503df2b59",
   "metadata": {},
   "outputs": [
    {
     "data": {
      "text/html": [
       "<div>\n",
       "<style scoped>\n",
       "    .dataframe tbody tr th:only-of-type {\n",
       "        vertical-align: middle;\n",
       "    }\n",
       "\n",
       "    .dataframe tbody tr th {\n",
       "        vertical-align: top;\n",
       "    }\n",
       "\n",
       "    .dataframe thead th {\n",
       "        text-align: right;\n",
       "    }\n",
       "</style>\n",
       "<table border=\"1\" class=\"dataframe\">\n",
       "  <thead>\n",
       "    <tr style=\"text-align: right;\">\n",
       "      <th></th>\n",
       "      <th>count</th>\n",
       "      <th>mean</th>\n",
       "      <th>std</th>\n",
       "      <th>min</th>\n",
       "      <th>25%</th>\n",
       "      <th>50%</th>\n",
       "      <th>75%</th>\n",
       "      <th>max</th>\n",
       "    </tr>\n",
       "  </thead>\n",
       "  <tbody>\n",
       "    <tr>\n",
       "      <th>Year</th>\n",
       "      <td>69532.0</td>\n",
       "      <td>2007.715412</td>\n",
       "      <td>9.921874</td>\n",
       "      <td>1987.0</td>\n",
       "      <td>1999.0</td>\n",
       "      <td>2008.0</td>\n",
       "      <td>2016.0</td>\n",
       "      <td>2024.0</td>\n",
       "    </tr>\n",
       "    <tr>\n",
       "      <th>AverageRent</th>\n",
       "      <td>69532.0</td>\n",
       "      <td>680.042757</td>\n",
       "      <td>302.502535</td>\n",
       "      <td>169.0</td>\n",
       "      <td>464.0</td>\n",
       "      <td>610.0</td>\n",
       "      <td>820.0</td>\n",
       "      <td>2961.0</td>\n",
       "    </tr>\n",
       "  </tbody>\n",
       "</table>\n",
       "</div>"
      ],
      "text/plain": [
       "               count         mean         std     min     25%     50%     75%  \\\n",
       "Year         69532.0  2007.715412    9.921874  1987.0  1999.0  2008.0  2016.0   \n",
       "AverageRent  69532.0   680.042757  302.502535   169.0   464.0   610.0   820.0   \n",
       "\n",
       "                max  \n",
       "Year         2024.0  \n",
       "AverageRent  2961.0  "
      ]
     },
     "execution_count": 16,
     "metadata": {},
     "output_type": "execute_result"
    }
   ],
   "source": [
    "df.describe().T"
   ]
  },
  {
   "cell_type": "markdown",
   "id": "559baf89-2225-43a5-9a83-ed95a77d3e48",
   "metadata": {},
   "source": [
    "## Data Cleaning & Processing\n",
    "- Check for missing data\n",
    "- Check for duplicated values\n",
    "- Rent pices will then be categorized into two groups and categorical features will then encoded."
   ]
  },
  {
   "cell_type": "code",
   "execution_count": 18,
   "id": "ac76b103-9f3d-407c-a85c-7f9309811091",
   "metadata": {},
   "outputs": [
    {
     "data": {
      "text/plain": [
       "Province           0\n",
       "City               0\n",
       "Year               0\n",
       "AverageRent        0\n",
       "UnitType           0\n",
       "UnitDescription    0\n",
       "dtype: int64"
      ]
     },
     "execution_count": 18,
     "metadata": {},
     "output_type": "execute_result"
    }
   ],
   "source": [
    "# Check for missing values\n",
    "df.isnull().sum()"
   ]
  },
  {
   "cell_type": "code",
   "execution_count": 20,
   "id": "5a75a469-3120-4060-9095-e167be43aefa",
   "metadata": {},
   "outputs": [
    {
     "data": {
      "text/plain": [
       "np.int64(0)"
      ]
     },
     "execution_count": 20,
     "metadata": {},
     "output_type": "execute_result"
    }
   ],
   "source": [
    "# Check for duplicated values \n",
    "df.duplicated().sum()"
   ]
  },
  {
   "cell_type": "code",
   "execution_count": 21,
   "id": "e2b67483-b176-4f08-8c2c-74dead4623b7",
   "metadata": {},
   "outputs": [
    {
     "data": {
      "text/plain": [
       "(69532, 6)"
      ]
     },
     "execution_count": 21,
     "metadata": {},
     "output_type": "execute_result"
    }
   ],
   "source": [
    "df.shape"
   ]
  },
  {
   "cell_type": "markdown",
   "id": "f574ec71",
   "metadata": {},
   "source": [
    "### Feature Engineering\n",
    "Selecting relevant columns for the regression model."
   ]
  },
  {
   "cell_type": "code",
   "execution_count": 22,
   "id": "85c9084d",
   "metadata": {},
   "outputs": [],
   "source": [
    "features = [\"Province\", \"City\", \"Year\", \"UnitType\"]\n",
    "target = \"AverageRent\"\n",
    "\n",
    "# One-hot encoding categorical features\n",
    "encoder = OneHotEncoder(drop='first', sparse_output=False)\n",
    "categorical_data = encoder.fit_transform(df[features[:-1]])\n",
    "categorical_columns = encoder.get_feature_names_out(features[:-1])"
   ]
  },
  {
   "cell_type": "code",
   "execution_count": 23,
   "id": "200ff1f8-367e-4b71-98b3-3cd51e23e2e9",
   "metadata": {},
   "outputs": [
    {
     "data": {
      "text/html": [
       "<div>\n",
       "<style scoped>\n",
       "    .dataframe tbody tr th:only-of-type {\n",
       "        vertical-align: middle;\n",
       "    }\n",
       "\n",
       "    .dataframe tbody tr th {\n",
       "        vertical-align: top;\n",
       "    }\n",
       "\n",
       "    .dataframe thead th {\n",
       "        text-align: right;\n",
       "    }\n",
       "</style>\n",
       "<table border=\"1\" class=\"dataframe\">\n",
       "  <thead>\n",
       "    <tr style=\"text-align: right;\">\n",
       "      <th></th>\n",
       "      <th>Province_ Alberta part</th>\n",
       "      <th>Province_ British Columbia</th>\n",
       "      <th>Province_ Manitoba</th>\n",
       "      <th>Province_ New Brunswick</th>\n",
       "      <th>Province_ New Brunswick part</th>\n",
       "      <th>Province_ Newfoundland and Labrador</th>\n",
       "      <th>Province_ Northwest Territories</th>\n",
       "      <th>Province_ Nova Scotia</th>\n",
       "      <th>Province_ Ontario</th>\n",
       "      <th>Province_ Ontario part</th>\n",
       "      <th>...</th>\n",
       "      <th>Year_2016</th>\n",
       "      <th>Year_2017</th>\n",
       "      <th>Year_2018</th>\n",
       "      <th>Year_2019</th>\n",
       "      <th>Year_2020</th>\n",
       "      <th>Year_2021</th>\n",
       "      <th>Year_2022</th>\n",
       "      <th>Year_2023</th>\n",
       "      <th>Year_2024</th>\n",
       "      <th>AverageRent</th>\n",
       "    </tr>\n",
       "  </thead>\n",
       "  <tbody>\n",
       "    <tr>\n",
       "      <th>0</th>\n",
       "      <td>0.0</td>\n",
       "      <td>0.0</td>\n",
       "      <td>0.0</td>\n",
       "      <td>0.0</td>\n",
       "      <td>0.0</td>\n",
       "      <td>1.0</td>\n",
       "      <td>0.0</td>\n",
       "      <td>0.0</td>\n",
       "      <td>0.0</td>\n",
       "      <td>0.0</td>\n",
       "      <td>...</td>\n",
       "      <td>0.0</td>\n",
       "      <td>0.0</td>\n",
       "      <td>0.0</td>\n",
       "      <td>0.0</td>\n",
       "      <td>0.0</td>\n",
       "      <td>0.0</td>\n",
       "      <td>0.0</td>\n",
       "      <td>0.0</td>\n",
       "      <td>0.0</td>\n",
       "      <td>480</td>\n",
       "    </tr>\n",
       "    <tr>\n",
       "      <th>1</th>\n",
       "      <td>0.0</td>\n",
       "      <td>0.0</td>\n",
       "      <td>0.0</td>\n",
       "      <td>0.0</td>\n",
       "      <td>0.0</td>\n",
       "      <td>1.0</td>\n",
       "      <td>0.0</td>\n",
       "      <td>0.0</td>\n",
       "      <td>0.0</td>\n",
       "      <td>0.0</td>\n",
       "      <td>...</td>\n",
       "      <td>0.0</td>\n",
       "      <td>0.0</td>\n",
       "      <td>0.0</td>\n",
       "      <td>0.0</td>\n",
       "      <td>0.0</td>\n",
       "      <td>0.0</td>\n",
       "      <td>0.0</td>\n",
       "      <td>0.0</td>\n",
       "      <td>0.0</td>\n",
       "      <td>370</td>\n",
       "    </tr>\n",
       "    <tr>\n",
       "      <th>2</th>\n",
       "      <td>0.0</td>\n",
       "      <td>0.0</td>\n",
       "      <td>0.0</td>\n",
       "      <td>0.0</td>\n",
       "      <td>0.0</td>\n",
       "      <td>1.0</td>\n",
       "      <td>0.0</td>\n",
       "      <td>0.0</td>\n",
       "      <td>0.0</td>\n",
       "      <td>0.0</td>\n",
       "      <td>...</td>\n",
       "      <td>0.0</td>\n",
       "      <td>0.0</td>\n",
       "      <td>0.0</td>\n",
       "      <td>0.0</td>\n",
       "      <td>0.0</td>\n",
       "      <td>0.0</td>\n",
       "      <td>0.0</td>\n",
       "      <td>0.0</td>\n",
       "      <td>0.0</td>\n",
       "      <td>414</td>\n",
       "    </tr>\n",
       "    <tr>\n",
       "      <th>3</th>\n",
       "      <td>0.0</td>\n",
       "      <td>0.0</td>\n",
       "      <td>0.0</td>\n",
       "      <td>0.0</td>\n",
       "      <td>0.0</td>\n",
       "      <td>1.0</td>\n",
       "      <td>0.0</td>\n",
       "      <td>0.0</td>\n",
       "      <td>0.0</td>\n",
       "      <td>0.0</td>\n",
       "      <td>...</td>\n",
       "      <td>0.0</td>\n",
       "      <td>0.0</td>\n",
       "      <td>0.0</td>\n",
       "      <td>0.0</td>\n",
       "      <td>0.0</td>\n",
       "      <td>0.0</td>\n",
       "      <td>0.0</td>\n",
       "      <td>0.0</td>\n",
       "      <td>0.0</td>\n",
       "      <td>414</td>\n",
       "    </tr>\n",
       "    <tr>\n",
       "      <th>4</th>\n",
       "      <td>0.0</td>\n",
       "      <td>0.0</td>\n",
       "      <td>0.0</td>\n",
       "      <td>0.0</td>\n",
       "      <td>0.0</td>\n",
       "      <td>1.0</td>\n",
       "      <td>0.0</td>\n",
       "      <td>0.0</td>\n",
       "      <td>0.0</td>\n",
       "      <td>0.0</td>\n",
       "      <td>...</td>\n",
       "      <td>0.0</td>\n",
       "      <td>0.0</td>\n",
       "      <td>0.0</td>\n",
       "      <td>0.0</td>\n",
       "      <td>0.0</td>\n",
       "      <td>0.0</td>\n",
       "      <td>0.0</td>\n",
       "      <td>0.0</td>\n",
       "      <td>0.0</td>\n",
       "      <td>254</td>\n",
       "    </tr>\n",
       "  </tbody>\n",
       "</table>\n",
       "<p>5 rows × 269 columns</p>\n",
       "</div>"
      ],
      "text/plain": [
       "   Province_ Alberta part  Province_ British Columbia  Province_ Manitoba  \\\n",
       "0                     0.0                         0.0                 0.0   \n",
       "1                     0.0                         0.0                 0.0   \n",
       "2                     0.0                         0.0                 0.0   \n",
       "3                     0.0                         0.0                 0.0   \n",
       "4                     0.0                         0.0                 0.0   \n",
       "\n",
       "   Province_ New Brunswick  Province_ New Brunswick part  \\\n",
       "0                      0.0                           0.0   \n",
       "1                      0.0                           0.0   \n",
       "2                      0.0                           0.0   \n",
       "3                      0.0                           0.0   \n",
       "4                      0.0                           0.0   \n",
       "\n",
       "   Province_ Newfoundland and Labrador  Province_ Northwest Territories  \\\n",
       "0                                  1.0                              0.0   \n",
       "1                                  1.0                              0.0   \n",
       "2                                  1.0                              0.0   \n",
       "3                                  1.0                              0.0   \n",
       "4                                  1.0                              0.0   \n",
       "\n",
       "   Province_ Nova Scotia  Province_ Ontario  Province_ Ontario part  ...  \\\n",
       "0                    0.0                0.0                     0.0  ...   \n",
       "1                    0.0                0.0                     0.0  ...   \n",
       "2                    0.0                0.0                     0.0  ...   \n",
       "3                    0.0                0.0                     0.0  ...   \n",
       "4                    0.0                0.0                     0.0  ...   \n",
       "\n",
       "   Year_2016  Year_2017  Year_2018  Year_2019  Year_2020  Year_2021  \\\n",
       "0        0.0        0.0        0.0        0.0        0.0        0.0   \n",
       "1        0.0        0.0        0.0        0.0        0.0        0.0   \n",
       "2        0.0        0.0        0.0        0.0        0.0        0.0   \n",
       "3        0.0        0.0        0.0        0.0        0.0        0.0   \n",
       "4        0.0        0.0        0.0        0.0        0.0        0.0   \n",
       "\n",
       "   Year_2022  Year_2023  Year_2024  AverageRent  \n",
       "0        0.0        0.0        0.0          480  \n",
       "1        0.0        0.0        0.0          370  \n",
       "2        0.0        0.0        0.0          414  \n",
       "3        0.0        0.0        0.0          414  \n",
       "4        0.0        0.0        0.0          254  \n",
       "\n",
       "[5 rows x 269 columns]"
      ]
     },
     "metadata": {},
     "output_type": "display_data"
    }
   ],
   "source": [
    "df_encoded = pd.DataFrame(categorical_data, columns=categorical_columns)\n",
    "df_encoded[target] = df[target].values\n",
    "display(df_encoded.head())"
   ]
  },
  {
   "cell_type": "markdown",
   "id": "f68590e6",
   "metadata": {},
   "source": [
    "### Modeling the Data\n",
    "Dividing the dataset into training and testing sets."
   ]
  },
  {
   "cell_type": "code",
   "execution_count": 24,
   "id": "3c591a75",
   "metadata": {},
   "outputs": [],
   "source": [
    "X = df_encoded.drop(columns=[target])\n",
    "y = df_encoded[target]\n",
    "X_train, X_test, y_train, y_test = train_test_split(X, y, test_size=0.2, random_state=42)\n",
    "\n",
    "# Standardizing numerical data\n",
    "scaler = StandardScaler()\n",
    "X_train_scaled = scaler.fit_transform(X_train)\n",
    "X_test_scaled = scaler.transform(X_test)\n"
   ]
  },
  {
   "cell_type": "markdown",
   "id": "ab41f3b0",
   "metadata": {},
   "source": [
    "### Training the Regression Model\n",
    "Using Linear Regression to predict rental prices."
   ]
  },
  {
   "cell_type": "code",
   "execution_count": 25,
   "id": "5ba09337",
   "metadata": {},
   "outputs": [],
   "source": [
    "# Regression Model\n",
    "model = LinearRegression()\n",
    "model.fit(X_train_scaled, y_train)\n",
    "\n",
    "y_pred = model.predict(X_test_scaled)\n"
   ]
  },
  {
   "cell_type": "markdown",
   "id": "d07ac25c",
   "metadata": {},
   "source": [
    "### Model Performance Metrics\n",
    "Evaluating the regression model with MAE, MSE, RMSE, and R²."
   ]
  },
  {
   "cell_type": "code",
   "execution_count": 27,
   "id": "f34fb0dd",
   "metadata": {},
   "outputs": [
    {
     "name": "stdout",
     "output_type": "stream",
     "text": [
      "MAE: 125.72837603874476\n",
      "MSE: 28167.25325711654\n",
      "RMSE: 167.8310259073588\n",
      "R² Score: 0.6973636021888793\n"
     ]
    }
   ],
   "source": [
    "mae = mean_absolute_error(y_test, y_pred)\n",
    "mse = mean_squared_error(y_test, y_pred)\n",
    "rmse = np.sqrt(mse)\n",
    "r2 = r2_score(y_test, y_pred)\n",
    "\n",
    "print(f\"MAE: {mae}\")\n",
    "print(f\"MSE: {mse}\")\n",
    "print(f\"RMSE: {rmse}\")\n",
    "print(f\"R² Score: {r2}\")\n"
   ]
  },
  {
   "cell_type": "markdown",
   "id": "dce0fdfb",
   "metadata": {},
   "source": [
    "### Visualization\n",
    "Plotting actual vs. predicted rent prices."
   ]
  },
  {
   "cell_type": "code",
   "execution_count": 6,
   "id": "2273f2d0",
   "metadata": {},
   "outputs": [
    {
     "data": {
      "image/png": "[encoded data removed]",
      "text/plain": [
       "<Figure size 1000x600 with 1 Axes>"
      ]
     },
     "metadata": {},
     "output_type": "display_data"
    }
   ],
   "source": [
    "plt.figure(figsize=(10,6))\n",
    "sns.scatterplot(x=y_test, y=y_pred)\n",
    "plt.xlabel(\"Actual Rent Prices\")\n",
    "plt.ylabel(\"Predicted Rent Prices\")\n",
    "plt.title(\"Actual vs Predicted Rent Prices\")\n",
    "plt.show()"
   ]
  },
  {
   "cell_type": "markdown",
   "id": "d6419a43",
   "metadata": {},
   "source": [
    "\n",
    "## 🍁 **Observation Summary and Analysis of Results** 🍁\n",
    "\n",
    "Based on the extracted results from the regression notebook, here are the performance metrics and key insights for the **Linear Regression** model.\n",
    "\n",
    "---\n",
    "\n",
    "### **Regression Model Evaluation Results**\n",
    "1. **Mean Absolute Error (MAE):** **125.73**\n",
    "   - This means, on average, the model’s predictions are off by about **$125.73** in rent prices.\n",
    "  \n",
    "2. **Mean Squared Error (MSE):** **28,167.25**\n",
    "   - A higher value indicates some large deviations in rent predictions.\n",
    "  \n",
    "3. **Root Mean Squared Error (RMSE):** **167.83**\n",
    "   - The model's average prediction error is **$167.83** in rent prices.\n",
    "  \n",
    "4. **R² Score:** **0.697**\n",
    "   - The model explains **69.7%** of the variance in rental prices.\n",
    "\n",
    "---\n",
    "\n",
    "### **Key Observations**\n",
    "- The **R² score of 69.7%** suggests that the model does a fairly good job at predicting rent prices but leaves room for improvement.\n",
    "- The **RMSE of $167.83** indicates that rental price predictions can vary significantly, which may be due to missing factors like economic conditions or additional attributes related to properties such as specific features and amenities for the structures and specific locations.\n",
    "- The model relies on province, city, year, and unit type but is not able to account for external variables such as inflation, population growth, demand trends, geopolitical effects, and others) that could futher affect accuracy.\n"
   ]
  },
  {
   "cell_type": "code",
   "execution_count": null,
   "id": "9186bd31-1572-46b6-9028-d0e4c5f96a21",
   "metadata": {},
   "outputs": [],
   "source": []
  }
 ],
 "metadata": {
  "kernelspec": {
   "display_name": "Python 3 (ipykernel)",
   "language": "python",
   "name": "python3"
  },
  "language_info": {
   "codemirror_mode": {
    "name": "ipython",
    "version": 3
   },
   "file_extension": ".py",
   "mimetype": "text/x-python",
   "name": "python",
   "nbconvert_exporter": "python",
   "pygments_lexer": "ipython3",
   "version": "3.11.11"
  }
 },
 "nbformat": 4,
 "nbformat_minor": 5
}
