{
 "cells": [
  {
   "cell_type": "markdown",
   "id": "dcc60d05",
   "metadata": {},
   "source": [
    "# 🇨🇦 Analysis of Canadian Residential Rental Prices using Logistic Regression and K - Nearest Neighbours Classification Models 🇨🇦\n",
    "\n",
    "This notebook classifies rent prices into high and low categories based on location and unit type."
   ]
  },
  {
   "cell_type": "markdown",
   "id": "1b510367",
   "metadata": {},
   "source": [
    "\n",
    "## **Dataset Overview and Introduction**\n",
    "\n",
    "The dataset used for this analysis provides historical rental price data for various cities contained in all Provinces across Canada. It contains 69,532 records and covers rental trends over a span of 37 years (1987-2024).\n",
    "\n",
    "### **Objective:**\n",
    "This notebook focuses on classifying rental prices into high and low categories based on location and unit type. It therefore utilizes **Logistic Regression** and **K-Nearest Neighbors (KNN)** models to predict these categories.\n",
    "\n",
    "---\n",
    "\n",
    "### **Data Overview:**\n",
    "- **Total Entries:** 69,532\n",
    "- **Features:**\n",
    "  - **Province, City, Year, Average Rent, Unit Type, Unit Description**\n",
    "- **Target Variable:** Rent prices categorized into two groups (High vs. Low)\n",
    "\n",
    "---\n",
    "\n",
    "### **Feature Breakdown**\n",
    "\n",
    "The dataset consists of **six columns**:\n",
    "\n",
    "1. **Province** - The Canadian province where the rental data was collected.\n",
    "2. **City** - The specific city in the province.\n",
    "3. **Year** - The year when the rental price data was recorded. ( 1987 - 2024)\n",
    "4. **AverageRent** - The average rent price in the respective city for the given year.\n",
    "5. **UnitType** - The type of rental unit.\n",
    "6. **UnitDescription** - A standardized description of the general building layout for each \"unit types\".\n",
    "\n",
    "---\n"
   ]
  },
  {
   "cell_type": "code",
   "execution_count": 1,
   "id": "6928f07c",
   "metadata": {},
   "outputs": [],
   "source": [
    "import pandas as pd\n",
    "import numpy as np\n",
    "import matplotlib.pyplot as plt\n",
    "import seaborn as sns\n",
    "\n",
    "from sklearn.model_selection import train_test_split\n",
    "from sklearn.preprocessing import LabelEncoder, StandardScaler\n",
    "from sklearn.linear_model import LogisticRegression\n",
    "\n",
    "from sklearn.neighbors import KNeighborsClassifier\n",
    "from sklearn.metrics import accuracy_score, classification_report, confusion_matrix"
   ]
  },
  {
   "cell_type": "markdown",
   "id": "8fc7dae2",
   "metadata": {},
   "source": [
    "## Load the dataset"
   ]
  },
  {
   "cell_type": "code",
   "execution_count": 2,
   "id": "ae5fe53f",
   "metadata": {},
   "outputs": [
    {
     "data": {
      "text/html": [
       "<div>\n",
       "<style scoped>\n",
       "    .dataframe tbody tr th:only-of-type {\n",
       "        vertical-align: middle;\n",
       "    }\n",
       "\n",
       "    .dataframe tbody tr th {\n",
       "        vertical-align: top;\n",
       "    }\n",
       "\n",
       "    .dataframe thead th {\n",
       "        text-align: right;\n",
       "    }\n",
       "</style>\n",
       "<table border=\"1\" class=\"dataframe\">\n",
       "  <thead>\n",
       "    <tr style=\"text-align: right;\">\n",
       "      <th></th>\n",
       "      <th>Province</th>\n",
       "      <th>City</th>\n",
       "      <th>Year</th>\n",
       "      <th>AverageRent</th>\n",
       "      <th>UnitType</th>\n",
       "      <th>UnitDescription</th>\n",
       "    </tr>\n",
       "  </thead>\n",
       "  <tbody>\n",
       "    <tr>\n",
       "      <th>0</th>\n",
       "      <td>Newfoundland and Labrador</td>\n",
       "      <td>Corner Brook</td>\n",
       "      <td>1987</td>\n",
       "      <td>480</td>\n",
       "      <td>Two bedroom units</td>\n",
       "      <td>Apartment structures of six units and over</td>\n",
       "    </tr>\n",
       "    <tr>\n",
       "      <th>1</th>\n",
       "      <td>Newfoundland and Labrador</td>\n",
       "      <td>Gander</td>\n",
       "      <td>1987</td>\n",
       "      <td>370</td>\n",
       "      <td>One bedroom units</td>\n",
       "      <td>Apartment structures of six units and over</td>\n",
       "    </tr>\n",
       "    <tr>\n",
       "      <th>2</th>\n",
       "      <td>Newfoundland and Labrador</td>\n",
       "      <td>Gander</td>\n",
       "      <td>1987</td>\n",
       "      <td>414</td>\n",
       "      <td>Two bedroom units</td>\n",
       "      <td>Apartment structures of six units and over</td>\n",
       "    </tr>\n",
       "    <tr>\n",
       "      <th>3</th>\n",
       "      <td>Newfoundland and Labrador</td>\n",
       "      <td>Gander</td>\n",
       "      <td>1987</td>\n",
       "      <td>414</td>\n",
       "      <td>Three bedroom units</td>\n",
       "      <td>Apartment structures of six units and over</td>\n",
       "    </tr>\n",
       "    <tr>\n",
       "      <th>4</th>\n",
       "      <td>Newfoundland and Labrador</td>\n",
       "      <td>Labrador City</td>\n",
       "      <td>1987</td>\n",
       "      <td>254</td>\n",
       "      <td>One bedroom units</td>\n",
       "      <td>Apartment structures of six units and over</td>\n",
       "    </tr>\n",
       "  </tbody>\n",
       "</table>\n",
       "</div>"
      ],
      "text/plain": [
       "                     Province           City  Year  AverageRent  \\\n",
       "0   Newfoundland and Labrador   Corner Brook  1987          480   \n",
       "1   Newfoundland and Labrador         Gander  1987          370   \n",
       "2   Newfoundland and Labrador         Gander  1987          414   \n",
       "3   Newfoundland and Labrador         Gander  1987          414   \n",
       "4   Newfoundland and Labrador  Labrador City  1987          254   \n",
       "\n",
       "              UnitType                             UnitDescription  \n",
       "0    Two bedroom units  Apartment structures of six units and over  \n",
       "1    One bedroom units  Apartment structures of six units and over  \n",
       "2    Two bedroom units  Apartment structures of six units and over  \n",
       "3  Three bedroom units  Apartment structures of six units and over  \n",
       "4    One bedroom units  Apartment structures of six units and over  "
      ]
     },
     "execution_count": 2,
     "metadata": {},
     "output_type": "execute_result"
    }
   ],
   "source": [
    "df = pd.read_csv(\"Canada_Rent_1987-2024_NO ZEROS.csv\", encoding=\"latin1\")\n",
    "df.head()"
   ]
  },
  {
   "cell_type": "code",
   "execution_count": 3,
   "id": "ed74d1cd-41aa-4cce-9343-900b33890edd",
   "metadata": {},
   "outputs": [
    {
     "name": "stdout",
     "output_type": "stream",
     "text": [
      "<class 'pandas.core.frame.DataFrame'>\n",
      "RangeIndex: 69532 entries, 0 to 69531\n",
      "Data columns (total 6 columns):\n",
      " #   Column           Non-Null Count  Dtype \n",
      "---  ------           --------------  ----- \n",
      " 0   Province         69532 non-null  object\n",
      " 1   City             69532 non-null  object\n",
      " 2   Year             69532 non-null  int64 \n",
      " 3   AverageRent      69532 non-null  int64 \n",
      " 4   UnitType         69532 non-null  object\n",
      " 5   UnitDescription  69532 non-null  object\n",
      "dtypes: int64(2), object(4)\n",
      "memory usage: 3.2+ MB\n"
     ]
    }
   ],
   "source": [
    "df.info()"
   ]
  },
  {
   "cell_type": "code",
   "execution_count": 4,
   "id": "2e06f8f9-4ecf-4ebc-9669-b57049556c81",
   "metadata": {},
   "outputs": [
    {
     "data": {
      "text/html": [
       "<div>\n",
       "<style scoped>\n",
       "    .dataframe tbody tr th:only-of-type {\n",
       "        vertical-align: middle;\n",
       "    }\n",
       "\n",
       "    .dataframe tbody tr th {\n",
       "        vertical-align: top;\n",
       "    }\n",
       "\n",
       "    .dataframe thead th {\n",
       "        text-align: right;\n",
       "    }\n",
       "</style>\n",
       "<table border=\"1\" class=\"dataframe\">\n",
       "  <thead>\n",
       "    <tr style=\"text-align: right;\">\n",
       "      <th></th>\n",
       "      <th>count</th>\n",
       "      <th>mean</th>\n",
       "      <th>std</th>\n",
       "      <th>min</th>\n",
       "      <th>25%</th>\n",
       "      <th>50%</th>\n",
       "      <th>75%</th>\n",
       "      <th>max</th>\n",
       "    </tr>\n",
       "  </thead>\n",
       "  <tbody>\n",
       "    <tr>\n",
       "      <th>Year</th>\n",
       "      <td>69532.0</td>\n",
       "      <td>2007.715412</td>\n",
       "      <td>9.921874</td>\n",
       "      <td>1987.0</td>\n",
       "      <td>1999.0</td>\n",
       "      <td>2008.0</td>\n",
       "      <td>2016.0</td>\n",
       "      <td>2024.0</td>\n",
       "    </tr>\n",
       "    <tr>\n",
       "      <th>AverageRent</th>\n",
       "      <td>69532.0</td>\n",
       "      <td>680.042757</td>\n",
       "      <td>302.502535</td>\n",
       "      <td>169.0</td>\n",
       "      <td>464.0</td>\n",
       "      <td>610.0</td>\n",
       "      <td>820.0</td>\n",
       "      <td>2961.0</td>\n",
       "    </tr>\n",
       "  </tbody>\n",
       "</table>\n",
       "</div>"
      ],
      "text/plain": [
       "               count         mean         std     min     25%     50%     75%  \\\n",
       "Year         69532.0  2007.715412    9.921874  1987.0  1999.0  2008.0  2016.0   \n",
       "AverageRent  69532.0   680.042757  302.502535   169.0   464.0   610.0   820.0   \n",
       "\n",
       "                max  \n",
       "Year         2024.0  \n",
       "AverageRent  2961.0  "
      ]
     },
     "execution_count": 4,
     "metadata": {},
     "output_type": "execute_result"
    }
   ],
   "source": [
    "df.describe().T"
   ]
  },
  {
   "cell_type": "markdown",
   "id": "5c404f15",
   "metadata": {},
   "source": [
    "## Data Cleaning & Processing\n",
    "- Check for missing data\n",
    "- Check for duplicated values\n",
    "- Rent pices will then be categorized into two groups and categorical features will then encoded."
   ]
  },
  {
   "cell_type": "code",
   "execution_count": 5,
   "id": "3411df77-4c9e-4084-96e1-058b01ed6237",
   "metadata": {},
   "outputs": [
    {
     "data": {
      "text/plain": [
       "Province           0\n",
       "City               0\n",
       "Year               0\n",
       "AverageRent        0\n",
       "UnitType           0\n",
       "UnitDescription    0\n",
       "dtype: int64"
      ]
     },
     "execution_count": 5,
     "metadata": {},
     "output_type": "execute_result"
    }
   ],
   "source": [
    "# Check for missing values\n",
    "df.isnull().sum()"
   ]
  },
  {
   "cell_type": "code",
   "execution_count": 6,
   "id": "6acbcd19-2c1a-4aad-a322-c4e9187df67f",
   "metadata": {},
   "outputs": [
    {
     "data": {
      "text/plain": [
       "np.int64(0)"
      ]
     },
     "execution_count": 6,
     "metadata": {},
     "output_type": "execute_result"
    }
   ],
   "source": [
    "# Check for duplicated values \n",
    "df.duplicated().sum()"
   ]
  },
  {
   "cell_type": "code",
   "execution_count": 7,
   "id": "ae7fd7be-9d0c-43b4-b3c2-85b951211b08",
   "metadata": {},
   "outputs": [
    {
     "data": {
      "text/plain": [
       "(69532, 6)"
      ]
     },
     "execution_count": 7,
     "metadata": {},
     "output_type": "execute_result"
    }
   ],
   "source": [
    "df.shape"
   ]
  },
  {
   "cell_type": "code",
   "execution_count": 8,
   "id": "95ac0403",
   "metadata": {},
   "outputs": [
    {
     "data": {
      "text/html": [
       "<div>\n",
       "<style scoped>\n",
       "    .dataframe tbody tr th:only-of-type {\n",
       "        vertical-align: middle;\n",
       "    }\n",
       "\n",
       "    .dataframe tbody tr th {\n",
       "        vertical-align: top;\n",
       "    }\n",
       "\n",
       "    .dataframe thead th {\n",
       "        text-align: right;\n",
       "    }\n",
       "</style>\n",
       "<table border=\"1\" class=\"dataframe\">\n",
       "  <thead>\n",
       "    <tr style=\"text-align: right;\">\n",
       "      <th></th>\n",
       "      <th>Province</th>\n",
       "      <th>City</th>\n",
       "      <th>Year</th>\n",
       "      <th>AverageRent</th>\n",
       "      <th>UnitType</th>\n",
       "      <th>UnitDescription</th>\n",
       "      <th>RentCategory</th>\n",
       "    </tr>\n",
       "  </thead>\n",
       "  <tbody>\n",
       "    <tr>\n",
       "      <th>0</th>\n",
       "      <td>6</td>\n",
       "      <td>31</td>\n",
       "      <td>0</td>\n",
       "      <td>480</td>\n",
       "      <td>3</td>\n",
       "      <td>Apartment structures of six units and over</td>\n",
       "      <td>0</td>\n",
       "    </tr>\n",
       "    <tr>\n",
       "      <th>1</th>\n",
       "      <td>6</td>\n",
       "      <td>50</td>\n",
       "      <td>0</td>\n",
       "      <td>370</td>\n",
       "      <td>1</td>\n",
       "      <td>Apartment structures of six units and over</td>\n",
       "      <td>0</td>\n",
       "    </tr>\n",
       "    <tr>\n",
       "      <th>2</th>\n",
       "      <td>6</td>\n",
       "      <td>50</td>\n",
       "      <td>0</td>\n",
       "      <td>414</td>\n",
       "      <td>3</td>\n",
       "      <td>Apartment structures of six units and over</td>\n",
       "      <td>0</td>\n",
       "    </tr>\n",
       "    <tr>\n",
       "      <th>3</th>\n",
       "      <td>6</td>\n",
       "      <td>50</td>\n",
       "      <td>0</td>\n",
       "      <td>414</td>\n",
       "      <td>2</td>\n",
       "      <td>Apartment structures of six units and over</td>\n",
       "      <td>0</td>\n",
       "    </tr>\n",
       "    <tr>\n",
       "      <th>4</th>\n",
       "      <td>6</td>\n",
       "      <td>83</td>\n",
       "      <td>0</td>\n",
       "      <td>254</td>\n",
       "      <td>1</td>\n",
       "      <td>Apartment structures of six units and over</td>\n",
       "      <td>0</td>\n",
       "    </tr>\n",
       "  </tbody>\n",
       "</table>\n",
       "</div>"
      ],
      "text/plain": [
       "   Province  City  Year  AverageRent  UnitType  \\\n",
       "0         6    31     0          480         3   \n",
       "1         6    50     0          370         1   \n",
       "2         6    50     0          414         3   \n",
       "3         6    50     0          414         2   \n",
       "4         6    83     0          254         1   \n",
       "\n",
       "                              UnitDescription RentCategory  \n",
       "0  Apartment structures of six units and over            0  \n",
       "1  Apartment structures of six units and over            0  \n",
       "2  Apartment structures of six units and over            0  \n",
       "3  Apartment structures of six units and over            0  \n",
       "4  Apartment structures of six units and over            0  "
      ]
     },
     "metadata": {},
     "output_type": "display_data"
    }
   ],
   "source": [
    "# Rent pices are categorized into two groups and categorical features are then encoded. \n",
    "\n",
    "df['RentCategory'] = pd.qcut(df['AverageRent'], q=2, labels=[0, 1])  # Binary classification\n",
    "features = [\"Province\", \"City\", \"Year\", \"UnitType\"]\n",
    "target = \"RentCategory\"\n",
    "\n",
    "# Encode categorical variables\n",
    "label_encoders = {}\n",
    "for col in features:\n",
    "    le = LabelEncoder()\n",
    "    df[col] = le.fit_transform(df[col])\n",
    "    label_encoders[col] = le\n",
    "display(df.head())"
   ]
  },
  {
   "cell_type": "markdown",
   "id": "a9740264",
   "metadata": {},
   "source": [
    "### Modeling the Data"
   ]
  },
  {
   "cell_type": "code",
   "execution_count": 9,
   "id": "680b76c5",
   "metadata": {},
   "outputs": [],
   "source": [
    "X = df[features]\n",
    "y = df[target]\n",
    "X_train, X_test, y_train, y_test = train_test_split(X, y, test_size=0.2, stratify=y, random_state=42)\n",
    "\n",
    "# Standardizing features\n",
    "scaler = StandardScaler()\n",
    "X_train_scaled = scaler.fit_transform(X_train)\n",
    "X_test_scaled = scaler.transform(X_test)"
   ]
  },
  {
   "cell_type": "markdown",
   "id": "37af11b1",
   "metadata": {},
   "source": [
    "### Training Classification Models\n",
    "Using Logistic Regression and K-Nearest Neighbors."
   ]
  },
  {
   "cell_type": "code",
   "execution_count": 10,
   "id": "de813429",
   "metadata": {},
   "outputs": [],
   "source": [
    "# Logistic Regression Model\n",
    "log_reg = LogisticRegression()\n",
    "log_reg.fit(X_train_scaled, y_train)\n",
    "y_pred_log = log_reg.predict(X_test_scaled)\n",
    "\n",
    "# K-Nearest Neighbors Model\n",
    "knn = KNeighborsClassifier(n_neighbors=15)\n",
    "knn.fit(X_train_scaled, y_train)\n",
    "y_pred_knn = knn.predict(X_test_scaled)"
   ]
  },
  {
   "cell_type": "markdown",
   "id": "53959b01",
   "metadata": {},
   "source": [
    "### Model Evaluation\n",
    "Comparing accuracy and classification reports."
   ]
  },
  {
   "cell_type": "code",
   "execution_count": 23,
   "id": "5bf38062-9b3e-4c4c-b98c-abe779e8bfa8",
   "metadata": {},
   "outputs": [
    {
     "name": "stdout",
     "output_type": "stream",
     "text": [
      "\n",
      "Classification Report (Logistic Regression):\n",
      "               precision    recall  f1-score   support\n",
      "\n",
      "           0       0.79      0.78      0.79      6956\n",
      "           1       0.78      0.79      0.79      6951\n",
      "\n",
      "    accuracy                           0.79     13907\n",
      "   macro avg       0.79      0.79      0.79     13907\n",
      "weighted avg       0.79      0.79      0.79     13907\n",
      "\n"
     ]
    }
   ],
   "source": [
    "print(\"\\nClassification Report (Logistic Regression):\\n\", classification_report(y_test, y_pred_log))"
   ]
  },
  {
   "cell_type": "code",
   "execution_count": 24,
   "id": "dbbf42d2",
   "metadata": {},
   "outputs": [
    {
     "name": "stdout",
     "output_type": "stream",
     "text": [
      "Logistic Regression Accuracy: 0.785935140576688\n"
     ]
    }
   ],
   "source": [
    "print(\"Logistic Regression Accuracy:\", accuracy_score(y_test, y_pred_log))"
   ]
  },
  {
   "cell_type": "code",
   "execution_count": null,
   "id": "cd2c6ee5-14a5-4441-ad63-707fc6ac63c5",
   "metadata": {},
   "outputs": [],
   "source": []
  },
  {
   "cell_type": "code",
   "execution_count": 25,
   "id": "b45c18a5-0fc4-4c98-9cd3-d71b7d727f39",
   "metadata": {},
   "outputs": [
    {
     "name": "stdout",
     "output_type": "stream",
     "text": [
      "\n",
      "Classification Report (KNN):\n",
      "               precision    recall  f1-score   support\n",
      "\n",
      "           0       0.94      0.91      0.93      6956\n",
      "           1       0.92      0.94      0.93      6951\n",
      "\n",
      "    accuracy                           0.93     13907\n",
      "   macro avg       0.93      0.93      0.93     13907\n",
      "weighted avg       0.93      0.93      0.93     13907\n",
      "\n"
     ]
    }
   ],
   "source": [
    "print(\"\\nClassification Report (KNN):\\n\", classification_report(y_test, y_pred_knn))"
   ]
  },
  {
   "cell_type": "code",
   "execution_count": null,
   "id": "a17e3965-5cef-46e7-9a6c-4598c30c0488",
   "metadata": {},
   "outputs": [],
   "source": []
  },
  {
   "cell_type": "code",
   "execution_count": 26,
   "id": "4d28f1ca-460a-4388-9c85-024fb3ec423b",
   "metadata": {},
   "outputs": [
    {
     "name": "stdout",
     "output_type": "stream",
     "text": [
      "KNN Accuracy: 0.9278061407924068\n"
     ]
    }
   ],
   "source": [
    "print(\"KNN Accuracy:\", accuracy_score(y_test, y_pred_knn))"
   ]
  },
  {
   "cell_type": "markdown",
   "id": "25fffcd0",
   "metadata": {},
   "source": [
    "### Confusion Matrix\n",
    "Visualizing the model predictions."
   ]
  },
  {
   "cell_type": "code",
   "execution_count": 27,
   "id": "f2fbc6ad",
   "metadata": {},
   "outputs": [
    {
     "data": {
      "text/plain": [
       "Text(0.5, 1.0, 'Logistic Regression Confusion Matrix')"
      ]
     },
     "execution_count": 27,
     "metadata": {},
     "output_type": "execute_result"
    },
    {
     "data": {
      "image/png": "[encoded data removed]",
      "text/plain": [
       "<Figure size 1200x500 with 2 Axes>"
      ]
     },
     "metadata": {},
     "output_type": "display_data"
    }
   ],
   "source": [
    "plt.figure(figsize=(12,5))\n",
    "plt.subplot(1,2,1)\n",
    "sns.heatmap(confusion_matrix(y_test, y_pred_log), annot=True, fmt='d')\n",
    "plt.title(\"Logistic Regression Confusion Matrix\")"
   ]
  },
  {
   "cell_type": "code",
   "execution_count": 28,
   "id": "aa5398a4",
   "metadata": {},
   "outputs": [
    {
     "data": {
      "image/png": "[encoded data removed]",
      "text/plain": [
       "<Figure size 1200x500 with 2 Axes>"
      ]
     },
     "metadata": {},
     "output_type": "display_data"
    }
   ],
   "source": [
    "plt.figure(figsize=(12,5))\n",
    "plt.subplot(1,2,2)\n",
    "sns.heatmap(confusion_matrix(y_test, y_pred_knn), annot=True, fmt='d')\n",
    "plt.title(\"KNN Confusion Matrix\")\n",
    "plt.show()"
   ]
  },
  {
   "cell_type": "markdown",
   "id": "4f7bfec2",
   "metadata": {},
   "source": [
    "\n",
    "## 🍁 **Observation Summary and Analysis of Results** 🍁\n",
    "\n",
    "### **Model Evaluation Results:**\n",
    "1. **Logistic Regression:**\n",
    "   - **Accuracy:** **78.6%**\n",
    "   - **Comments on Classification Model Results:**\n",
    "     - The Precision, recall, and f1-score are all approximately **0.79** for both high and low categories.\n",
    "     - **This Model is balanced but lacks higher precision**.\n",
    "  \n",
    "2. **K-Nearest Neighbors (KNN, k=15):**\n",
    "   - **Accuracy:** **92.8%**\n",
    "   - **Comments on Classification Model Results:**\n",
    "     - There is stronger precision and recall, achieving a **0.93 f1-score**.\n",
    "     - **This model has a Higher accuracy compared to Logistic Regression.**\n",
    "---\n",
    "\n",
    "### **Key Observations**\n",
    "- **KNN performed significantly better than Logistic Regression,** likely due to the spatial and categorical nature of rental price data (where similar locations and unit types have strong relationships).\n",
    "- **Logistic Regression had slightly lower precision and recall,** indicating that it may struggle to separate class boundaries effectively.\n",
    "- **Confusion Matrix results** show that KNN mis-classified fewer data points, making it a stronger candidate for rent classification tasks.\n",
    "\n"
   ]
  }
 ],
 "metadata": {
  "kernelspec": {
   "display_name": "Python 3 (ipykernel)",
   "language": "python",
   "name": "python3"
  },
  "language_info": {
   "codemirror_mode": {
    "name": "ipython",
    "version": 3
   },
   "file_extension": ".py",
   "mimetype": "text/x-python",
   "name": "python",
   "nbconvert_exporter": "python",
   "pygments_lexer": "ipython3",
   "version": "3.11.11"
  }
 },
 "nbformat": 4,
 "nbformat_minor": 5
}
