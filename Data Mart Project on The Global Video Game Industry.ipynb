{
    "metadata": {
        "kernelspec": {
            "name": "SQL",
            "display_name": "SQL",
            "language": "sql"
        },
        "language_info": {
            "name": "sql",
            "version": ""
        }
    },
    "nbformat_minor": 2,
    "nbformat": 4,
    "cells": [
        {
            "cell_type": "markdown",
            "source": [
                "# 🎮🕹️🤖👽\\*\\*~Video Game Industry Datamart Analysis ~\\*\\*👽🤖🕹️🎮\n",
                "\n",
                "This project focuses on the Video Game industry and the different components owing to it's growth and development between 1980 and 2008. It's purpose is to allow for predictive analysis to determine if the market is healthy and lucrative enough to facilitate investment for capital gains. It will also allow for determining the best Video Game Publisher companies to invest in by analysing the following components:\n",
                "\n",
                "- Video Game Titles\n",
                "    \n",
                "- Release Year\n",
                "    \n",
                "- Genre\n",
                "    \n",
                "- Gaming Platform\n",
                "    \n",
                "- Publisher Company\n",
                "    \n",
                "- North America Unit Sales\n",
                "    \n",
                "- Europe Unit Sales\n",
                "    \n",
                "- Japan Unit Sales\n",
                "    \n",
                "\n",
                "🗒️~ The dataset used for this project was received from [Kaggle](https://www.kaggle.com/datasets/ulrikthygepedersen/video-games-sales). ~🗒️\n",
                "\n",
                "🗒️~ This data mart was created based on the principles of Star Schema Design as outlined by [Ralph Kimball](https://www.kimballgroup.com/data-warehouse-business-intelligence-resources/kimball-techniques/dimensional-modeling-techniques/). ~🗒️\n",
                "\n",
                ""
            ],
            "metadata": {
                "azdata_cell_guid": "1959e32d-b611-4eed-a415-a53ecb4790d5"
            },
            "attachments": {}
        }
    ]
}