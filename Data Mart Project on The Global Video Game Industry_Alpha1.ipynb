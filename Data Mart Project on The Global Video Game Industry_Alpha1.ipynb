{
    "metadata": {
        "kernelspec": {
            "name": "SQL",
            "display_name": "SQL",
            "language": "sql"
        },
        "language_info": {
            "name": "sql",
            "version": ""
        }
    },
    "nbformat_minor": 2,
    "nbformat": 4,
    "cells": [
        {
            "cell_type": "markdown",
            "source": [
                "# 🎮🕹️🤖👽Video Game Industry Datamart Analysis👽🤖🕹️🎮\n",
                "\n",
                "This project focuses on the Video Game industry and the different components owing to it's growth and development between 1980 and 2008. It's purpose is to allow for predictive analysis to determine if the market is healthy and lucrative enough to facilitate investment for capital gains. It will also allow for determining the best Video Game Publisher Companies to invest in by analysing the following components:\n",
                "\n",
                "- Video Game Titles\n",
                "    \n",
                "- Release Year\n",
                "    \n",
                "- Genre\n",
                "    \n",
                "- Gaming Platform\n",
                "    \n",
                "- Publisher Company\n",
                "    \n",
                "- North America Unit Sales\n",
                "    \n",
                "- Europe Unit Sales\n",
                "    \n",
                "- Japan Unit Sales\n",
                "    \n",
                "- Unit Sales from Other Regions Worldwide\n",
                "    \n",
                "\n",
                "🗒️ The dataset used for this project was received from [Kaggle](https:\\www.kaggle.com\\datasets\\ulrikthygepedersen\\video-games-sales).\n",
                "\n",
                "🗒️ This data mart was created based on the principles of Star Schema Design as outlined by [Ralph Kimball](https:\\www.kimballgroup.com\\data-warehouse-business-intelligence-resources\\kimball-techniques\\dimensional-modeling-techniques\\)."
            ],
            "metadata": {
                "azdata_cell_guid": "1959e32d-b611-4eed-a415-a53ecb4790d5"
            },
            "attachments": {}
        },
        {
            "cell_type": "markdown",
            "source": [
                "## 🤔Questions addressed with this Data Mart🤔\n",
                "\n",
                "The following questions represent the key points to be addressed with this Data Mart:\n",
                "\n",
                "  \n",
                "\n",
                "1\\. Is the Global Video Game Market viable/profitable for capital gains investment?\n",
                "\n",
                "  \n",
                "\n",
                "2\\. Which market (by Region) is the most lucrative for investment based on sales?\n",
                "\n",
                "  \n",
                "\n",
                "3\\. Which companies are the highest performing and therefore best to invest into?\n",
                "- By answering this question, the following key points will be addressed to curate a detailed response as to why the chosen companies are highly recommended for investing into:\n",
                "     + Which are the Top Performing Publisher Companies?\n",
                "     - What are the Top Performing Gaming Platforms?\n",
                "     + Which is the Top Performing Game Franchise? "
            ],
            "metadata": {
                "azdata_cell_guid": "dedf5b16-4a71-4f0f-9de6-5497bbd113a4"
            },
            "attachments": {}
        },
        {
            "cell_type": "markdown",
            "source": [
                "asdasd"
            ],
            "metadata": {
                "azdata_cell_guid": "0565d92a-9d19-4c42-a7fb-60b87d30c82b"
            },
            "attachments": {}
        }
    ]
}