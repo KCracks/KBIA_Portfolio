{
    "metadata": {
        "kernelspec": {
            "name": "SQL",
            "display_name": "SQL",
            "language": "sql"
        },
        "language_info": {
            "name": "sql",
            "version": ""
        }
    },
    "nbformat_minor": 2,
    "nbformat": 4,
    "cells": [
        {
            "cell_type": "markdown",
            "source": [
                "# 🫡**Tip 1: How to use a query to connect to the required Database**\n",
                "\n",
                "The following query simply uses a simple query to connect to the requisite database. This is a simple, yet arguably important step to ensure that your query is always run in the correct database and mitigate against common runtime errors related to not being in the correct database."
            ],
            "metadata": {
                "azdata_cell_guid": "08c32025-9261-4b82-8bc3-863a4bc9421d"
            },
            "attachments": {}
        },
        {
            "cell_type": "code",
            "source": [
                "/*\r\n",
                "-- Code structure:\r\n",
                "____________________\r\n",
                "\r\n",
                "USE [database_name];\r\n",
                "GO\r\n",
                "*/"
            ],
            "metadata": {
                "azdata_cell_guid": "f0117908-1459-4a07-99f6-dcdfbd8433ca",
                "language": "sql"
            },
            "outputs": [],
            "execution_count": null
        },
        {
            "cell_type": "code",
            "source": [
                "-- Example:\r\n",
                "USE w3schools_tutor3;\r\n",
                "GO"
            ],
            "metadata": {
                "azdata_cell_guid": "9d0aaa2a-16b4-43ca-8782-8626735ff728",
                "language": "sql",
                "tags": []
            },
            "outputs": [
                {
                    "output_type": "display_data",
                    "data": {
                        "text/html": "Commands completed successfully."
                    },
                    "metadata": {}
                },
                {
                    "output_type": "display_data",
                    "data": {
                        "text/html": "Total execution time: 00:00:00.001"
                    },
                    "metadata": {}
                }
            ],
            "execution_count": 6
        },
        {
            "cell_type": "markdown",
            "source": [
                "# **🤌Tip 2: How to create a simple SELECT query**\n",
                "\n",
                "The following query simply uses the SELECT statement to display the Top 5 rows for all fields in the Supplier table from the w3schools database:"
            ],
            "metadata": {
                "azdata_cell_guid": "ea14f478-f5f0-4c49-9bb3-cf2e4af5a24d"
            },
            "attachments": {}
        },
        {
            "cell_type": "code",
            "source": [
                "/*\r\n",
                "Code structure:\r\n",
                "___________________\r\n",
                "\r\n",
                "USE [database_name];\r\n",
                "GO\r\n",
                "\r\n",
                "SELECT [column_name]\r\n",
                "FROM [table_name]\r\n",
                ";\r\n",
                "*/"
            ],
            "metadata": {
                "azdata_cell_guid": "8b3d57c9-4f27-465c-9780-a01611272e96",
                "language": "sql"
            },
            "outputs": [],
            "execution_count": null
        },
        {
            "cell_type": "code",
            "source": [
                "-- Example:\r\n",
                "USE w3schools_tutor3;\r\n",
                "GO\r\n",
                "\r\n",
                "SELECT Top 5 *\r\n",
                "FROM Suppliers\r\n",
                ";"
            ],
            "metadata": {
                "azdata_cell_guid": "6c1c93c0-d6ea-4006-a00a-a4877784ed02",
                "language": "sql"
            },
            "outputs": [
                {
                    "output_type": "display_data",
                    "data": {
                        "text/html": "Commands completed successfully."
                    },
                    "metadata": {}
                },
                {
                    "output_type": "display_data",
                    "data": {
                        "text/html": "(5 rows affected)"
                    },
                    "metadata": {}
                },
                {
                    "output_type": "display_data",
                    "data": {
                        "text/html": "Total execution time: 00:00:00.033"
                    },
                    "metadata": {}
                },
                {
                    "output_type": "execute_result",
                    "execution_count": 5,
                    "data": {
                        "application/vnd.dataresource+json": {
                            "schema": {
                                "fields": [
                                    {
                                        "name": "SupplierID"
                                    },
                                    {
                                        "name": "SupplierName"
                                    },
                                    {
                                        "name": "ContactName"
                                    },
                                    {
                                        "name": "Address"
                                    },
                                    {
                                        "name": "City"
                                    },
                                    {
                                        "name": "PostalCode"
                                    },
                                    {
                                        "name": "Country"
                                    },
                                    {
                                        "name": "Phone"
                                    }
                                ]
                            },
                            "data": [
                                {
                                    "SupplierID": "1",
                                    "SupplierName": "Exotic Liquid",
                                    "ContactName": "Charlotte Cooper",
                                    "Address": "49 Gilbert St.",
                                    "City": "Londona",
                                    "PostalCode": "EC1 4SD",
                                    "Country": "UK",
                                    "Phone": "(171) 555-2222"
                                },
                                {
                                    "SupplierID": "2",
                                    "SupplierName": "New Orleans Cajun Delights",
                                    "ContactName": "Shelley Burke",
                                    "Address": "P.O. Box 78934",
                                    "City": "New Orleans",
                                    "PostalCode": "70117",
                                    "Country": "USA",
                                    "Phone": "(100) 555-4822"
                                },
                                {
                                    "SupplierID": "3",
                                    "SupplierName": "Grandma Kelly's Homestead",
                                    "ContactName": "Regina Murphy",
                                    "Address": "707 Oxford Rd.",
                                    "City": "Ann Arbor",
                                    "PostalCode": "48104",
                                    "Country": "USA",
                                    "Phone": "(313) 555-5735"
                                },
                                {
                                    "SupplierID": "4",
                                    "SupplierName": "Tokyo Traders",
                                    "ContactName": "Yoshi Nagase",
                                    "Address": "9-8 Sekimai Musashino-shi",
                                    "City": "Tokyo",
                                    "PostalCode": "100",
                                    "Country": "Japan",
                                    "Phone": "(03) 3555-5011"
                                },
                                {
                                    "SupplierID": "5",
                                    "SupplierName": "Cooperativa de Quesos 'Las Cabras'",
                                    "ContactName": "Antonio del Valle Saavedra ",
                                    "Address": "Calle del Rosal 4",
                                    "City": "Oviedo",
                                    "PostalCode": "33007",
                                    "Country": "Spain",
                                    "Phone": "(98) 598 76 54"
                                }
                            ]
                        },
                        "text/html": "<table><tr><th>SupplierID</th><th>SupplierName</th><th>ContactName</th><th>Address</th><th>City</th><th>PostalCode</th><th>Country</th><th>Phone</th></tr><tr><td>1</td><td>Exotic Liquid</td><td>Charlotte Cooper</td><td>49 Gilbert St.</td><td>Londona</td><td>EC1 4SD</td><td>UK</td><td>(171) 555-2222</td></tr><tr><td>2</td><td>New Orleans Cajun Delights</td><td>Shelley Burke</td><td>P.O. Box 78934</td><td>New Orleans</td><td>70117</td><td>USA</td><td>(100) 555-4822</td></tr><tr><td>3</td><td>Grandma Kelly&#39;s Homestead</td><td>Regina Murphy</td><td>707 Oxford Rd.</td><td>Ann Arbor</td><td>48104</td><td>USA</td><td>(313) 555-5735</td></tr><tr><td>4</td><td>Tokyo Traders</td><td>Yoshi Nagase</td><td>9-8 Sekimai Musashino-shi</td><td>Tokyo</td><td>100</td><td>Japan</td><td>(03) 3555-5011</td></tr><tr><td>5</td><td>Cooperativa de Quesos &#39;Las Cabras&#39;</td><td>Antonio del Valle Saavedra </td><td>Calle del Rosal 4</td><td>Oviedo</td><td>33007</td><td>Spain</td><td>(98) 598 76 54</td></tr></table>"
                    },
                    "metadata": {}
                }
            ],
            "execution_count": 5
        },
        {
            "cell_type": "markdown",
            "source": [
                "# **🥸Tip 3: How to use Aliases**\n",
                "\n",
                "The following query uses secondary names to define the output field names; note that you do not always have to put the secondary names in quotations, however, it is best practice and even recommended to do so to avoid potential errors, especially for aliases that utilize \"reserved words/commands\" (such as Min/Max) and if there is a space in the name. Aliases are useful for not only renaming field names, but to simplify your code for legiblity (as in the case of giving aliases to referenced databases, and tables)."
            ],
            "metadata": {
                "azdata_cell_guid": "5cb83d00-b552-4c95-943e-1c0128006e69"
            },
            "attachments": {}
        },
        {
            "cell_type": "code",
            "source": [
                "/*\r\n",
                "Code Structure:\r\n",
                "_____________________\r\n",
                "\r\n",
                "USE [Database_name];\r\n",
                "GO\r\n",
                "\r\n",
                "SELECT [column_name] as 'alias_name'\r\n",
                "FROM [table_name]\r\n",
                ";\r\n",
                "*/"
            ],
            "metadata": {
                "azdata_cell_guid": "8a1d666d-7a51-4595-873c-217bc56ea130",
                "language": "sql"
            },
            "outputs": [],
            "execution_count": null
        },
        {
            "cell_type": "code",
            "source": [
                "-- Example:\r\n",
                "USE w3schools_tutor3;\r\n",
                "GO\r\n",
                "\r\n",
                "SELECT Top 5 ProductID as PId\r\n",
                "            ,ProductName as 'PName'\r\n",
                "            ,SupplierID as 'SupId'\r\n",
                "            ,CategoryID as 'CatId'\r\n",
                "            ,Unit\r\n",
                "            ,Price\r\n",
                "FROM dbo.Products prod\r\n",
                ";"
            ],
            "metadata": {
                "azdata_cell_guid": "2cab707a-2f4f-46be-8000-ee8e8d6503d5",
                "language": "sql"
            },
            "outputs": [
                {
                    "output_type": "display_data",
                    "data": {
                        "text/html": "Commands completed successfully."
                    },
                    "metadata": {}
                },
                {
                    "output_type": "display_data",
                    "data": {
                        "text/html": "(5 rows affected)"
                    },
                    "metadata": {}
                },
                {
                    "output_type": "display_data",
                    "data": {
                        "text/html": "Total execution time: 00:00:00.026"
                    },
                    "metadata": {}
                },
                {
                    "output_type": "execute_result",
                    "execution_count": 8,
                    "data": {
                        "application/vnd.dataresource+json": {
                            "schema": {
                                "fields": [
                                    {
                                        "name": "PId"
                                    },
                                    {
                                        "name": "PName"
                                    },
                                    {
                                        "name": "SupId"
                                    },
                                    {
                                        "name": "CatId"
                                    },
                                    {
                                        "name": "Unit"
                                    },
                                    {
                                        "name": "Price"
                                    }
                                ]
                            },
                            "data": [
                                {
                                    "PId": "1",
                                    "PName": "Chais",
                                    "SupId": "1",
                                    "CatId": "1",
                                    "Unit": "NULL",
                                    "Price": "18.00"
                                },
                                {
                                    "PId": "2",
                                    "PName": "Chang",
                                    "SupId": "1",
                                    "CatId": "1",
                                    "Unit": "NULL",
                                    "Price": "19.00"
                                },
                                {
                                    "PId": "3",
                                    "PName": "Aniseed Syrup",
                                    "SupId": "1",
                                    "CatId": "2",
                                    "Unit": "NULL",
                                    "Price": "10.00"
                                },
                                {
                                    "PId": "4",
                                    "PName": "Chef Anton's Cajun Seasoning",
                                    "SupId": "2",
                                    "CatId": "2",
                                    "Unit": "NULL",
                                    "Price": "22.00"
                                },
                                {
                                    "PId": "5",
                                    "PName": "Chef Anton's Gumbo Mix",
                                    "SupId": "2",
                                    "CatId": "2",
                                    "Unit": "NULL",
                                    "Price": "21.35"
                                }
                            ]
                        },
                        "text/html": "<table><tr><th>PId</th><th>PName</th><th>SupId</th><th>CatId</th><th>Unit</th><th>Price</th></tr><tr><td>1</td><td>Chais</td><td>1</td><td>1</td><td>NULL</td><td>18.00</td></tr><tr><td>2</td><td>Chang</td><td>1</td><td>1</td><td>NULL</td><td>19.00</td></tr><tr><td>3</td><td>Aniseed Syrup</td><td>1</td><td>2</td><td>NULL</td><td>10.00</td></tr><tr><td>4</td><td>Chef Anton&#39;s Cajun Seasoning</td><td>2</td><td>2</td><td>NULL</td><td>22.00</td></tr><tr><td>5</td><td>Chef Anton&#39;s Gumbo Mix</td><td>2</td><td>2</td><td>NULL</td><td>21.35</td></tr></table>"
                    },
                    "metadata": {}
                }
            ],
            "execution_count": 8
        },
        {
            "cell_type": "markdown",
            "source": [
                "# **🤓Tip 4: How to use Agrregate Functions (Average, Sum, Minimum, and Maximum Values)**\n",
                "\n",
                "The following query uses the AVG, SUM, MIN, and MAX aggregate functions to determine the Average, Sum, Minimum and Maximum values for the \"Price\" field from the \"Products\" table:"
            ],
            "metadata": {
                "language": "sql",
                "azdata_cell_guid": "b8229a02-625f-40ea-aeed-e5e49a651ce8"
            },
            "attachments": {}
        },
        {
            "cell_type": "code",
            "source": [
                "/*\r\n",
                "Code Structure:\r\n",
                "_____________________\r\n",
                "\r\n",
                "USE [database_name];\r\n",
                "GO\r\n",
                "\r\n",
                "SELECT AGGREGATE FUNCTION([column_name])\r\n",
                "FROM [table_name]\r\n",
                ";\r\n",
                "*/"
            ],
            "metadata": {
                "language": "sql",
                "azdata_cell_guid": "e3420386-a2e5-4cfc-8eff-c5c8769c359b"
            },
            "outputs": [],
            "execution_count": null
        },
        {
            "cell_type": "code",
            "source": [
                "-- Example:\r\n",
                "USE w3schools_tutor3;\r\n",
                "GO\r\n",
                "\r\n",
                "SELECT AVG(Price) as 'AVG_Price'\r\n",
                "      ,SUM(Price) as 'Total_Price'\r\n",
                "      ,MIN(Price) as 'Lowest_Price'\r\n",
                "      ,MAX(Price) as 'Highest_Price'\r\n",
                "FROM Products Prod\r\n",
                ";"
            ],
            "metadata": {
                "azdata_cell_guid": "bed1ddcb-511c-458d-b90b-8db1931d4d3a",
                "language": "sql"
            },
            "outputs": [
                {
                    "output_type": "display_data",
                    "data": {
                        "text/html": "Commands completed successfully."
                    },
                    "metadata": {}
                },
                {
                    "output_type": "display_data",
                    "data": {
                        "text/html": "(1 row affected)"
                    },
                    "metadata": {}
                },
                {
                    "output_type": "display_data",
                    "data": {
                        "text/html": "Total execution time: 00:00:00.016"
                    },
                    "metadata": {}
                },
                {
                    "output_type": "execute_result",
                    "execution_count": 5,
                    "data": {
                        "application/vnd.dataresource+json": {
                            "schema": {
                                "fields": [
                                    {
                                        "name": "AVG_Price"
                                    },
                                    {
                                        "name": "Total_Price"
                                    },
                                    {
                                        "name": "Lowest_Price"
                                    },
                                    {
                                        "name": "Highest_Price"
                                    }
                                ]
                            },
                            "data": [
                                {
                                    "AVG_Price": "28.8663",
                                    "Total_Price": "2222.71",
                                    "Lowest_Price": "2.50",
                                    "Highest_Price": "263.50"
                                }
                            ]
                        },
                        "text/html": "<table><tr><th>AVG_Price</th><th>Total_Price</th><th>Lowest_Price</th><th>Highest_Price</th></tr><tr><td>28.8663</td><td>2222.71</td><td>2.50</td><td>263.50</td></tr></table>"
                    },
                    "metadata": {}
                }
            ],
            "execution_count": 5
        },
        {
            "cell_type": "markdown",
            "source": [
                "# **🤷‍♂️Tip 5: How to use the WHERE clause**\n",
                "\n",
                "The following query uses the WHERE clause to filter specific records from the \"Products\" table that satisfy specific conditions:"
            ],
            "metadata": {
                "language": "sql",
                "azdata_cell_guid": "7f1d1154-1ad8-4b47-b521-f0133cab4edc"
            },
            "attachments": {}
        },
        {
            "cell_type": "code",
            "source": [
                "/*\r\n",
                "Code Structure:\r\n",
                "_____________________\r\n",
                "\r\n",
                "USE [database_name];\r\n",
                "GO\r\n",
                "\r\n",
                "SELECT [column_name]\r\n",
                "FROM [table_name]\r\n",
                "WHERE [column_name] condition with operator\r\n",
                ";\r\n",
                "*/\r\n",
                "\r\n",
                "-- Operators: =, <, >, >=, <=, <>, BETWEEN, LIKE, IN"
            ],
            "metadata": {
                "language": "sql",
                "azdata_cell_guid": "bd23ab24-64aa-4d12-ab80-4ab4388fdbf1"
            },
            "outputs": [],
            "execution_count": null
        },
        {
            "cell_type": "code",
            "source": [
                "-- Example:\r\n",
                "USE w3schools_tutor3;\r\n",
                "GO\r\n",
                "\r\n",
                "SELECT Top 5 ProductName as 'PName'\r\n",
                "            ,SupplierID as 'SupId'\r\n",
                "            ,CategoryID as 'CatId'\r\n",
                "            ,Price\r\n",
                "FROM dbo.Products prod\r\n",
                "WHERE Price >= 10\r\n",
                ";"
            ],
            "metadata": {
                "language": "sql",
                "azdata_cell_guid": "08e50518-5302-4e91-be59-e0e096938531",
                "tags": []
            },
            "outputs": [
                {
                    "output_type": "display_data",
                    "data": {
                        "text/html": "Commands completed successfully."
                    },
                    "metadata": {}
                },
                {
                    "output_type": "display_data",
                    "data": {
                        "text/html": "(5 rows affected)"
                    },
                    "metadata": {}
                },
                {
                    "output_type": "display_data",
                    "data": {
                        "text/html": "Total execution time: 00:00:00.070"
                    },
                    "metadata": {}
                },
                {
                    "output_type": "execute_result",
                    "execution_count": 9,
                    "data": {
                        "application/vnd.dataresource+json": {
                            "schema": {
                                "fields": [
                                    {
                                        "name": "PName"
                                    },
                                    {
                                        "name": "SupId"
                                    },
                                    {
                                        "name": "CatId"
                                    },
                                    {
                                        "name": "Price"
                                    }
                                ]
                            },
                            "data": [
                                {
                                    "PName": "Chais",
                                    "SupId": "1",
                                    "CatId": "1",
                                    "Price": "18.00"
                                },
                                {
                                    "PName": "Chang",
                                    "SupId": "1",
                                    "CatId": "1",
                                    "Price": "19.00"
                                },
                                {
                                    "PName": "Aniseed Syrup",
                                    "SupId": "1",
                                    "CatId": "2",
                                    "Price": "10.00"
                                },
                                {
                                    "PName": "Chef Anton's Cajun Seasoning",
                                    "SupId": "2",
                                    "CatId": "2",
                                    "Price": "22.00"
                                },
                                {
                                    "PName": "Chef Anton's Gumbo Mix",
                                    "SupId": "2",
                                    "CatId": "2",
                                    "Price": "21.35"
                                }
                            ]
                        },
                        "text/html": "<table><tr><th>PName</th><th>SupId</th><th>CatId</th><th>Price</th></tr><tr><td>Chais</td><td>1</td><td>1</td><td>18.00</td></tr><tr><td>Chang</td><td>1</td><td>1</td><td>19.00</td></tr><tr><td>Aniseed Syrup</td><td>1</td><td>2</td><td>10.00</td></tr><tr><td>Chef Anton&#39;s Cajun Seasoning</td><td>2</td><td>2</td><td>22.00</td></tr><tr><td>Chef Anton&#39;s Gumbo Mix</td><td>2</td><td>2</td><td>21.35</td></tr></table>"
                    },
                    "metadata": {}
                }
            ],
            "execution_count": 9
        },
        {
            "cell_type": "markdown",
            "source": [
                "# **🤷‍♂️Tip 6: How to use the Group By statement**\n",
                "\n",
                "The following query uses the Group By clause to filter specific records from the \"DimProduct\" table that satisfy specific conditions:"
            ],
            "metadata": {
                "language": "sql",
                "azdata_cell_guid": "9e312d53-08bf-4e63-86cf-59e9a2669e14"
            },
            "attachments": {}
        },
        {
            "cell_type": "code",
            "source": [
                "/*\r\n",
                "Code Structure:\r\n",
                "____________________\r\n",
                "\r\n",
                "SELECT [column_name]\r\n",
                "FROM [table_name]\r\n",
                "WHERE [condition]\r\n",
                "GROUP BY [column_name]\r\n",
                ";\r\n",
                "\r\n",
                "-- NOTE: Group By statement is usually used with an aggregate function (all columns not listed in aggregate function must be listed back in aggregate statement)."
            ],
            "metadata": {
                "language": "sql",
                "azdata_cell_guid": "65a41103-6e2c-438f-a123-f8bf69c6c981"
            },
            "outputs": [],
            "execution_count": null
        },
        {
            "cell_type": "code",
            "source": [
                "-- Example:\r\n",
                "USE AdventureWorksDW2022;\r\n",
                "GO\r\n",
                "\r\n",
                "SELECT Top 5 EnglishProductName as 'product_name'\r\n",
                "                      ,Style\r\n",
                "                      ,AVG(ListPrice) as 'Avg_Price'\r\n",
                "                      ,StandardCost as 'std_cost'\r\n",
                "FROM dbo.DimProduct\r\n",
                "WHERE StandardCost > 6\r\n",
                "GROUP BY EnglishProductName\r\n",
                "        ,Class\r\n",
                "        ,Style\r\n",
                "        ,StandardCost\r\n",
                ";"
            ],
            "metadata": {
                "language": "sql",
                "azdata_cell_guid": "3de9711e-9ee8-417a-82f7-8d5a37274d09",
                "tags": []
            },
            "outputs": [
                {
                    "output_type": "display_data",
                    "data": {
                        "text/html": "Commands completed successfully."
                    },
                    "metadata": {}
                },
                {
                    "output_type": "display_data",
                    "data": {
                        "text/html": "(5 rows affected)"
                    },
                    "metadata": {}
                },
                {
                    "output_type": "display_data",
                    "data": {
                        "text/html": "Total execution time: 00:00:00.020"
                    },
                    "metadata": {}
                },
                {
                    "output_type": "execute_result",
                    "execution_count": 21,
                    "data": {
                        "application/vnd.dataresource+json": {
                            "schema": {
                                "fields": [
                                    {
                                        "name": "product_name"
                                    },
                                    {
                                        "name": "Style"
                                    },
                                    {
                                        "name": "Avg_Price"
                                    },
                                    {
                                        "name": "std_cost"
                                    }
                                ]
                            },
                            "data": [
                                {
                                    "product_name": "All-Purpose Bike Stand",
                                    "Style": "NULL",
                                    "Avg_Price": "159.00",
                                    "std_cost": "59.466"
                                },
                                {
                                    "product_name": "AWC Logo Cap",
                                    "Style": "U ",
                                    "Avg_Price": "8.99",
                                    "std_cost": "6.9223"
                                },
                                {
                                    "product_name": "Cable Lock",
                                    "Style": "NULL",
                                    "Avg_Price": "25.00",
                                    "std_cost": "10.3125"
                                },
                                {
                                    "product_name": "Chain",
                                    "Style": "NULL",
                                    "Avg_Price": "20.24",
                                    "std_cost": "8.9866"
                                },
                                {
                                    "product_name": "Classic Vest, L",
                                    "Style": "U ",
                                    "Avg_Price": "63.50",
                                    "std_cost": "23.749"
                                }
                            ]
                        },
                        "text/html": "<table><tr><th>product_name</th><th>Style</th><th>Avg_Price</th><th>std_cost</th></tr><tr><td>All-Purpose Bike Stand</td><td>NULL</td><td>159.00</td><td>59.466</td></tr><tr><td>AWC Logo Cap</td><td>U </td><td>8.99</td><td>6.9223</td></tr><tr><td>Cable Lock</td><td>NULL</td><td>25.00</td><td>10.3125</td></tr><tr><td>Chain</td><td>NULL</td><td>20.24</td><td>8.9866</td></tr><tr><td>Classic Vest, L</td><td>U </td><td>63.50</td><td>23.749</td></tr></table>"
                    },
                    "metadata": {}
                }
            ],
            "execution_count": 21
        },
        {
            "cell_type": "markdown",
            "source": [
                "# **🤷‍♂️Tip 7: How to use the Order By statement**\n",
                "\n",
                "The following query uses the Order By clause to filter specific records from the \"DimProduct\" table that satisfy specific conditions:"
            ],
            "metadata": {
                "language": "sql",
                "azdata_cell_guid": "c783a725-fb3a-4bed-8c06-ecf57a2f23d0"
            },
            "attachments": {}
        },
        {
            "cell_type": "code",
            "source": [
                "/*\r\n",
                "Code Structure:\r\n",
                "_____________________\r\n",
                "SELECT [column1], [column2], etc...\r\n",
                "FROM [table_name]\r\n",
                "WHERE [condition]\r\n",
                "GROUP BY [column_name]\r\n",
                "ORDER BY [column1], [column2], ... ASC|DESC\r\n",
                ";\r\n",
                "\r\n",
                "-- NOTE: The ORDER BY statement sorts in ascending order by default. To sort the records in descending order, use the DESC keyword."
            ],
            "metadata": {
                "language": "sql",
                "azdata_cell_guid": "37127376-a9ec-493f-abfc-477a23538282"
            },
            "outputs": [],
            "execution_count": null
        },
        {
            "cell_type": "code",
            "source": [
                "-- Example:\r\n",
                "USE AdventureWorksDW2022;\r\n",
                "GO\r\n",
                "\r\n",
                "SELECT Top 5 EnglishProductName as 'product_name'\r\n",
                "                      ,Style\r\n",
                "                      ,AVG(ListPrice) as 'Avg_Price'\r\n",
                "                      ,StandardCost as 'std_cost'\r\n",
                "FROM dbo.DimProduct\r\n",
                "WHERE StandardCost > 6\r\n",
                "GROUP BY EnglishProductName\r\n",
                "        ,Class\r\n",
                "        ,Style\r\n",
                "        ,StandardCost\r\n",
                "ORDER BY product_name DESC\r\n",
                ";"
            ],
            "metadata": {
                "language": "sql",
                "azdata_cell_guid": "b57d460a-6cda-467c-acf4-1324b2008d2c"
            },
            "outputs": [
                {
                    "output_type": "display_data",
                    "data": {
                        "text/html": "Commands completed successfully."
                    },
                    "metadata": {}
                },
                {
                    "output_type": "display_data",
                    "data": {
                        "text/html": "(5 rows affected)"
                    },
                    "metadata": {}
                },
                {
                    "output_type": "display_data",
                    "data": {
                        "text/html": "Total execution time: 00:00:00.045"
                    },
                    "metadata": {}
                },
                {
                    "output_type": "execute_result",
                    "execution_count": 22,
                    "data": {
                        "application/vnd.dataresource+json": {
                            "schema": {
                                "fields": [
                                    {
                                        "name": "product_name"
                                    },
                                    {
                                        "name": "Style"
                                    },
                                    {
                                        "name": "Avg_Price"
                                    },
                                    {
                                        "name": "std_cost"
                                    }
                                ]
                            },
                            "data": [
                                {
                                    "product_name": "Women's Tights, S",
                                    "Style": "W ",
                                    "Avg_Price": "74.99",
                                    "std_cost": "30.9334"
                                },
                                {
                                    "product_name": "Women's Tights, M",
                                    "Style": "W ",
                                    "Avg_Price": "74.99",
                                    "std_cost": "30.9334"
                                },
                                {
                                    "product_name": "Women's Tights, L",
                                    "Style": "W ",
                                    "Avg_Price": "74.99",
                                    "std_cost": "30.9334"
                                },
                                {
                                    "product_name": "Women's Mountain Shorts, S",
                                    "Style": "W ",
                                    "Avg_Price": "69.99",
                                    "std_cost": "26.1763"
                                },
                                {
                                    "product_name": "Women's Mountain Shorts, M",
                                    "Style": "W ",
                                    "Avg_Price": "69.99",
                                    "std_cost": "26.1763"
                                }
                            ]
                        },
                        "text/html": "<table><tr><th>product_name</th><th>Style</th><th>Avg_Price</th><th>std_cost</th></tr><tr><td>Women&#39;s Tights, S</td><td>W </td><td>74.99</td><td>30.9334</td></tr><tr><td>Women&#39;s Tights, M</td><td>W </td><td>74.99</td><td>30.9334</td></tr><tr><td>Women&#39;s Tights, L</td><td>W </td><td>74.99</td><td>30.9334</td></tr><tr><td>Women&#39;s Mountain Shorts, S</td><td>W </td><td>69.99</td><td>26.1763</td></tr><tr><td>Women&#39;s Mountain Shorts, M</td><td>W </td><td>69.99</td><td>26.1763</td></tr></table>"
                    },
                    "metadata": {}
                }
            ],
            "execution_count": 22
        },
        {
            "cell_type": "markdown",
            "source": [
                "# **🤷‍♂️Tip 8: How to use Wildcards**\n",
                "\n",
                "\\- A wildcard character is used to substitute one or more characters in a string.\n",
                "\n",
                "\\- Wildcard characters are used with the LIKE operator; the LIKE operator is used in a WHERE clause to search for a specified pattern in a column.\n",
                "\n",
                "The following query uses Wildacrds to filter specific records from the \"DimProduct\" table that satisfy specific conditions:"
            ],
            "metadata": {
                "language": "sql",
                "azdata_cell_guid": "7aafb26f-a842-4ea7-b4ce-1a87f4d8808c"
            },
            "attachments": {}
        },
        {
            "cell_type": "code",
            "source": [
                "/*\r\n",
                "Code Structure:\r\n",
                "____________________\r\n",
                "\r\n",
                "SELECT [column_name]\r\n",
                "FROM [table_name]\r\n",
                "WHERE [column_name] LIKE 'a%'\r\n",
                ";\r\n",
                "\r\n",
                "-- NOTE: The following are exaples of wildcard combinations:\r\n",
                "\r\n",
                "WHERE CustomerName LIKE 'a%'\tFinds any values that starts with \"a\"\r\n",
                "WHERE CustomerName LIKE '%a'\tFinds any values that ends with \"a\"\r\n",
                "WHERE CustomerName LIKE '%or%'\tFinds any values that have \"or\" in any position\r\n",
                "WHERE CustomerName LIKE '_r%'\tFinds any values that have \"r\" in the second position\r\n",
                "WHERE CustomerName LIKE 'a_%_%'\tFinds any values that starts with \"a\" and are at least 3 characters in length\r\n",
                "WHERE ContactName LIKE 'a%o'\tFinds any values that starts with \"a\" and ends with \"o\""
            ],
            "metadata": {
                "language": "sql",
                "azdata_cell_guid": "a477b3d7-7549-4647-9c9a-69ed81017b6d"
            },
            "outputs": [],
            "execution_count": null
        },
        {
            "cell_type": "code",
            "source": [
                "-- Example:\r\n",
                "USE AdventureWorksDW2022;\r\n",
                "GO\r\n",
                "\r\n",
                "SELECT Top 5 EnglishProductName as 'product_name'\r\n",
                "                      ,Style\r\n",
                "                      ,ListPrice\r\n",
                "                      ,StandardCost as 'std_cost'\r\n",
                "FROM dbo.DimProduct\r\n",
                "WHERE EnglishProductName LIKE 'd%e'\r\n",
                ";"
            ],
            "metadata": {
                "language": "sql",
                "azdata_cell_guid": "bfe2a890-d537-4a76-9cbf-eeaf825179c2"
            },
            "outputs": [
                {
                    "output_type": "display_data",
                    "data": {
                        "text/html": "Commands completed successfully."
                    },
                    "metadata": {}
                },
                {
                    "output_type": "display_data",
                    "data": {
                        "text/html": "(1 row affected)"
                    },
                    "metadata": {}
                },
                {
                    "output_type": "display_data",
                    "data": {
                        "text/html": "Total execution time: 00:00:00.017"
                    },
                    "metadata": {}
                },
                {
                    "output_type": "execute_result",
                    "execution_count": 29,
                    "data": {
                        "application/vnd.dataresource+json": {
                            "schema": {
                                "fields": [
                                    {
                                        "name": "product_name"
                                    },
                                    {
                                        "name": "Style"
                                    },
                                    {
                                        "name": "ListPrice"
                                    },
                                    {
                                        "name": "std_cost"
                                    }
                                ]
                            },
                            "data": [
                                {
                                    "product_name": "Down Tube",
                                    "Style": "NULL",
                                    "ListPrice": "NULL",
                                    "std_cost": "NULL"
                                }
                            ]
                        },
                        "text/html": "<table><tr><th>product_name</th><th>Style</th><th>ListPrice</th><th>std_cost</th></tr><tr><td>Down Tube</td><td>NULL</td><td>NULL</td><td>NULL</td></tr></table>"
                    },
                    "metadata": {}
                }
            ],
            "execution_count": 29
        },
        {
            "cell_type": "markdown",
            "source": [
                "# **🤷‍♂️Tip 9: How to use the Having statement**\n",
                "\n",
                "The following query uses the Order By clause to filter specific records from the \"DimProduct\" table that satisfy specific conditions"
            ],
            "metadata": {
                "language": "sql",
                "azdata_cell_guid": "da0083a3-0af2-4df8-b802-8d5118a01bc2"
            },
            "attachments": {}
        }
    ]
}