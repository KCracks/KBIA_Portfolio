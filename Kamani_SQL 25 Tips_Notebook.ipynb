{
    "metadata": {
        "kernelspec": {
            "name": "SQL",
            "display_name": "SQL",
            "language": "sql"
        },
        "language_info": {
            "name": "sql",
            "version": ""
        }
    },
    "nbformat_minor": 2,
    "nbformat": 4,
    "cells": [
        {
            "cell_type": "markdown",
            "source": [
                "# 🫡**Tip 1: How to use a query to connect to the required Database**\n",
                "\n",
                "The following query simply uses a simple query to connect to the requisite database. This is a simple, yet arguably important step to ensure that your query is always run in the correct database and mitigate against common runtime errors related to not being in the correct database."
            ],
            "metadata": {
                "azdata_cell_guid": "08c32025-9261-4b82-8bc3-863a4bc9421d"
            },
            "attachments": {}
        },
        {
            "cell_type": "code",
            "source": [
                "USE w3schools_tutor3;\r\n",
                "GO"
            ],
            "metadata": {
                "azdata_cell_guid": "9d0aaa2a-16b4-43ca-8782-8626735ff728",
                "language": "sql"
            },
            "outputs": [
                {
                    "output_type": "display_data",
                    "data": {
                        "text/html": "Commands completed successfully."
                    },
                    "metadata": {}
                },
                {
                    "output_type": "display_data",
                    "data": {
                        "text/html": "Total execution time: 00:00:00.001"
                    },
                    "metadata": {}
                }
            ],
            "execution_count": 6
        },
        {
            "cell_type": "markdown",
            "source": [
                "# **🤌Tip 2: How to create a simple SELECT query**\n",
                "\n",
                "The following query simply uses the SELECT statement to display the Top 5 rows for all fields in the Supplier table from the w3schools database:"
            ],
            "metadata": {
                "azdata_cell_guid": "ea14f478-f5f0-4c49-9bb3-cf2e4af5a24d"
            },
            "attachments": {}
        },
        {
            "cell_type": "code",
            "source": [
                "USE w3schools_tutor3;\r\n",
                "GO\r\n",
                "\r\n",
                "SELECT Top 5 *\r\n",
                "FROM Suppliers\r\n",
                ";"
            ],
            "metadata": {
                "azdata_cell_guid": "6c1c93c0-d6ea-4006-a00a-a4877784ed02",
                "language": "sql"
            },
            "outputs": [
                {
                    "output_type": "display_data",
                    "data": {
                        "text/html": "Commands completed successfully."
                    },
                    "metadata": {}
                },
                {
                    "output_type": "display_data",
                    "data": {
                        "text/html": "(5 rows affected)"
                    },
                    "metadata": {}
                },
                {
                    "output_type": "display_data",
                    "data": {
                        "text/html": "Total execution time: 00:00:00.033"
                    },
                    "metadata": {}
                },
                {
                    "output_type": "execute_result",
                    "execution_count": 5,
                    "data": {
                        "application/vnd.dataresource+json": {
                            "schema": {
                                "fields": [
                                    {
                                        "name": "SupplierID"
                                    },
                                    {
                                        "name": "SupplierName"
                                    },
                                    {
                                        "name": "ContactName"
                                    },
                                    {
                                        "name": "Address"
                                    },
                                    {
                                        "name": "City"
                                    },
                                    {
                                        "name": "PostalCode"
                                    },
                                    {
                                        "name": "Country"
                                    },
                                    {
                                        "name": "Phone"
                                    }
                                ]
                            },
                            "data": [
                                {
                                    "SupplierID": "1",
                                    "SupplierName": "Exotic Liquid",
                                    "ContactName": "Charlotte Cooper",
                                    "Address": "49 Gilbert St.",
                                    "City": "Londona",
                                    "PostalCode": "EC1 4SD",
                                    "Country": "UK",
                                    "Phone": "(171) 555-2222"
                                },
                                {
                                    "SupplierID": "2",
                                    "SupplierName": "New Orleans Cajun Delights",
                                    "ContactName": "Shelley Burke",
                                    "Address": "P.O. Box 78934",
                                    "City": "New Orleans",
                                    "PostalCode": "70117",
                                    "Country": "USA",
                                    "Phone": "(100) 555-4822"
                                },
                                {
                                    "SupplierID": "3",
                                    "SupplierName": "Grandma Kelly's Homestead",
                                    "ContactName": "Regina Murphy",
                                    "Address": "707 Oxford Rd.",
                                    "City": "Ann Arbor",
                                    "PostalCode": "48104",
                                    "Country": "USA",
                                    "Phone": "(313) 555-5735"
                                },
                                {
                                    "SupplierID": "4",
                                    "SupplierName": "Tokyo Traders",
                                    "ContactName": "Yoshi Nagase",
                                    "Address": "9-8 Sekimai Musashino-shi",
                                    "City": "Tokyo",
                                    "PostalCode": "100",
                                    "Country": "Japan",
                                    "Phone": "(03) 3555-5011"
                                },
                                {
                                    "SupplierID": "5",
                                    "SupplierName": "Cooperativa de Quesos 'Las Cabras'",
                                    "ContactName": "Antonio del Valle Saavedra ",
                                    "Address": "Calle del Rosal 4",
                                    "City": "Oviedo",
                                    "PostalCode": "33007",
                                    "Country": "Spain",
                                    "Phone": "(98) 598 76 54"
                                }
                            ]
                        },
                        "text/html": "<table><tr><th>SupplierID</th><th>SupplierName</th><th>ContactName</th><th>Address</th><th>City</th><th>PostalCode</th><th>Country</th><th>Phone</th></tr><tr><td>1</td><td>Exotic Liquid</td><td>Charlotte Cooper</td><td>49 Gilbert St.</td><td>Londona</td><td>EC1 4SD</td><td>UK</td><td>(171) 555-2222</td></tr><tr><td>2</td><td>New Orleans Cajun Delights</td><td>Shelley Burke</td><td>P.O. Box 78934</td><td>New Orleans</td><td>70117</td><td>USA</td><td>(100) 555-4822</td></tr><tr><td>3</td><td>Grandma Kelly&#39;s Homestead</td><td>Regina Murphy</td><td>707 Oxford Rd.</td><td>Ann Arbor</td><td>48104</td><td>USA</td><td>(313) 555-5735</td></tr><tr><td>4</td><td>Tokyo Traders</td><td>Yoshi Nagase</td><td>9-8 Sekimai Musashino-shi</td><td>Tokyo</td><td>100</td><td>Japan</td><td>(03) 3555-5011</td></tr><tr><td>5</td><td>Cooperativa de Quesos &#39;Las Cabras&#39;</td><td>Antonio del Valle Saavedra </td><td>Calle del Rosal 4</td><td>Oviedo</td><td>33007</td><td>Spain</td><td>(98) 598 76 54</td></tr></table>"
                    },
                    "metadata": {}
                }
            ],
            "execution_count": 5
        },
        {
            "cell_type": "markdown",
            "source": [
                "# **🥸Tip 3: How to use Aliases**\n",
                "\n",
                "The following query uses secondary names to define the output field names; note that you do not always have to put the secondary names in quotations, however, it is best practice and even recommended to do so to avoid potential errors, especially for aliases that utilize \"reserved words/commands\" (such as Min/Max) and if there is a space in the name. Aliases are useful for not only renaming field names, but to simplify your code for legiblity (as in the case of giving aliases to referenced databases, and tables)."
            ],
            "metadata": {
                "azdata_cell_guid": "5cb83d00-b552-4c95-943e-1c0128006e69"
            },
            "attachments": {}
        },
        {
            "cell_type": "code",
            "source": [
                "USE w3schools_tutor3;\r\n",
                "GO\r\n",
                "\r\n",
                "SELECT Top 5 ProductID as PId\r\n",
                "            ,ProductName as 'PName'\r\n",
                "            ,SupplierID as 'SupId'\r\n",
                "            ,CategoryID as 'CatId'\r\n",
                "            ,Unit\r\n",
                "            ,Price\r\n",
                "FROM dbo.Products prod\r\n",
                ";"
            ],
            "metadata": {
                "azdata_cell_guid": "2cab707a-2f4f-46be-8000-ee8e8d6503d5",
                "language": "sql"
            },
            "outputs": [
                {
                    "output_type": "display_data",
                    "data": {
                        "text/html": "Commands completed successfully."
                    },
                    "metadata": {}
                },
                {
                    "output_type": "display_data",
                    "data": {
                        "text/html": "(5 rows affected)"
                    },
                    "metadata": {}
                },
                {
                    "output_type": "display_data",
                    "data": {
                        "text/html": "Total execution time: 00:00:00.026"
                    },
                    "metadata": {}
                },
                {
                    "output_type": "execute_result",
                    "metadata": {},
                    "execution_count": 8,
                    "data": {
                        "application/vnd.dataresource+json": {
                            "schema": {
                                "fields": [
                                    {
                                        "name": "PId"
                                    },
                                    {
                                        "name": "PName"
                                    },
                                    {
                                        "name": "SupId"
                                    },
                                    {
                                        "name": "CatId"
                                    },
                                    {
                                        "name": "Unit"
                                    },
                                    {
                                        "name": "Price"
                                    }
                                ]
                            },
                            "data": [
                                {
                                    "PId": "1",
                                    "PName": "Chais",
                                    "SupId": "1",
                                    "CatId": "1",
                                    "Unit": "NULL",
                                    "Price": "18.00"
                                },
                                {
                                    "PId": "2",
                                    "PName": "Chang",
                                    "SupId": "1",
                                    "CatId": "1",
                                    "Unit": "NULL",
                                    "Price": "19.00"
                                },
                                {
                                    "PId": "3",
                                    "PName": "Aniseed Syrup",
                                    "SupId": "1",
                                    "CatId": "2",
                                    "Unit": "NULL",
                                    "Price": "10.00"
                                },
                                {
                                    "PId": "4",
                                    "PName": "Chef Anton's Cajun Seasoning",
                                    "SupId": "2",
                                    "CatId": "2",
                                    "Unit": "NULL",
                                    "Price": "22.00"
                                },
                                {
                                    "PId": "5",
                                    "PName": "Chef Anton's Gumbo Mix",
                                    "SupId": "2",
                                    "CatId": "2",
                                    "Unit": "NULL",
                                    "Price": "21.35"
                                }
                            ]
                        },
                        "text/html": [
                            "<table>",
                            "<tr><th>PId</th><th>PName</th><th>SupId</th><th>CatId</th><th>Unit</th><th>Price</th></tr>",
                            "<tr><td>1</td><td>Chais</td><td>1</td><td>1</td><td>NULL</td><td>18.00</td></tr>",
                            "<tr><td>2</td><td>Chang</td><td>1</td><td>1</td><td>NULL</td><td>19.00</td></tr>",
                            "<tr><td>3</td><td>Aniseed Syrup</td><td>1</td><td>2</td><td>NULL</td><td>10.00</td></tr>",
                            "<tr><td>4</td><td>Chef Anton&#39;s Cajun Seasoning</td><td>2</td><td>2</td><td>NULL</td><td>22.00</td></tr>",
                            "<tr><td>5</td><td>Chef Anton&#39;s Gumbo Mix</td><td>2</td><td>2</td><td>NULL</td><td>21.35</td></tr>",
                            "</table>"
                        ]
                    }
                }
            ],
            "execution_count": 8
        },
        {
            "cell_type": "markdown",
            "source": [
                "# **🤓Tip 4: How to use Agrregate Functions (Average, Sum, Minimum, and Maximum Values)**\n",
                "\n",
                "The following query uses the AVG, SUM, MIN, and MAX aggregate functions to determine the Average, Sum, Minimum and Maximum values for the \"Price\" field from the \"Products\" table:"
            ],
            "metadata": {
                "language": "sql",
                "azdata_cell_guid": "b8229a02-625f-40ea-aeed-e5e49a651ce8"
            },
            "attachments": {}
        },
        {
            "cell_type": "code",
            "source": [
                "USE w3schools_tutor3;\r\n",
                "GO\r\n",
                "\r\n",
                "SELECT AVG(Price) as 'AVG_Price'\r\n",
                "      ,SUM(Price) as 'Total_Price'\r\n",
                "      ,MIN(Price) as 'Lowest_Price'\r\n",
                "      ,MAX(Price) as 'Highest_Price'\r\n",
                "FROM Products Prod\r\n",
                ";"
            ],
            "metadata": {
                "azdata_cell_guid": "bed1ddcb-511c-458d-b90b-8db1931d4d3a",
                "language": "sql"
            },
            "outputs": [
                {
                    "output_type": "display_data",
                    "data": {
                        "text/html": "Commands completed successfully."
                    },
                    "metadata": {}
                },
                {
                    "output_type": "display_data",
                    "data": {
                        "text/html": "(1 row affected)"
                    },
                    "metadata": {}
                },
                {
                    "output_type": "display_data",
                    "data": {
                        "text/html": "Total execution time: 00:00:00.016"
                    },
                    "metadata": {}
                },
                {
                    "output_type": "execute_result",
                    "metadata": {},
                    "execution_count": 5,
                    "data": {
                        "application/vnd.dataresource+json": {
                            "schema": {
                                "fields": [
                                    {
                                        "name": "AVG_Price"
                                    },
                                    {
                                        "name": "Total_Price"
                                    },
                                    {
                                        "name": "Lowest_Price"
                                    },
                                    {
                                        "name": "Highest_Price"
                                    }
                                ]
                            },
                            "data": [
                                {
                                    "AVG_Price": "28.8663",
                                    "Total_Price": "2222.71",
                                    "Lowest_Price": "2.50",
                                    "Highest_Price": "263.50"
                                }
                            ]
                        },
                        "text/html": [
                            "<table>",
                            "<tr><th>AVG_Price</th><th>Total_Price</th><th>Lowest_Price</th><th>Highest_Price</th></tr>",
                            "<tr><td>28.8663</td><td>2222.71</td><td>2.50</td><td>263.50</td></tr>",
                            "</table>"
                        ]
                    }
                }
            ],
            "execution_count": 5
        },
        {
            "cell_type": "markdown",
            "source": [
                "# **🤷‍♂️Tip 5: How to use the WHERE clause**\n",
                "\n",
                "The following query uses the WHERE clause to filter specific records from the \"Products\" table that satisfy specific conditions:"
            ],
            "metadata": {
                "language": "sql",
                "azdata_cell_guid": "7f1d1154-1ad8-4b47-b521-f0133cab4edc"
            },
            "attachments": {}
        },
        {
            "cell_type": "code",
            "source": [
                "USE w3schools_tutor3;\r\n",
                "GO\r\n",
                "\r\n",
                "SELECT Top 5 ProductName as 'PName'\r\n",
                "            ,SupplierID as 'SupId'\r\n",
                "            ,CategoryID as 'CatId'\r\n",
                "            ,Price\r\n",
                "FROM dbo.Products prod\r\n",
                "WHERE Price >= 10\r\n",
                ";"
            ],
            "metadata": {
                "language": "sql",
                "azdata_cell_guid": "08e50518-5302-4e91-be59-e0e096938531",
                "tags": []
            },
            "outputs": [
                {
                    "output_type": "display_data",
                    "data": {
                        "text/html": "Commands completed successfully."
                    },
                    "metadata": {}
                },
                {
                    "output_type": "display_data",
                    "data": {
                        "text/html": "(5 rows affected)"
                    },
                    "metadata": {}
                },
                {
                    "output_type": "display_data",
                    "data": {
                        "text/html": "Total execution time: 00:00:00.070"
                    },
                    "metadata": {}
                },
                {
                    "output_type": "execute_result",
                    "metadata": {},
                    "execution_count": 9,
                    "data": {
                        "application/vnd.dataresource+json": {
                            "schema": {
                                "fields": [
                                    {
                                        "name": "PName"
                                    },
                                    {
                                        "name": "SupId"
                                    },
                                    {
                                        "name": "CatId"
                                    },
                                    {
                                        "name": "Price"
                                    }
                                ]
                            },
                            "data": [
                                {
                                    "PName": "Chais",
                                    "SupId": "1",
                                    "CatId": "1",
                                    "Price": "18.00"
                                },
                                {
                                    "PName": "Chang",
                                    "SupId": "1",
                                    "CatId": "1",
                                    "Price": "19.00"
                                },
                                {
                                    "PName": "Aniseed Syrup",
                                    "SupId": "1",
                                    "CatId": "2",
                                    "Price": "10.00"
                                },
                                {
                                    "PName": "Chef Anton's Cajun Seasoning",
                                    "SupId": "2",
                                    "CatId": "2",
                                    "Price": "22.00"
                                },
                                {
                                    "PName": "Chef Anton's Gumbo Mix",
                                    "SupId": "2",
                                    "CatId": "2",
                                    "Price": "21.35"
                                }
                            ]
                        },
                        "text/html": [
                            "<table>",
                            "<tr><th>PName</th><th>SupId</th><th>CatId</th><th>Price</th></tr>",
                            "<tr><td>Chais</td><td>1</td><td>1</td><td>18.00</td></tr>",
                            "<tr><td>Chang</td><td>1</td><td>1</td><td>19.00</td></tr>",
                            "<tr><td>Aniseed Syrup</td><td>1</td><td>2</td><td>10.00</td></tr>",
                            "<tr><td>Chef Anton&#39;s Cajun Seasoning</td><td>2</td><td>2</td><td>22.00</td></tr>",
                            "<tr><td>Chef Anton&#39;s Gumbo Mix</td><td>2</td><td>2</td><td>21.35</td></tr>",
                            "</table>"
                        ]
                    }
                }
            ],
            "execution_count": 9
        }
    ]
}