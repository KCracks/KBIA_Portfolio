{
    "metadata": {
        "kernelspec": {
            "name": "SQL",
            "display_name": "SQL",
            "language": "sql"
        },
        "language_info": {
            "name": "sql",
            "version": ""
        }
    },
    "nbformat_minor": 2,
    "nbformat": 4,
    "cells": [
        {
            "cell_type": "markdown",
            "source": [
                "# 🫡**Tip 1: How to use a query to connect to the required Database**\n",
                "\n",
                "The following query simply uses a simple query to connect to the requisite database. This is a simple, yet arguably important step to ensure that your query is always run in the correct database and mitigate against common runtime errors related to not being in the correct database."
            ],
            "metadata": {
                "azdata_cell_guid": "08c32025-9261-4b82-8bc3-863a4bc9421d"
            },
            "attachments": {}
        },
        {
            "cell_type": "code",
            "source": [
                "/*\r\n",
                "-- Code structure:\r\n",
                "____________________\r\n",
                "\r\n",
                "USE [database_name];\r\n",
                "GO\r\n",
                "*/"
            ],
            "metadata": {
                "azdata_cell_guid": "f0117908-1459-4a07-99f6-dcdfbd8433ca",
                "language": "sql"
            },
            "outputs": [],
            "execution_count": null
        },
        {
            "cell_type": "code",
            "source": [
                "-- Example:\r\n",
                "USE w3schools_tutor3;\r\n",
                "GO"
            ],
            "metadata": {
                "azdata_cell_guid": "9d0aaa2a-16b4-43ca-8782-8626735ff728",
                "language": "sql",
                "tags": []
            },
            "outputs": [
                {
                    "output_type": "display_data",
                    "data": {
                        "text/html": "Commands completed successfully."
                    },
                    "metadata": {}
                },
                {
                    "output_type": "display_data",
                    "data": {
                        "text/html": "Total execution time: 00:00:00.001"
                    },
                    "metadata": {}
                }
            ],
            "execution_count": 6
        },
        {
            "cell_type": "markdown",
            "source": [
                "# **🤌Tip 2: How to create a simple SELECT query**\n",
                "\n",
                "The following query simply uses the SELECT statement to display the Top 5 rows for all fields in the Supplier table from the w3schools database:"
            ],
            "metadata": {
                "azdata_cell_guid": "ea14f478-f5f0-4c49-9bb3-cf2e4af5a24d"
            },
            "attachments": {}
        },
        {
            "cell_type": "code",
            "source": [
                "/*\r\n",
                "Code structure:\r\n",
                "___________________\r\n",
                "\r\n",
                "USE [database_name];\r\n",
                "GO\r\n",
                "\r\n",
                "SELECT [column_name]\r\n",
                "FROM [table_name]\r\n",
                ";\r\n",
                "*/"
            ],
            "metadata": {
                "azdata_cell_guid": "8b3d57c9-4f27-465c-9780-a01611272e96",
                "language": "sql"
            },
            "outputs": [],
            "execution_count": null
        },
        {
            "cell_type": "code",
            "source": [
                "-- Example:\r\n",
                "USE w3schools_tutor3;\r\n",
                "GO\r\n",
                "\r\n",
                "SELECT Top 5 *\r\n",
                "FROM Suppliers\r\n",
                ";"
            ],
            "metadata": {
                "azdata_cell_guid": "6c1c93c0-d6ea-4006-a00a-a4877784ed02",
                "language": "sql"
            },
            "outputs": [
                {
                    "output_type": "display_data",
                    "data": {
                        "text/html": "Commands completed successfully."
                    },
                    "metadata": {}
                },
                {
                    "output_type": "display_data",
                    "data": {
                        "text/html": "(5 rows affected)"
                    },
                    "metadata": {}
                },
                {
                    "output_type": "display_data",
                    "data": {
                        "text/html": "Total execution time: 00:00:00.033"
                    },
                    "metadata": {}
                },
                {
                    "output_type": "execute_result",
                    "execution_count": 5,
                    "data": {
                        "application/vnd.dataresource+json": {
                            "schema": {
                                "fields": [
                                    {
                                        "name": "SupplierID"
                                    },
                                    {
                                        "name": "SupplierName"
                                    },
                                    {
                                        "name": "ContactName"
                                    },
                                    {
                                        "name": "Address"
                                    },
                                    {
                                        "name": "City"
                                    },
                                    {
                                        "name": "PostalCode"
                                    },
                                    {
                                        "name": "Country"
                                    },
                                    {
                                        "name": "Phone"
                                    }
                                ]
                            },
                            "data": [
                                {
                                    "SupplierID": "1",
                                    "SupplierName": "Exotic Liquid",
                                    "ContactName": "Charlotte Cooper",
                                    "Address": "49 Gilbert St.",
                                    "City": "Londona",
                                    "PostalCode": "EC1 4SD",
                                    "Country": "UK",
                                    "Phone": "(171) 555-2222"
                                },
                                {
                                    "SupplierID": "2",
                                    "SupplierName": "New Orleans Cajun Delights",
                                    "ContactName": "Shelley Burke",
                                    "Address": "P.O. Box 78934",
                                    "City": "New Orleans",
                                    "PostalCode": "70117",
                                    "Country": "USA",
                                    "Phone": "(100) 555-4822"
                                },
                                {
                                    "SupplierID": "3",
                                    "SupplierName": "Grandma Kelly's Homestead",
                                    "ContactName": "Regina Murphy",
                                    "Address": "707 Oxford Rd.",
                                    "City": "Ann Arbor",
                                    "PostalCode": "48104",
                                    "Country": "USA",
                                    "Phone": "(313) 555-5735"
                                },
                                {
                                    "SupplierID": "4",
                                    "SupplierName": "Tokyo Traders",
                                    "ContactName": "Yoshi Nagase",
                                    "Address": "9-8 Sekimai Musashino-shi",
                                    "City": "Tokyo",
                                    "PostalCode": "100",
                                    "Country": "Japan",
                                    "Phone": "(03) 3555-5011"
                                },
                                {
                                    "SupplierID": "5",
                                    "SupplierName": "Cooperativa de Quesos 'Las Cabras'",
                                    "ContactName": "Antonio del Valle Saavedra ",
                                    "Address": "Calle del Rosal 4",
                                    "City": "Oviedo",
                                    "PostalCode": "33007",
                                    "Country": "Spain",
                                    "Phone": "(98) 598 76 54"
                                }
                            ]
                        },
                        "text/html": "<table><tr><th>SupplierID</th><th>SupplierName</th><th>ContactName</th><th>Address</th><th>City</th><th>PostalCode</th><th>Country</th><th>Phone</th></tr><tr><td>1</td><td>Exotic Liquid</td><td>Charlotte Cooper</td><td>49 Gilbert St.</td><td>Londona</td><td>EC1 4SD</td><td>UK</td><td>(171) 555-2222</td></tr><tr><td>2</td><td>New Orleans Cajun Delights</td><td>Shelley Burke</td><td>P.O. Box 78934</td><td>New Orleans</td><td>70117</td><td>USA</td><td>(100) 555-4822</td></tr><tr><td>3</td><td>Grandma Kelly&#39;s Homestead</td><td>Regina Murphy</td><td>707 Oxford Rd.</td><td>Ann Arbor</td><td>48104</td><td>USA</td><td>(313) 555-5735</td></tr><tr><td>4</td><td>Tokyo Traders</td><td>Yoshi Nagase</td><td>9-8 Sekimai Musashino-shi</td><td>Tokyo</td><td>100</td><td>Japan</td><td>(03) 3555-5011</td></tr><tr><td>5</td><td>Cooperativa de Quesos &#39;Las Cabras&#39;</td><td>Antonio del Valle Saavedra </td><td>Calle del Rosal 4</td><td>Oviedo</td><td>33007</td><td>Spain</td><td>(98) 598 76 54</td></tr></table>"
                    },
                    "metadata": {}
                }
            ],
            "execution_count": 5
        },
        {
            "cell_type": "markdown",
            "source": [
                "# **🤌Tip 3: How to use a SELECT DISTINCT statement**\n",
                "\n",
                "\\- A SELECT DISTINCT statement is used to return specific values from colums and tables.\n",
                "\n",
                "\\- This is especially useful for columns that have duplicate values and you need to return unique values only.\n",
                "\n",
                "The following query uses the SELECT DISTINCT statement to return specific fields in the Supplier table from the w3schools database:"
            ],
            "metadata": {
                "language": "sql",
                "azdata_cell_guid": "d2575021-a588-4ce8-ace4-43fe34c867fe"
            },
            "attachments": {}
        },
        {
            "cell_type": "code",
            "source": [
                "/*\r\n",
                "Code Structure:\r\n",
                "_____________________\r\n",
                "\r\n",
                "USE [database_name];\r\n",
                "GO\r\n",
                "\r\n",
                "SELECT DISTINCT([column_name(s)])\r\n",
                "FROM [table_name]\r\n",
                ";\r\n",
                "*/"
            ],
            "metadata": {
                "language": "sql",
                "azdata_cell_guid": "55b16e9b-78cd-4c4e-9417-ef9cf7fccde8"
            },
            "outputs": [],
            "execution_count": null
        },
        {
            "cell_type": "code",
            "source": [
                "-- Example:\r\n",
                "USE w3schools_tutor3;\r\n",
                "GO\r\n",
                "\r\n",
                "SELECT DISTINCT top 5 Country\r\n",
                "                     ,City\r\n",
                "                     ,SupplierName\r\n",
                "                     ,ContactName\r\n",
                "FROM Suppliers\r\n",
                ";"
            ],
            "metadata": {
                "language": "sql",
                "azdata_cell_guid": "c4fa0f14-846e-4722-9736-a5777c7a2679"
            },
            "outputs": [
                {
                    "output_type": "display_data",
                    "data": {
                        "text/html": "Commands completed successfully."
                    },
                    "metadata": {}
                },
                {
                    "output_type": "display_data",
                    "data": {
                        "text/html": "(5 rows affected)"
                    },
                    "metadata": {}
                },
                {
                    "output_type": "display_data",
                    "data": {
                        "text/html": "Total execution time: 00:00:00.013"
                    },
                    "metadata": {}
                },
                {
                    "output_type": "execute_result",
                    "metadata": {},
                    "execution_count": 44,
                    "data": {
                        "application/vnd.dataresource+json": {
                            "schema": {
                                "fields": [
                                    {
                                        "name": "Country"
                                    },
                                    {
                                        "name": "City"
                                    },
                                    {
                                        "name": "SupplierName"
                                    },
                                    {
                                        "name": "ContactName"
                                    }
                                ]
                            },
                            "data": [
                                {
                                    "Country": "Australia",
                                    "City": "Melbourne",
                                    "SupplierName": "Pavlova, Ltd.",
                                    "ContactName": "Ian Devling"
                                },
                                {
                                    "Country": "Australia",
                                    "City": "Sydney",
                                    "SupplierName": "G'day, Mate",
                                    "ContactName": "Wendy Mackenzie"
                                },
                                {
                                    "Country": "Brazil",
                                    "City": "São Paulo",
                                    "SupplierName": "Refrescos Americanas LTDA",
                                    "ContactName": "Carlos Diaz"
                                },
                                {
                                    "Country": "Canada",
                                    "City": "Montréal",
                                    "SupplierName": "Ma Maison",
                                    "ContactName": "Jean-Guy Lauzon"
                                },
                                {
                                    "Country": "Canada",
                                    "City": "Ste-Hyacinthe",
                                    "SupplierName": "Forêts d'érables",
                                    "ContactName": "Chantal Goulet"
                                }
                            ]
                        },
                        "text/html": [
                            "<table>",
                            "<tr><th>Country</th><th>City</th><th>SupplierName</th><th>ContactName</th></tr>",
                            "<tr><td>Australia</td><td>Melbourne</td><td>Pavlova, Ltd.</td><td>Ian Devling</td></tr>",
                            "<tr><td>Australia</td><td>Sydney</td><td>G&#39;day, Mate</td><td>Wendy Mackenzie</td></tr>",
                            "<tr><td>Brazil</td><td>São Paulo</td><td>Refrescos Americanas LTDA</td><td>Carlos Diaz</td></tr>",
                            "<tr><td>Canada</td><td>Montréal</td><td>Ma Maison</td><td>Jean-Guy Lauzon</td></tr>",
                            "<tr><td>Canada</td><td>Ste-Hyacinthe</td><td>Forêts d&#39;érables</td><td>Chantal Goulet</td></tr>",
                            "</table>"
                        ]
                    }
                }
            ],
            "execution_count": 44
        },
        {
            "cell_type": "markdown",
            "source": [
                "# **🥸Tip 4: How to use Aliases**\n",
                "\n",
                "The following query uses secondary names to define the output field names; note that you do not always have to put the secondary names in quotations, however, it is best practice and even recommended to do so to avoid potential errors, especially for aliases that utilize \"reserved words/commands\" (such as Min/Max) and if there is a space in the name. Aliases are useful for not only renaming field names, but to simplify your code for legiblity (as in the case of giving aliases to referenced databases, and tables)."
            ],
            "metadata": {
                "azdata_cell_guid": "5cb83d00-b552-4c95-943e-1c0128006e69"
            },
            "attachments": {}
        },
        {
            "cell_type": "code",
            "source": [
                "/*\r\n",
                "Code Structure:\r\n",
                "_____________________\r\n",
                "\r\n",
                "USE [database_name];\r\n",
                "GO\r\n",
                "\r\n",
                "SELECT [column_name] as 'alias_name'\r\n",
                "FROM [table_name]\r\n",
                ";\r\n",
                "*/"
            ],
            "metadata": {
                "azdata_cell_guid": "8a1d666d-7a51-4595-873c-217bc56ea130",
                "language": "sql"
            },
            "outputs": [],
            "execution_count": null
        },
        {
            "cell_type": "code",
            "source": [
                "-- Example:\r\n",
                "USE w3schools_tutor3;\r\n",
                "GO\r\n",
                "\r\n",
                "SELECT Top 5 ProductID as PId\r\n",
                "            ,ProductName as 'PName'\r\n",
                "            ,SupplierID as 'SupId'\r\n",
                "            ,CategoryID as 'CatId'\r\n",
                "            ,Unit\r\n",
                "            ,Price\r\n",
                "FROM dbo.Products prod\r\n",
                ";"
            ],
            "metadata": {
                "azdata_cell_guid": "2cab707a-2f4f-46be-8000-ee8e8d6503d5",
                "language": "sql"
            },
            "outputs": [
                {
                    "output_type": "display_data",
                    "data": {
                        "text/html": "Commands completed successfully."
                    },
                    "metadata": {}
                },
                {
                    "output_type": "display_data",
                    "data": {
                        "text/html": "(5 rows affected)"
                    },
                    "metadata": {}
                },
                {
                    "output_type": "display_data",
                    "data": {
                        "text/html": "Total execution time: 00:00:00.026"
                    },
                    "metadata": {}
                },
                {
                    "output_type": "execute_result",
                    "execution_count": 8,
                    "data": {
                        "application/vnd.dataresource+json": {
                            "schema": {
                                "fields": [
                                    {
                                        "name": "PId"
                                    },
                                    {
                                        "name": "PName"
                                    },
                                    {
                                        "name": "SupId"
                                    },
                                    {
                                        "name": "CatId"
                                    },
                                    {
                                        "name": "Unit"
                                    },
                                    {
                                        "name": "Price"
                                    }
                                ]
                            },
                            "data": [
                                {
                                    "PId": "1",
                                    "PName": "Chais",
                                    "SupId": "1",
                                    "CatId": "1",
                                    "Unit": "NULL",
                                    "Price": "18.00"
                                },
                                {
                                    "PId": "2",
                                    "PName": "Chang",
                                    "SupId": "1",
                                    "CatId": "1",
                                    "Unit": "NULL",
                                    "Price": "19.00"
                                },
                                {
                                    "PId": "3",
                                    "PName": "Aniseed Syrup",
                                    "SupId": "1",
                                    "CatId": "2",
                                    "Unit": "NULL",
                                    "Price": "10.00"
                                },
                                {
                                    "PId": "4",
                                    "PName": "Chef Anton's Cajun Seasoning",
                                    "SupId": "2",
                                    "CatId": "2",
                                    "Unit": "NULL",
                                    "Price": "22.00"
                                },
                                {
                                    "PId": "5",
                                    "PName": "Chef Anton's Gumbo Mix",
                                    "SupId": "2",
                                    "CatId": "2",
                                    "Unit": "NULL",
                                    "Price": "21.35"
                                }
                            ]
                        },
                        "text/html": "<table><tr><th>PId</th><th>PName</th><th>SupId</th><th>CatId</th><th>Unit</th><th>Price</th></tr><tr><td>1</td><td>Chais</td><td>1</td><td>1</td><td>NULL</td><td>18.00</td></tr><tr><td>2</td><td>Chang</td><td>1</td><td>1</td><td>NULL</td><td>19.00</td></tr><tr><td>3</td><td>Aniseed Syrup</td><td>1</td><td>2</td><td>NULL</td><td>10.00</td></tr><tr><td>4</td><td>Chef Anton&#39;s Cajun Seasoning</td><td>2</td><td>2</td><td>NULL</td><td>22.00</td></tr><tr><td>5</td><td>Chef Anton&#39;s Gumbo Mix</td><td>2</td><td>2</td><td>NULL</td><td>21.35</td></tr></table>"
                    },
                    "metadata": {}
                }
            ],
            "execution_count": 8
        },
        {
            "cell_type": "markdown",
            "source": [
                "# **🤓Tip 5: How to use Agrregate Functions (Average, Sum, Minimum, and Maximum Values)**\n",
                "\n",
                "The following query uses the AVG, SUM, MIN, and MAX aggregate functions to determine the Average, Sum, Minimum and Maximum values for the \"Price\" field from the \"Products\" table:"
            ],
            "metadata": {
                "language": "sql",
                "azdata_cell_guid": "b8229a02-625f-40ea-aeed-e5e49a651ce8"
            },
            "attachments": {}
        },
        {
            "cell_type": "code",
            "source": [
                "/*\r\n",
                "Code Structure:\r\n",
                "_____________________\r\n",
                "\r\n",
                "USE [database_name];\r\n",
                "GO\r\n",
                "\r\n",
                "SELECT AGGREGATE FUNCTION([column_name])\r\n",
                "FROM [table_name]\r\n",
                ";\r\n",
                "*/"
            ],
            "metadata": {
                "language": "sql",
                "azdata_cell_guid": "e3420386-a2e5-4cfc-8eff-c5c8769c359b"
            },
            "outputs": [],
            "execution_count": null
        },
        {
            "cell_type": "code",
            "source": [
                "-- Example:\r\n",
                "USE w3schools_tutor3;\r\n",
                "GO\r\n",
                "\r\n",
                "SELECT AVG(Price) as 'AVG_Price'\r\n",
                "      ,SUM(Price) as 'Total_Price'\r\n",
                "      ,MIN(Price) as 'Lowest_Price'\r\n",
                "      ,MAX(Price) as 'Highest_Price'\r\n",
                "FROM Products Prod\r\n",
                ";"
            ],
            "metadata": {
                "azdata_cell_guid": "bed1ddcb-511c-458d-b90b-8db1931d4d3a",
                "language": "sql"
            },
            "outputs": [
                {
                    "output_type": "display_data",
                    "data": {
                        "text/html": "Commands completed successfully."
                    },
                    "metadata": {}
                },
                {
                    "output_type": "display_data",
                    "data": {
                        "text/html": "(1 row affected)"
                    },
                    "metadata": {}
                },
                {
                    "output_type": "display_data",
                    "data": {
                        "text/html": "Total execution time: 00:00:00.016"
                    },
                    "metadata": {}
                },
                {
                    "output_type": "execute_result",
                    "execution_count": 5,
                    "data": {
                        "application/vnd.dataresource+json": {
                            "schema": {
                                "fields": [
                                    {
                                        "name": "AVG_Price"
                                    },
                                    {
                                        "name": "Total_Price"
                                    },
                                    {
                                        "name": "Lowest_Price"
                                    },
                                    {
                                        "name": "Highest_Price"
                                    }
                                ]
                            },
                            "data": [
                                {
                                    "AVG_Price": "28.8663",
                                    "Total_Price": "2222.71",
                                    "Lowest_Price": "2.50",
                                    "Highest_Price": "263.50"
                                }
                            ]
                        },
                        "text/html": "<table><tr><th>AVG_Price</th><th>Total_Price</th><th>Lowest_Price</th><th>Highest_Price</th></tr><tr><td>28.8663</td><td>2222.71</td><td>2.50</td><td>263.50</td></tr></table>"
                    },
                    "metadata": {}
                }
            ],
            "execution_count": 5
        },
        {
            "cell_type": "markdown",
            "source": [
                "# **🤷‍♂️Tip 6: How to use the WHERE clause**\n",
                "\n",
                "The following query uses the WHERE clause to filter specific records from the \"Products\" table that satisfy specific conditions:"
            ],
            "metadata": {
                "language": "sql",
                "azdata_cell_guid": "7f1d1154-1ad8-4b47-b521-f0133cab4edc"
            },
            "attachments": {}
        },
        {
            "cell_type": "code",
            "source": [
                "/*\r\n",
                "Code Structure:\r\n",
                "_____________________\r\n",
                "\r\n",
                "USE [database_name];\r\n",
                "GO\r\n",
                "\r\n",
                "SELECT [column_name]\r\n",
                "FROM [table_name]\r\n",
                "WHERE [column_name] condition with operator\r\n",
                ";\r\n",
                "*/\r\n",
                "\r\n",
                "-- Operators: =, <, >, >=, <=, <>, BETWEEN, LIKE, IN"
            ],
            "metadata": {
                "language": "sql",
                "azdata_cell_guid": "bd23ab24-64aa-4d12-ab80-4ab4388fdbf1"
            },
            "outputs": [],
            "execution_count": null
        },
        {
            "cell_type": "code",
            "source": [
                "-- Example:\r\n",
                "USE w3schools_tutor3;\r\n",
                "GO\r\n",
                "\r\n",
                "SELECT Top 5 ProductName as 'PName'\r\n",
                "            ,SupplierID as 'SupId'\r\n",
                "            ,CategoryID as 'CatId'\r\n",
                "            ,Price\r\n",
                "FROM dbo.Products prod\r\n",
                "WHERE Price >= 10\r\n",
                ";"
            ],
            "metadata": {
                "language": "sql",
                "azdata_cell_guid": "08e50518-5302-4e91-be59-e0e096938531",
                "tags": []
            },
            "outputs": [
                {
                    "output_type": "display_data",
                    "data": {
                        "text/html": "Commands completed successfully."
                    },
                    "metadata": {}
                },
                {
                    "output_type": "display_data",
                    "data": {
                        "text/html": "(5 rows affected)"
                    },
                    "metadata": {}
                },
                {
                    "output_type": "display_data",
                    "data": {
                        "text/html": "Total execution time: 00:00:00.070"
                    },
                    "metadata": {}
                },
                {
                    "output_type": "execute_result",
                    "execution_count": 9,
                    "data": {
                        "application/vnd.dataresource+json": {
                            "schema": {
                                "fields": [
                                    {
                                        "name": "PName"
                                    },
                                    {
                                        "name": "SupId"
                                    },
                                    {
                                        "name": "CatId"
                                    },
                                    {
                                        "name": "Price"
                                    }
                                ]
                            },
                            "data": [
                                {
                                    "PName": "Chais",
                                    "SupId": "1",
                                    "CatId": "1",
                                    "Price": "18.00"
                                },
                                {
                                    "PName": "Chang",
                                    "SupId": "1",
                                    "CatId": "1",
                                    "Price": "19.00"
                                },
                                {
                                    "PName": "Aniseed Syrup",
                                    "SupId": "1",
                                    "CatId": "2",
                                    "Price": "10.00"
                                },
                                {
                                    "PName": "Chef Anton's Cajun Seasoning",
                                    "SupId": "2",
                                    "CatId": "2",
                                    "Price": "22.00"
                                },
                                {
                                    "PName": "Chef Anton's Gumbo Mix",
                                    "SupId": "2",
                                    "CatId": "2",
                                    "Price": "21.35"
                                }
                            ]
                        },
                        "text/html": "<table><tr><th>PName</th><th>SupId</th><th>CatId</th><th>Price</th></tr><tr><td>Chais</td><td>1</td><td>1</td><td>18.00</td></tr><tr><td>Chang</td><td>1</td><td>1</td><td>19.00</td></tr><tr><td>Aniseed Syrup</td><td>1</td><td>2</td><td>10.00</td></tr><tr><td>Chef Anton&#39;s Cajun Seasoning</td><td>2</td><td>2</td><td>22.00</td></tr><tr><td>Chef Anton&#39;s Gumbo Mix</td><td>2</td><td>2</td><td>21.35</td></tr></table>"
                    },
                    "metadata": {}
                }
            ],
            "execution_count": 9
        },
        {
            "cell_type": "markdown",
            "source": [
                "# **🤷‍♂️Tip 7: How to use the Group By statement**\n",
                "\n",
                "The following query uses the Group By clause to filter specific records from the \"DimProduct\" table that satisfy specific conditions:"
            ],
            "metadata": {
                "language": "sql",
                "azdata_cell_guid": "9e312d53-08bf-4e63-86cf-59e9a2669e14"
            },
            "attachments": {}
        },
        {
            "cell_type": "code",
            "source": [
                "/*\r\n",
                "Code Structure:\r\n",
                "____________________\r\n",
                "\r\n",
                "SELECT [column_name]\r\n",
                "FROM [table_name]\r\n",
                "WHERE [condition]\r\n",
                "GROUP BY [column_name]\r\n",
                ";\r\n",
                "\r\n",
                "-- NOTE: Group By statement is usually used with an aggregate function (all columns not listed in aggregate function must be listed back in aggregate statement)."
            ],
            "metadata": {
                "language": "sql",
                "azdata_cell_guid": "65a41103-6e2c-438f-a123-f8bf69c6c981"
            },
            "outputs": [],
            "execution_count": null
        },
        {
            "cell_type": "code",
            "source": [
                "-- Example:\r\n",
                "USE AdventureWorksDW2022;\r\n",
                "GO\r\n",
                "\r\n",
                "SELECT Top 5 EnglishProductName as 'product_name'\r\n",
                "                      ,Style\r\n",
                "                      ,AVG(ListPrice) as 'Avg_Price'\r\n",
                "                      ,StandardCost as 'std_cost'\r\n",
                "FROM dbo.DimProduct\r\n",
                "WHERE StandardCost > 6\r\n",
                "GROUP BY EnglishProductName\r\n",
                "        ,Class\r\n",
                "        ,Style\r\n",
                "        ,StandardCost\r\n",
                ";"
            ],
            "metadata": {
                "language": "sql",
                "azdata_cell_guid": "3de9711e-9ee8-417a-82f7-8d5a37274d09",
                "tags": []
            },
            "outputs": [
                {
                    "output_type": "display_data",
                    "data": {
                        "text/html": "Commands completed successfully."
                    },
                    "metadata": {}
                },
                {
                    "output_type": "display_data",
                    "data": {
                        "text/html": "(5 rows affected)"
                    },
                    "metadata": {}
                },
                {
                    "output_type": "display_data",
                    "data": {
                        "text/html": "Total execution time: 00:00:00.020"
                    },
                    "metadata": {}
                },
                {
                    "output_type": "execute_result",
                    "execution_count": 21,
                    "data": {
                        "application/vnd.dataresource+json": {
                            "schema": {
                                "fields": [
                                    {
                                        "name": "product_name"
                                    },
                                    {
                                        "name": "Style"
                                    },
                                    {
                                        "name": "Avg_Price"
                                    },
                                    {
                                        "name": "std_cost"
                                    }
                                ]
                            },
                            "data": [
                                {
                                    "product_name": "All-Purpose Bike Stand",
                                    "Style": "NULL",
                                    "Avg_Price": "159.00",
                                    "std_cost": "59.466"
                                },
                                {
                                    "product_name": "AWC Logo Cap",
                                    "Style": "U ",
                                    "Avg_Price": "8.99",
                                    "std_cost": "6.9223"
                                },
                                {
                                    "product_name": "Cable Lock",
                                    "Style": "NULL",
                                    "Avg_Price": "25.00",
                                    "std_cost": "10.3125"
                                },
                                {
                                    "product_name": "Chain",
                                    "Style": "NULL",
                                    "Avg_Price": "20.24",
                                    "std_cost": "8.9866"
                                },
                                {
                                    "product_name": "Classic Vest, L",
                                    "Style": "U ",
                                    "Avg_Price": "63.50",
                                    "std_cost": "23.749"
                                }
                            ]
                        },
                        "text/html": "<table><tr><th>product_name</th><th>Style</th><th>Avg_Price</th><th>std_cost</th></tr><tr><td>All-Purpose Bike Stand</td><td>NULL</td><td>159.00</td><td>59.466</td></tr><tr><td>AWC Logo Cap</td><td>U </td><td>8.99</td><td>6.9223</td></tr><tr><td>Cable Lock</td><td>NULL</td><td>25.00</td><td>10.3125</td></tr><tr><td>Chain</td><td>NULL</td><td>20.24</td><td>8.9866</td></tr><tr><td>Classic Vest, L</td><td>U </td><td>63.50</td><td>23.749</td></tr></table>"
                    },
                    "metadata": {}
                }
            ],
            "execution_count": 21
        },
        {
            "cell_type": "markdown",
            "source": [
                "# **🤷‍♂️Tip 8: How to use the Order By statement**\n",
                "\n",
                "The following query uses the Order By clause to filter specific records from the \"DimProduct\" table that satisfy specific conditions:"
            ],
            "metadata": {
                "language": "sql",
                "azdata_cell_guid": "c783a725-fb3a-4bed-8c06-ecf57a2f23d0"
            },
            "attachments": {}
        },
        {
            "cell_type": "code",
            "source": [
                "/*\r\n",
                "Code Structure:\r\n",
                "_____________________\r\n",
                "SELECT [column1], [column2], etc...\r\n",
                "FROM [table_name]\r\n",
                "WHERE [condition]\r\n",
                "GROUP BY [column_name]\r\n",
                "ORDER BY [column1], [column2], ... ASC|DESC\r\n",
                ";\r\n",
                "\r\n",
                "-- NOTE: The ORDER BY statement sorts in ascending order by default. To sort the records in descending order, use the DESC keyword."
            ],
            "metadata": {
                "language": "sql",
                "azdata_cell_guid": "37127376-a9ec-493f-abfc-477a23538282"
            },
            "outputs": [],
            "execution_count": null
        },
        {
            "cell_type": "code",
            "source": [
                "-- Example:\r\n",
                "USE AdventureWorksDW2022;\r\n",
                "GO\r\n",
                "\r\n",
                "SELECT Top 5 EnglishProductName as 'product_name'\r\n",
                "                      ,Style\r\n",
                "                      ,AVG(ListPrice) as 'Avg_Price'\r\n",
                "                      ,StandardCost as 'std_cost'\r\n",
                "FROM dbo.DimProduct\r\n",
                "WHERE StandardCost > 6\r\n",
                "GROUP BY EnglishProductName\r\n",
                "        ,Class\r\n",
                "        ,Style\r\n",
                "        ,StandardCost\r\n",
                "ORDER BY product_name DESC\r\n",
                ";"
            ],
            "metadata": {
                "language": "sql",
                "azdata_cell_guid": "b57d460a-6cda-467c-acf4-1324b2008d2c"
            },
            "outputs": [
                {
                    "output_type": "display_data",
                    "data": {
                        "text/html": "Commands completed successfully."
                    },
                    "metadata": {}
                },
                {
                    "output_type": "display_data",
                    "data": {
                        "text/html": "(5 rows affected)"
                    },
                    "metadata": {}
                },
                {
                    "output_type": "display_data",
                    "data": {
                        "text/html": "Total execution time: 00:00:00.045"
                    },
                    "metadata": {}
                },
                {
                    "output_type": "execute_result",
                    "execution_count": 22,
                    "data": {
                        "application/vnd.dataresource+json": {
                            "schema": {
                                "fields": [
                                    {
                                        "name": "product_name"
                                    },
                                    {
                                        "name": "Style"
                                    },
                                    {
                                        "name": "Avg_Price"
                                    },
                                    {
                                        "name": "std_cost"
                                    }
                                ]
                            },
                            "data": [
                                {
                                    "product_name": "Women's Tights, S",
                                    "Style": "W ",
                                    "Avg_Price": "74.99",
                                    "std_cost": "30.9334"
                                },
                                {
                                    "product_name": "Women's Tights, M",
                                    "Style": "W ",
                                    "Avg_Price": "74.99",
                                    "std_cost": "30.9334"
                                },
                                {
                                    "product_name": "Women's Tights, L",
                                    "Style": "W ",
                                    "Avg_Price": "74.99",
                                    "std_cost": "30.9334"
                                },
                                {
                                    "product_name": "Women's Mountain Shorts, S",
                                    "Style": "W ",
                                    "Avg_Price": "69.99",
                                    "std_cost": "26.1763"
                                },
                                {
                                    "product_name": "Women's Mountain Shorts, M",
                                    "Style": "W ",
                                    "Avg_Price": "69.99",
                                    "std_cost": "26.1763"
                                }
                            ]
                        },
                        "text/html": "<table><tr><th>product_name</th><th>Style</th><th>Avg_Price</th><th>std_cost</th></tr><tr><td>Women&#39;s Tights, S</td><td>W </td><td>74.99</td><td>30.9334</td></tr><tr><td>Women&#39;s Tights, M</td><td>W </td><td>74.99</td><td>30.9334</td></tr><tr><td>Women&#39;s Tights, L</td><td>W </td><td>74.99</td><td>30.9334</td></tr><tr><td>Women&#39;s Mountain Shorts, S</td><td>W </td><td>69.99</td><td>26.1763</td></tr><tr><td>Women&#39;s Mountain Shorts, M</td><td>W </td><td>69.99</td><td>26.1763</td></tr></table>"
                    },
                    "metadata": {}
                }
            ],
            "execution_count": 22
        },
        {
            "cell_type": "markdown",
            "source": [
                "# **🤷‍♂️Tip 9: How to use Wildcards**\n",
                "\n",
                "\\- A wildcard character is used to substitute one or more characters in a string.\n",
                "\n",
                "\\- Wildcard characters are used with the LIKE operator; the LIKE operator is used in a WHERE clause to search for a specified pattern in a column.\n",
                "\n",
                "The following query uses Wildacrds to filter specific records from the \"DimProduct\" table that satisfy specific conditions:"
            ],
            "metadata": {
                "language": "sql",
                "azdata_cell_guid": "7aafb26f-a842-4ea7-b4ce-1a87f4d8808c"
            },
            "attachments": {}
        },
        {
            "cell_type": "code",
            "source": [
                "/*\r\n",
                "Code Structure:\r\n",
                "____________________\r\n",
                "\r\n",
                "SELECT [column_name]\r\n",
                "FROM [table_name]\r\n",
                "WHERE [column_name] LIKE 'a%'\r\n",
                ";\r\n",
                "\r\n",
                "-- NOTE: The following are exaples of wildcard combinations:\r\n",
                "\r\n",
                "WHERE CustomerName LIKE 'a%'\tFinds any values that starts with \"a\"\r\n",
                "WHERE CustomerName LIKE '%a'\tFinds any values that ends with \"a\"\r\n",
                "WHERE CustomerName LIKE '%or%'\tFinds any values that have \"or\" in any position\r\n",
                "WHERE CustomerName LIKE '_r%'\tFinds any values that have \"r\" in the second position\r\n",
                "WHERE CustomerName LIKE 'a_%_%'\tFinds any values that starts with \"a\" and are at least 3 characters in length\r\n",
                "WHERE ContactName LIKE 'a%o'\tFinds any values that starts with \"a\" and ends with \"o\""
            ],
            "metadata": {
                "language": "sql",
                "azdata_cell_guid": "a477b3d7-7549-4647-9c9a-69ed81017b6d"
            },
            "outputs": [],
            "execution_count": null
        },
        {
            "cell_type": "code",
            "source": [
                "-- Example:\r\n",
                "USE AdventureWorksDW2022;\r\n",
                "GO\r\n",
                "\r\n",
                "SELECT Top 5 EnglishProductName as 'product_name'\r\n",
                "            ,Style\r\n",
                "            ,ListPrice\r\n",
                "            ,StandardCost as 'std_cost'\r\n",
                "FROM dbo.DimProduct\r\n",
                "WHERE EnglishProductName LIKE 'd%e'\r\n",
                ";"
            ],
            "metadata": {
                "language": "sql",
                "azdata_cell_guid": "bfe2a890-d537-4a76-9cbf-eeaf825179c2"
            },
            "outputs": [
                {
                    "output_type": "display_data",
                    "data": {
                        "text/html": "Commands completed successfully."
                    },
                    "metadata": {}
                },
                {
                    "output_type": "display_data",
                    "data": {
                        "text/html": "(1 row affected)"
                    },
                    "metadata": {}
                },
                {
                    "output_type": "display_data",
                    "data": {
                        "text/html": "Total execution time: 00:00:00.017"
                    },
                    "metadata": {}
                },
                {
                    "output_type": "execute_result",
                    "execution_count": 29,
                    "data": {
                        "application/vnd.dataresource+json": {
                            "schema": {
                                "fields": [
                                    {
                                        "name": "product_name"
                                    },
                                    {
                                        "name": "Style"
                                    },
                                    {
                                        "name": "ListPrice"
                                    },
                                    {
                                        "name": "std_cost"
                                    }
                                ]
                            },
                            "data": [
                                {
                                    "product_name": "Down Tube",
                                    "Style": "NULL",
                                    "ListPrice": "NULL",
                                    "std_cost": "NULL"
                                }
                            ]
                        },
                        "text/html": "<table><tr><th>product_name</th><th>Style</th><th>ListPrice</th><th>std_cost</th></tr><tr><td>Down Tube</td><td>NULL</td><td>NULL</td><td>NULL</td></tr></table>"
                    },
                    "metadata": {}
                }
            ],
            "execution_count": 29
        },
        {
            "cell_type": "markdown",
            "source": [
                "# **🤷‍♂️Tip 10: How to use the CONCAT Function**\n",
                "\n",
                "\\- The CONCAT function adds 2 or more functions/column values together to create a new single column value.\n",
                "\n",
                "The following query uses the Order By clause to add/connect together specific records from the \"Customers\" table from the Northwind\\_2023 database:"
            ],
            "metadata": {
                "language": "sql",
                "azdata_cell_guid": "c776c11c-75bd-4746-a2ef-728e91209115"
            },
            "attachments": {}
        },
        {
            "cell_type": "code",
            "source": [
                "/*\r\n",
                "Code Structure:\r\n",
                "____________________\r\n",
                "\r\n",
                "SELECT CONCAT ([column_name], ' ', [column_name], ' ', [column_name]) as 'alias_name'\r\n",
                "FROM [table_name]\r\n",
                ";"
            ],
            "metadata": {
                "language": "sql",
                "azdata_cell_guid": "25197187-f5a7-4623-a238-e8d4f3bc32c3"
            },
            "outputs": [],
            "execution_count": null
        },
        {
            "cell_type": "code",
            "source": [
                "-- Example:\r\n",
                "USE Northwind_2023;\r\n",
                "GO\r\n",
                "\r\n",
                "SELECT Top 5 CustomerID\r\n",
                "      ,CompanyName\r\n",
                "      ,CONCAT(ContactTitle, ' ', ContactName) as 'contact_info'\r\n",
                "      ,CONCAT(City, ' ', Region, ' ', Country) as 'location' \r\n",
                "FROM dbo.Customers\r\n",
                ";"
            ],
            "metadata": {
                "language": "sql",
                "azdata_cell_guid": "c00afac7-a8db-44e0-9f7a-81890b4cb50f"
            },
            "outputs": [
                {
                    "output_type": "display_data",
                    "data": {
                        "text/html": "Commands completed successfully."
                    },
                    "metadata": {}
                },
                {
                    "output_type": "display_data",
                    "data": {
                        "text/html": "(5 rows affected)"
                    },
                    "metadata": {}
                },
                {
                    "output_type": "display_data",
                    "data": {
                        "text/html": "Total execution time: 00:00:00.016"
                    },
                    "metadata": {}
                },
                {
                    "output_type": "execute_result",
                    "metadata": {},
                    "execution_count": 11,
                    "data": {
                        "application/vnd.dataresource+json": {
                            "schema": {
                                "fields": [
                                    {
                                        "name": "CustomerID"
                                    },
                                    {
                                        "name": "CompanyName"
                                    },
                                    {
                                        "name": "contact_info"
                                    },
                                    {
                                        "name": "location"
                                    }
                                ]
                            },
                            "data": [
                                {
                                    "CustomerID": "ALFKI",
                                    "CompanyName": "Alfreds Futterkiste",
                                    "contact_info": "Sales Representative Maria Anders",
                                    "location": "Berlin  Germany"
                                },
                                {
                                    "CustomerID": "ANATR",
                                    "CompanyName": "Ana Trujillo Emparedados y helados",
                                    "contact_info": "Owner Ana Trujillo",
                                    "location": "México D.F.  Mexico"
                                },
                                {
                                    "CustomerID": "ANTON",
                                    "CompanyName": "Antonio Moreno Taquería",
                                    "contact_info": "Owner Antonio Moreno",
                                    "location": "México D.F.  Mexico"
                                },
                                {
                                    "CustomerID": "AROUT",
                                    "CompanyName": "Around the Horn",
                                    "contact_info": "Sales Representative Thomas Hardy",
                                    "location": "London  UK"
                                },
                                {
                                    "CustomerID": "BERGS",
                                    "CompanyName": "Berglunds snabbköp",
                                    "contact_info": "Order Administrator Christina Berglund",
                                    "location": "Luleå  Sweden"
                                }
                            ]
                        },
                        "text/html": [
                            "<table>",
                            "<tr><th>CustomerID</th><th>CompanyName</th><th>contact_info</th><th>location</th></tr>",
                            "<tr><td>ALFKI</td><td>Alfreds Futterkiste</td><td>Sales Representative Maria Anders</td><td>Berlin  Germany</td></tr>",
                            "<tr><td>ANATR</td><td>Ana Trujillo Emparedados y helados</td><td>Owner Ana Trujillo</td><td>México D.F.  Mexico</td></tr>",
                            "<tr><td>ANTON</td><td>Antonio Moreno Taquería</td><td>Owner Antonio Moreno</td><td>México D.F.  Mexico</td></tr>",
                            "<tr><td>AROUT</td><td>Around the Horn</td><td>Sales Representative Thomas Hardy</td><td>London  UK</td></tr>",
                            "<tr><td>BERGS</td><td>Berglunds snabbköp</td><td>Order Administrator Christina Berglund</td><td>Luleå  Sweden</td></tr>",
                            "</table>"
                        ]
                    }
                }
            ],
            "execution_count": 11
        },
        {
            "cell_type": "markdown",
            "source": [
                "# **🤷‍♂️Tip 11: How to use the Having clause**\n",
                "\n",
                "\\- The Having clause is usually used because additional filtering is required using an aggregate function and th WHERE function cannot be used with aggregate functions.\n",
                "\n",
                "The following query uses the Having clause to filter specific records from the \"Products\" table from the Northwind\\_2023 database:"
            ],
            "metadata": {
                "language": "sql",
                "azdata_cell_guid": "da0083a3-0af2-4df8-b802-8d5118a01bc2"
            },
            "attachments": {}
        },
        {
            "cell_type": "code",
            "source": [
                "/*\r\n",
                "Code Structure:\r\n",
                "____________________\r\n",
                "\r\n",
                "SELECT [column_name]\r\n",
                "FROM [table_name]\r\n",
                "WHERE [condition]\r\n",
                "GROUP BY [column_name]\r\n",
                "HAVING [condition]\r\n",
                "ORDER BY [column_name]\r\n",
                ";"
            ],
            "metadata": {
                "language": "sql",
                "azdata_cell_guid": "e634da11-6de5-4119-9ae7-87e49f4f30a9"
            },
            "outputs": [],
            "execution_count": null
        },
        {
            "cell_type": "code",
            "source": [
                "-- Example:\r\n",
                "USE Northwind_2023;\r\n",
                "GO\r\n",
                "\r\n",
                "SELECT Top 5 ProductID as 'prodID'\r\n",
                "      ,ProductName\r\n",
                "      ,AVG(UnitPrice)\r\n",
                "      ,UnitsInStock\r\n",
                "      ,UnitsOnOrder\r\n",
                "FROM dbo.Products\r\n",
                "WHERE UnitsInStock >= 5\r\n",
                "GROUP BY ProductID\r\n",
                "        ,ProductName\r\n",
                "        ,UnitsInStock\r\n",
                "        ,UnitsOnOrder\r\n",
                "HAVING COUNT(UnitsOnOrder) < 15\r\n",
                "ORDER BY ProductName DESC\r\n",
                ";"
            ],
            "metadata": {
                "language": "sql",
                "azdata_cell_guid": "3e4f73cd-fcfb-45e6-a685-c841197f3228"
            },
            "outputs": [
                {
                    "output_type": "display_data",
                    "data": {
                        "text/html": "Commands completed successfully."
                    },
                    "metadata": {}
                },
                {
                    "output_type": "display_data",
                    "data": {
                        "text/html": "(5 rows affected)"
                    },
                    "metadata": {}
                },
                {
                    "output_type": "display_data",
                    "data": {
                        "text/html": "Total execution time: 00:00:00.042"
                    },
                    "metadata": {}
                },
                {
                    "output_type": "execute_result",
                    "metadata": {},
                    "execution_count": 12,
                    "data": {
                        "application/vnd.dataresource+json": {
                            "schema": {
                                "fields": [
                                    {
                                        "name": "prodID"
                                    },
                                    {
                                        "name": "ProductName"
                                    },
                                    {
                                        "name": "(No column name)"
                                    },
                                    {
                                        "name": "UnitsInStock"
                                    },
                                    {
                                        "name": "UnitsOnOrder"
                                    }
                                ]
                            },
                            "data": [
                                {
                                    "prodID": "47",
                                    "ProductName": "Zaanse koeken",
                                    "(No column name)": "9.50",
                                    "UnitsInStock": "36",
                                    "UnitsOnOrder": "0"
                                },
                                {
                                    "prodID": "64",
                                    "ProductName": "Wimmers gute Semmelknödel",
                                    "(No column name)": "33.25",
                                    "UnitsInStock": "22",
                                    "UnitsOnOrder": "80"
                                },
                                {
                                    "prodID": "63",
                                    "ProductName": "Vegie-spread",
                                    "(No column name)": "43.90",
                                    "UnitsInStock": "24",
                                    "UnitsOnOrder": "0"
                                },
                                {
                                    "prodID": "50",
                                    "ProductName": "Valkoinen suklaa",
                                    "(No column name)": "16.25",
                                    "UnitsInStock": "65",
                                    "UnitsOnOrder": "0"
                                },
                                {
                                    "prodID": "7",
                                    "ProductName": "Uncle Bob's Organic Dried Pears",
                                    "(No column name)": "30.00",
                                    "UnitsInStock": "15",
                                    "UnitsOnOrder": "0"
                                }
                            ]
                        },
                        "text/html": [
                            "<table>",
                            "<tr><th>prodID</th><th>ProductName</th><th>(No column name)</th><th>UnitsInStock</th><th>UnitsOnOrder</th></tr>",
                            "<tr><td>47</td><td>Zaanse koeken</td><td>9.50</td><td>36</td><td>0</td></tr>",
                            "<tr><td>64</td><td>Wimmers gute Semmelknödel</td><td>33.25</td><td>22</td><td>80</td></tr>",
                            "<tr><td>63</td><td>Vegie-spread</td><td>43.90</td><td>24</td><td>0</td></tr>",
                            "<tr><td>50</td><td>Valkoinen suklaa</td><td>16.25</td><td>65</td><td>0</td></tr>",
                            "<tr><td>7</td><td>Uncle Bob&#39;s Organic Dried Pears</td><td>30.00</td><td>15</td><td>0</td></tr>",
                            "</table>"
                        ]
                    }
                }
            ],
            "execution_count": 12
        },
        {
            "cell_type": "markdown",
            "source": [
                "# **🤷‍♂️Tip 12: How to use the INNER JOIN function**\n",
                "\n",
                "\\- The INNER JOIN function selects records that match (common) between both tables.\n",
                "\n",
                "\\- You can also use INNER JOIN to join more than 2 tabes together.\n",
                "\n",
                "The following query uses the INNER JOIN function to match records from the \"Orders\" & \"OrderDetails\" tables from the Northwind\\_2023 database:"
            ],
            "metadata": {
                "azdata_cell_guid": "8984ea1a-dd66-4901-86c1-b894a477edcd"
            },
            "attachments": {}
        },
        {
            "cell_type": "code",
            "source": [
                "/*\r\n",
                "Code Structure:\r\n",
                "____________________\r\n",
                "\r\n",
                "SELECT [column_names]\r\n",
                "FROM [table1_name]\r\n",
                "INNER JOIN [table2_name] \r\n",
                "ON [table1_name].[column_name] = [table2_name].[column_name]\r\n",
                ";\r\n",
                "*/"
            ],
            "metadata": {
                "azdata_cell_guid": "60d3d914-9fa2-4e7c-b646-255ac26a2fca",
                "language": "sql"
            },
            "outputs": [],
            "execution_count": null
        },
        {
            "cell_type": "code",
            "source": [
                "-- Example:\r\n",
                "USE Northwind_2023;\r\n",
                "GO\r\n",
                "\r\n",
                "SELECT Top 5 od.OrderID\r\n",
                "            ,od.ShipName\r\n",
                "            ,od.ShippedDate\r\n",
                "            ,od.ShipCountry\r\n",
                "            ,ord.UnitPrice\r\n",
                "FROM dbo.Orders od\r\n",
                "INNER JOIN OrderDetails ord \r\n",
                "on od.OrderID = ord.OrderID\r\n",
                "GROUP BY od.OrderID\r\n",
                "        ,od.ShipName\r\n",
                "        ,od.ShippedDate\r\n",
                "        ,od.ShipCountry\r\n",
                "        ,ord.UnitPrice\r\n",
                "ORDER BY od.ShipName DESC\r\n",
                ";"
            ],
            "metadata": {
                "language": "sql",
                "azdata_cell_guid": "3bf8dad8-5651-4181-9806-1db65d3905f8"
            },
            "outputs": [
                {
                    "output_type": "display_data",
                    "data": {
                        "text/html": "Commands completed successfully."
                    },
                    "metadata": {}
                },
                {
                    "output_type": "display_data",
                    "data": {
                        "text/html": "(5 rows affected)"
                    },
                    "metadata": {}
                },
                {
                    "output_type": "display_data",
                    "data": {
                        "text/html": "Total execution time: 00:00:00.039"
                    },
                    "metadata": {}
                },
                {
                    "output_type": "execute_result",
                    "metadata": {},
                    "execution_count": 25,
                    "data": {
                        "application/vnd.dataresource+json": {
                            "schema": {
                                "fields": [
                                    {
                                        "name": "OrderID"
                                    },
                                    {
                                        "name": "ShipName"
                                    },
                                    {
                                        "name": "ShippedDate"
                                    },
                                    {
                                        "name": "ShipCountry"
                                    },
                                    {
                                        "name": "UnitPrice"
                                    }
                                ]
                            },
                            "data": [
                                {
                                    "OrderID": "10374",
                                    "ShipName": "Wolski Zajazd",
                                    "ShippedDate": "2021-12-09 00:00:00.000",
                                    "ShipCountry": "Poland",
                                    "UnitPrice": "10.00"
                                },
                                {
                                    "OrderID": "10374",
                                    "ShipName": "Wolski Zajazd",
                                    "ShippedDate": "2021-12-09 00:00:00.000",
                                    "ShipCountry": "Poland",
                                    "UnitPrice": "10.60"
                                },
                                {
                                    "OrderID": "10611",
                                    "ShipName": "Wolski Zajazd",
                                    "ShippedDate": "2022-08-01 00:00:00.000",
                                    "ShipCountry": "Poland",
                                    "UnitPrice": "18.00"
                                },
                                {
                                    "OrderID": "10611",
                                    "ShipName": "Wolski Zajazd",
                                    "ShippedDate": "2022-08-01 00:00:00.000",
                                    "ShipCountry": "Poland",
                                    "UnitPrice": "19.00"
                                },
                                {
                                    "OrderID": "10611",
                                    "ShipName": "Wolski Zajazd",
                                    "ShippedDate": "2022-08-01 00:00:00.000",
                                    "ShipCountry": "Poland",
                                    "UnitPrice": "34.00"
                                }
                            ]
                        },
                        "text/html": [
                            "<table>",
                            "<tr><th>OrderID</th><th>ShipName</th><th>ShippedDate</th><th>ShipCountry</th><th>UnitPrice</th></tr>",
                            "<tr><td>10374</td><td>Wolski Zajazd</td><td>2021-12-09 00:00:00.000</td><td>Poland</td><td>10.00</td></tr>",
                            "<tr><td>10374</td><td>Wolski Zajazd</td><td>2021-12-09 00:00:00.000</td><td>Poland</td><td>10.60</td></tr>",
                            "<tr><td>10611</td><td>Wolski Zajazd</td><td>2022-08-01 00:00:00.000</td><td>Poland</td><td>18.00</td></tr>",
                            "<tr><td>10611</td><td>Wolski Zajazd</td><td>2022-08-01 00:00:00.000</td><td>Poland</td><td>19.00</td></tr>",
                            "<tr><td>10611</td><td>Wolski Zajazd</td><td>2022-08-01 00:00:00.000</td><td>Poland</td><td>34.00</td></tr>",
                            "</table>"
                        ]
                    }
                }
            ],
            "execution_count": 25
        },
        {
            "cell_type": "markdown",
            "source": [
                "# **🤷‍♂️Tip 13: How to use the LEFT & RIGHT JOIN function(s)**\n",
                "\n",
                "\\- The LEFT JOIN function selects records that match (common) between both tables \\[table\\_name1\\] & <span style=\"color: var(--vscode-foreground);\">[table_name2]</span>  <span style=\"color: var(--vscode-foreground);\">and all records from the left table&nbsp;</span>   <span style=\"color: var(--vscode-foreground);\">[table_name1].</span>\n",
                "\n",
                "_**<span style=\"color: var(--vscode-foreground);\">- The same principle apples to the RIGHT JOIN function, except it will select all records from the right table&nbsp;</span>  <span style=\"color: var(--vscode-foreground);\">[table_name2]&nbsp;</span>  <span style=\"color: var(--vscode-foreground);\">instead.</span>**_\n",
                "\n",
                "\\- You can also join more than 2 tabes together.\n",
                "\n",
                "The following query uses the INNER JOIN function to match records from the \"Orders\" & \"OrderDetails\" tables from the Northwind\\_2023 database"
            ],
            "metadata": {
                "language": "sql",
                "azdata_cell_guid": "6b26e5a4-43e6-40e4-907f-1275b9b2d96d"
            },
            "attachments": {}
        },
        {
            "cell_type": "code",
            "source": [
                "/*\r\n",
                "Code Structure:\r\n",
                "____________________\r\n",
                "\r\n",
                "SELECT [column_names]\r\n",
                "FROM [table1_name]\r\n",
                "LEFT JOIN [table2_name] \r\n",
                "ON [table1_name].[column_name] = [table2_name].[column_name]\r\n",
                ";\r\n",
                "*/"
            ],
            "metadata": {
                "language": "sql",
                "azdata_cell_guid": "d6f455b6-1038-4a3c-8968-b8ad79f027f6"
            },
            "outputs": [],
            "execution_count": null
        },
        {
            "cell_type": "code",
            "source": [
                "-- Example:\r\n",
                "USE Northwind_2023;\r\n",
                "GO\r\n",
                "\r\n",
                "SELECT Top 5 od.OrderID\r\n",
                "            ,od.ShipName\r\n",
                "            ,od.ShippedDate\r\n",
                "            ,ord.UnitPrice\r\n",
                "            ,ord.Quantity\r\n",
                "            ,od.Freight\r\n",
                "FROM dbo.Orders od\r\n",
                "LEFT JOIN OrderDetails ord \r\n",
                "on od.OrderID = ord.OrderID\r\n",
                "ORDER BY od.ShippedDate DESC\r\n",
                ";"
            ],
            "metadata": {
                "language": "sql",
                "azdata_cell_guid": "e21db7ae-747b-4491-b7a4-fdb25da4cdb0"
            },
            "outputs": [
                {
                    "output_type": "display_data",
                    "data": {
                        "text/html": "Commands completed successfully."
                    },
                    "metadata": {}
                },
                {
                    "output_type": "display_data",
                    "data": {
                        "text/html": "(5 rows affected)"
                    },
                    "metadata": {}
                },
                {
                    "output_type": "display_data",
                    "data": {
                        "text/html": "Total execution time: 00:00:00.035"
                    },
                    "metadata": {}
                },
                {
                    "output_type": "execute_result",
                    "metadata": {},
                    "execution_count": 26,
                    "data": {
                        "application/vnd.dataresource+json": {
                            "schema": {
                                "fields": [
                                    {
                                        "name": "OrderID"
                                    },
                                    {
                                        "name": "ShipName"
                                    },
                                    {
                                        "name": "ShippedDate"
                                    },
                                    {
                                        "name": "UnitPrice"
                                    },
                                    {
                                        "name": "Quantity"
                                    },
                                    {
                                        "name": "Freight"
                                    }
                                ]
                            },
                            "data": [
                                {
                                    "OrderID": "11069",
                                    "ShipName": "Tortuga Restaurante",
                                    "ShippedDate": "2023-05-06 00:00:00.000",
                                    "UnitPrice": "18.00",
                                    "Quantity": "20",
                                    "Freight": "15.67"
                                },
                                {
                                    "OrderID": "11063",
                                    "ShipName": "Hungry Owl All-Night Grocers",
                                    "ShippedDate": "2023-05-06 00:00:00.000",
                                    "UnitPrice": "14.00",
                                    "Quantity": "30",
                                    "Freight": "81.73"
                                },
                                {
                                    "OrderID": "11063",
                                    "ShipName": "Hungry Owl All-Night Grocers",
                                    "ShippedDate": "2023-05-06 00:00:00.000",
                                    "UnitPrice": "18.40",
                                    "Quantity": "40",
                                    "Freight": "81.73"
                                },
                                {
                                    "OrderID": "11063",
                                    "ShipName": "Hungry Owl All-Night Grocers",
                                    "ShippedDate": "2023-05-06 00:00:00.000",
                                    "UnitPrice": "9.65",
                                    "Quantity": "30",
                                    "Freight": "81.73"
                                },
                                {
                                    "OrderID": "11067",
                                    "ShipName": "Drachenblut Delikatessen",
                                    "ShippedDate": "2023-05-06 00:00:00.000",
                                    "UnitPrice": "9.65",
                                    "Quantity": "9",
                                    "Freight": "7.98"
                                }
                            ]
                        },
                        "text/html": [
                            "<table>",
                            "<tr><th>OrderID</th><th>ShipName</th><th>ShippedDate</th><th>UnitPrice</th><th>Quantity</th><th>Freight</th></tr>",
                            "<tr><td>11069</td><td>Tortuga Restaurante</td><td>2023-05-06 00:00:00.000</td><td>18.00</td><td>20</td><td>15.67</td></tr>",
                            "<tr><td>11063</td><td>Hungry Owl All-Night Grocers</td><td>2023-05-06 00:00:00.000</td><td>14.00</td><td>30</td><td>81.73</td></tr>",
                            "<tr><td>11063</td><td>Hungry Owl All-Night Grocers</td><td>2023-05-06 00:00:00.000</td><td>18.40</td><td>40</td><td>81.73</td></tr>",
                            "<tr><td>11063</td><td>Hungry Owl All-Night Grocers</td><td>2023-05-06 00:00:00.000</td><td>9.65</td><td>30</td><td>81.73</td></tr>",
                            "<tr><td>11067</td><td>Drachenblut Delikatessen</td><td>2023-05-06 00:00:00.000</td><td>9.65</td><td>9</td><td>7.98</td></tr>",
                            "</table>"
                        ]
                    }
                }
            ],
            "execution_count": 26
        },
        {
            "cell_type": "markdown",
            "source": [
                "# **🤷‍♂️Tip 14: How to use the FULL OUTER JOIN function**\n",
                "\n",
                "\\- The FULL OUTTER JOIN (FULL JOIN) function selects/returns all records that match (common) in either of the two (2) left or right tables\n",
                "\n",
                "\\- You can also use FULL OUTTER JOIN (FULL JOIN) to join more than 2 tabes together, however, this may return a very large result, potentially leading o performace issues.\n",
                "\n",
                "The following query uses the INNER JOIN function to match records from the \"Products\" & \"OrderDetails\" tables from the Northwind\\_2023 database:"
            ],
            "metadata": {
                "language": "sql",
                "azdata_cell_guid": "aa0b78d8-97af-4dd8-b3a7-806744c57399"
            },
            "attachments": {}
        },
        {
            "cell_type": "code",
            "source": [
                "/*\r\n",
                "Code Structure:\r\n",
                "____________________\r\n",
                "\r\n",
                "SELECT [column_names]\r\n",
                "FROM [table1_name]\r\n",
                "FULL OUTER JOIN [table2_name] \r\n",
                "ON [table1_name].[column_name] = [table2_name].[column_name]\r\n",
                ";\r\n",
                "*/"
            ],
            "metadata": {
                "language": "sql",
                "azdata_cell_guid": "251e2903-d693-42e7-bc62-be08429eec71"
            },
            "outputs": [],
            "execution_count": null
        },
        {
            "cell_type": "code",
            "source": [
                "-- Example:\r\n",
                "USE Northwind_2023;\r\n",
                "GO\r\n",
                "\r\n",
                "SELECT Top 5 prod.ProductID\r\n",
                "            ,prod.ProductName\r\n",
                "            ,ord.Quantity\r\n",
                "            ,ord.UnitPrice\r\n",
                "FROM dbo.Products prod\r\n",
                "FULL OUTER JOIN OrderDetails ord \r\n",
                "on prod.ProductID = ord.ProductID\r\n",
                "ORDER BY ord.Quantity DESC\r\n",
                ";"
            ],
            "metadata": {
                "language": "sql",
                "azdata_cell_guid": "ba6938ae-e2ed-498d-800c-cc14264fd8c6"
            },
            "outputs": [
                {
                    "output_type": "display_data",
                    "data": {
                        "text/html": "Commands completed successfully."
                    },
                    "metadata": {}
                },
                {
                    "output_type": "display_data",
                    "data": {
                        "text/html": "(5 rows affected)"
                    },
                    "metadata": {}
                },
                {
                    "output_type": "display_data",
                    "data": {
                        "text/html": "Total execution time: 00:00:00.020"
                    },
                    "metadata": {}
                },
                {
                    "output_type": "execute_result",
                    "metadata": {},
                    "execution_count": 29,
                    "data": {
                        "application/vnd.dataresource+json": {
                            "schema": {
                                "fields": [
                                    {
                                        "name": "ProductID"
                                    },
                                    {
                                        "name": "ProductName"
                                    },
                                    {
                                        "name": "Quantity"
                                    },
                                    {
                                        "name": "UnitPrice"
                                    }
                                ]
                            },
                            "data": [
                                {
                                    "ProductID": "39",
                                    "ProductName": "Chartreuse verte",
                                    "Quantity": "130",
                                    "UnitPrice": "18.00"
                                },
                                {
                                    "ProductID": "64",
                                    "ProductName": "Wimmers gute Semmelknödel",
                                    "Quantity": "130",
                                    "UnitPrice": "33.25"
                                },
                                {
                                    "ProductID": "55",
                                    "ProductName": "Pâté chinois",
                                    "Quantity": "120",
                                    "UnitPrice": "19.20"
                                },
                                {
                                    "ProductID": "55",
                                    "ProductName": "Pâté chinois",
                                    "Quantity": "120",
                                    "UnitPrice": "19.20"
                                },
                                {
                                    "ProductID": "27",
                                    "ProductName": "Schoggi Schokolade",
                                    "Quantity": "120",
                                    "UnitPrice": "43.90"
                                }
                            ]
                        },
                        "text/html": [
                            "<table>",
                            "<tr><th>ProductID</th><th>ProductName</th><th>Quantity</th><th>UnitPrice</th></tr>",
                            "<tr><td>39</td><td>Chartreuse verte</td><td>130</td><td>18.00</td></tr>",
                            "<tr><td>64</td><td>Wimmers gute Semmelknödel</td><td>130</td><td>33.25</td></tr>",
                            "<tr><td>55</td><td>Pâté chinois</td><td>120</td><td>19.20</td></tr>",
                            "<tr><td>55</td><td>Pâté chinois</td><td>120</td><td>19.20</td></tr>",
                            "<tr><td>27</td><td>Schoggi Schokolade</td><td>120</td><td>43.90</td></tr>",
                            "</table>"
                        ]
                    }
                }
            ],
            "execution_count": 29
        },
        {
            "cell_type": "markdown",
            "source": [
                "# **🤷‍♂️Tip 15: How to use the SELF JOIN function**\n",
                "\n",
                "\\- The SELF JOIN function is similar to the regular JOIN (INNER JOIN) function, excet that a table joins to itself to satisfy a specific condition through commonly using the WHERE clause and associated operators.\n",
                "\n",
                "The following query uses the SELF JOIN function to return records from the \"Customers\" table from the Northwind\\_2023 database:"
            ],
            "metadata": {
                "language": "sql",
                "azdata_cell_guid": "89469fb4-c596-4fb3-88e5-263b8081a64c"
            },
            "attachments": {}
        },
        {
            "cell_type": "code",
            "source": [
                "/*\r\n",
                "Code Structure:\r\n",
                "____________________\r\n",
                "\r\n",
                "SELECT [column_name(s)]\r\n",
                "FROM [table_name1] as 'alias_name1', [table_name2] as 'alias_name2'\r\n",
                "WHERE [condition]\r\n",
                ";"
            ],
            "metadata": {
                "language": "sql",
                "azdata_cell_guid": "6f747a19-1dcb-4b09-9ddc-f47943efa48f"
            },
            "outputs": [],
            "execution_count": null
        },
        {
            "cell_type": "code",
            "source": [
                "-- Example:\r\n",
                "USE Northwind_2023;\r\n",
                "GO\r\n",
                "\r\n",
                "SELECT Top 5 cus1.ContactName as 'contact_1'\r\n",
                "            ,cus2.ContactName as 'contact_2'\r\n",
                "            ,cus1.Phone\r\n",
                "            ,cus1.Country\r\n",
                "FROM dbo.Customers cus1\r\n",
                "    ,dbo.Customers cus2\r\n",
                "WHERE cus1.CustomerID <> cus2.CustomerID\r\n",
                "ORDER BY cus1.Phone DESC\r\n",
                ";"
            ],
            "metadata": {
                "language": "sql",
                "azdata_cell_guid": "27e49026-9540-4afc-888a-ab8f3a421414"
            },
            "outputs": [
                {
                    "output_type": "display_data",
                    "data": {
                        "text/html": "Commands completed successfully."
                    },
                    "metadata": {}
                },
                {
                    "output_type": "display_data",
                    "data": {
                        "text/html": "(5 rows affected)"
                    },
                    "metadata": {}
                },
                {
                    "output_type": "display_data",
                    "data": {
                        "text/html": "Total execution time: 00:00:00.005"
                    },
                    "metadata": {}
                },
                {
                    "output_type": "execute_result",
                    "metadata": {},
                    "execution_count": 32,
                    "data": {
                        "application/vnd.dataresource+json": {
                            "schema": {
                                "fields": [
                                    {
                                        "name": "contact_1"
                                    },
                                    {
                                        "name": "contact_2"
                                    },
                                    {
                                        "name": "Phone"
                                    },
                                    {
                                        "name": "Country"
                                    }
                                ]
                            },
                            "data": [
                                {
                                    "contact_1": "Pirkko Koskitalo",
                                    "contact_2": "Maria Anders",
                                    "Phone": "981-443655",
                                    "Country": "Finland"
                                },
                                {
                                    "contact_1": "Pirkko Koskitalo",
                                    "contact_2": "Ana Trujillo",
                                    "Phone": "981-443655",
                                    "Country": "Finland"
                                },
                                {
                                    "contact_1": "Pirkko Koskitalo",
                                    "contact_2": "Antonio Moreno",
                                    "Phone": "981-443655",
                                    "Country": "Finland"
                                },
                                {
                                    "contact_1": "Pirkko Koskitalo",
                                    "contact_2": "Thomas Hardy",
                                    "Phone": "981-443655",
                                    "Country": "Finland"
                                },
                                {
                                    "contact_1": "Pirkko Koskitalo",
                                    "contact_2": "Christina Berglund",
                                    "Phone": "981-443655",
                                    "Country": "Finland"
                                }
                            ]
                        },
                        "text/html": [
                            "<table>",
                            "<tr><th>contact_1</th><th>contact_2</th><th>Phone</th><th>Country</th></tr>",
                            "<tr><td>Pirkko Koskitalo</td><td>Maria Anders</td><td>981-443655</td><td>Finland</td></tr>",
                            "<tr><td>Pirkko Koskitalo</td><td>Ana Trujillo</td><td>981-443655</td><td>Finland</td></tr>",
                            "<tr><td>Pirkko Koskitalo</td><td>Antonio Moreno</td><td>981-443655</td><td>Finland</td></tr>",
                            "<tr><td>Pirkko Koskitalo</td><td>Thomas Hardy</td><td>981-443655</td><td>Finland</td></tr>",
                            "<tr><td>Pirkko Koskitalo</td><td>Christina Berglund</td><td>981-443655</td><td>Finland</td></tr>",
                            "</table>"
                        ]
                    }
                }
            ],
            "execution_count": 32
        },
        {
            "cell_type": "markdown",
            "source": [
                "# **🤷‍♂️Tip 16: How to use CREATE VIEW statement**\n",
                "\n",
                "\\- The CREATE VIEW statement is used to create a pseudo virtual table based on the result-set of abSQL statement.\n",
                "\n",
                "\\- A view contains columns/fields from 1 or more real tables in the database and may also contain other SQL statements and presents the data as if it were coming from a real existing single table; it is useful for creating virutal \"Lookups\" for long/complicated SQL statements where multiple referencess and functions are needed.\n",
                "\n",
                "\\- The CREATE VIEW virtual table will only exist in memory for as logn as the query is being run\n",
                "\n",
                "The following query uses the CREATE VIEW statement to create a virtual \"Lookup table\" from the \"Customers\" table from the Northwind\\_2023 database:"
            ],
            "metadata": {
                "language": "sql",
                "azdata_cell_guid": "09df57fc-b261-44d0-bbf3-5a8b47661168"
            },
            "attachments": {}
        },
        {
            "cell_type": "code",
            "source": [
                "/*\r\n",
                "Code Structure:\r\n",
                "____________________\r\n",
                "\r\n",
                "CREATE VIEW [view_name] AS\r\n",
                "SELECT [column1], [column2], etc...\r\n",
                "FROM [table_name]\r\n",
                "WHERE [condition]\r\n",
                ";\r\n",
                "*/"
            ],
            "metadata": {
                "language": "sql",
                "azdata_cell_guid": "5c55a7b1-e173-4e16-9707-84e96dfcad4e"
            },
            "outputs": [],
            "execution_count": null
        },
        {
            "cell_type": "code",
            "source": [
                "-- Example:\r\n",
                "USE Northwind_2023;\r\n",
                "GO\r\n",
                "\r\n",
                "CREATE VIEW [USA_Customers] AS\r\n",
                "SELECT CompanyName\r\n",
                "      ,ContactName\r\n",
                "      ,ContactTitle\r\n",
                "      ,Region\r\n",
                "      ,Country\r\n",
                "FROM dbo.Customers\r\n",
                "WHERE Country = 'USA'\r\n",
                ";\r\n",
                "\r\n",
                "-- Example continues below with next SQL statement:"
            ],
            "metadata": {
                "language": "sql",
                "azdata_cell_guid": "9dfaa48c-b02b-4762-9834-830e41d0509e"
            },
            "outputs": [
                {
                    "output_type": "display_data",
                    "data": {
                        "text/html": "Commands completed successfully."
                    },
                    "metadata": {}
                },
                {
                    "output_type": "error",
                    "evalue": "Msg 2714, Level 16, State 3, Procedure USA_Customers, Line 2\r\nThere is already an object named 'USA_Customers' in the database.",
                    "ename": "",
                    "traceback": []
                },
                {
                    "output_type": "display_data",
                    "data": {
                        "text/html": "Total execution time: 00:00:00.003"
                    },
                    "metadata": {}
                }
            ],
            "execution_count": 59
        },
        {
            "cell_type": "code",
            "source": [
                "SELECT *\r\n",
                "FROM [USA_Customers]\r\n",
                ";"
            ],
            "metadata": {
                "language": "sql",
                "azdata_cell_guid": "7a9a0b39-f329-4b02-bb5d-ce72868f9791"
            },
            "outputs": [
                {
                    "output_type": "display_data",
                    "data": {
                        "text/html": "(13 rows affected)"
                    },
                    "metadata": {}
                },
                {
                    "output_type": "display_data",
                    "data": {
                        "text/html": "Total execution time: 00:00:00.007"
                    },
                    "metadata": {}
                },
                {
                    "output_type": "execute_result",
                    "metadata": {},
                    "execution_count": 60,
                    "data": {
                        "application/vnd.dataresource+json": {
                            "schema": {
                                "fields": [
                                    {
                                        "name": "CompanyName"
                                    },
                                    {
                                        "name": "ContactName"
                                    },
                                    {
                                        "name": "ContactTitle"
                                    },
                                    {
                                        "name": "Region"
                                    },
                                    {
                                        "name": "Country"
                                    }
                                ]
                            },
                            "data": [
                                {
                                    "CompanyName": "Great Lakes Food Market",
                                    "ContactName": "Howard Snyder",
                                    "ContactTitle": "Marketing Manager",
                                    "Region": "OR",
                                    "Country": "USA"
                                },
                                {
                                    "CompanyName": "Hungry Coyote Import Store",
                                    "ContactName": "Yoshi Latimer",
                                    "ContactTitle": "Sales Representative",
                                    "Region": "OR",
                                    "Country": "USA"
                                },
                                {
                                    "CompanyName": "Lazy K Kountry Store",
                                    "ContactName": "John Steel",
                                    "ContactTitle": "Marketing Manager",
                                    "Region": "WA",
                                    "Country": "USA"
                                },
                                {
                                    "CompanyName": "Let's Stop N Shop",
                                    "ContactName": "Jaime Yorres",
                                    "ContactTitle": "Owner",
                                    "Region": "CA",
                                    "Country": "USA"
                                },
                                {
                                    "CompanyName": "Lonesome Pine Restaurant",
                                    "ContactName": "Fran Wilson",
                                    "ContactTitle": "Sales Manager",
                                    "Region": "OR",
                                    "Country": "USA"
                                },
                                {
                                    "CompanyName": "Old World Delicatessen",
                                    "ContactName": "Rene Phillips",
                                    "ContactTitle": "Sales Representative",
                                    "Region": "AK",
                                    "Country": "USA"
                                },
                                {
                                    "CompanyName": "Rattlesnake Canyon Grocery",
                                    "ContactName": "Paula Wilson",
                                    "ContactTitle": "Assistant Sales Representative",
                                    "Region": "NM",
                                    "Country": "USA"
                                },
                                {
                                    "CompanyName": "Save-a-lot Markets",
                                    "ContactName": "Jose Pavarotti",
                                    "ContactTitle": "Sales Representative",
                                    "Region": "ID",
                                    "Country": "USA"
                                },
                                {
                                    "CompanyName": "Split Rail Beer & Ale",
                                    "ContactName": "Art Braunschweiger",
                                    "ContactTitle": "Sales Manager",
                                    "Region": "WY",
                                    "Country": "USA"
                                },
                                {
                                    "CompanyName": "The Big Cheese",
                                    "ContactName": "Liz Nixon",
                                    "ContactTitle": "Marketing Manager",
                                    "Region": "OR",
                                    "Country": "USA"
                                },
                                {
                                    "CompanyName": "The Cracker Box",
                                    "ContactName": "Liu Wong",
                                    "ContactTitle": "Marketing Assistant",
                                    "Region": "MT",
                                    "Country": "USA"
                                },
                                {
                                    "CompanyName": "Trail's Head Gourmet Provisioners",
                                    "ContactName": "Helvetius Nagy",
                                    "ContactTitle": "Sales Associate",
                                    "Region": "WA",
                                    "Country": "USA"
                                },
                                {
                                    "CompanyName": "White Clover Markets",
                                    "ContactName": "Karl Jablonski",
                                    "ContactTitle": "Owner",
                                    "Region": "WA",
                                    "Country": "USA"
                                }
                            ]
                        },
                        "text/html": [
                            "<table>",
                            "<tr><th>CompanyName</th><th>ContactName</th><th>ContactTitle</th><th>Region</th><th>Country</th></tr>",
                            "<tr><td>Great Lakes Food Market</td><td>Howard Snyder</td><td>Marketing Manager</td><td>OR</td><td>USA</td></tr>",
                            "<tr><td>Hungry Coyote Import Store</td><td>Yoshi Latimer</td><td>Sales Representative</td><td>OR</td><td>USA</td></tr>",
                            "<tr><td>Lazy K Kountry Store</td><td>John Steel</td><td>Marketing Manager</td><td>WA</td><td>USA</td></tr>",
                            "<tr><td>Let&#39;s Stop N Shop</td><td>Jaime Yorres</td><td>Owner</td><td>CA</td><td>USA</td></tr>",
                            "<tr><td>Lonesome Pine Restaurant</td><td>Fran Wilson</td><td>Sales Manager</td><td>OR</td><td>USA</td></tr>",
                            "<tr><td>Old World Delicatessen</td><td>Rene Phillips</td><td>Sales Representative</td><td>AK</td><td>USA</td></tr>",
                            "<tr><td>Rattlesnake Canyon Grocery</td><td>Paula Wilson</td><td>Assistant Sales Representative</td><td>NM</td><td>USA</td></tr>",
                            "<tr><td>Save-a-lot Markets</td><td>Jose Pavarotti</td><td>Sales Representative</td><td>ID</td><td>USA</td></tr>",
                            "<tr><td>Split Rail Beer &amp; Ale</td><td>Art Braunschweiger</td><td>Sales Manager</td><td>WY</td><td>USA</td></tr>",
                            "<tr><td>The Big Cheese</td><td>Liz Nixon</td><td>Marketing Manager</td><td>OR</td><td>USA</td></tr>",
                            "<tr><td>The Cracker Box</td><td>Liu Wong</td><td>Marketing Assistant</td><td>MT</td><td>USA</td></tr>",
                            "<tr><td>Trail&#39;s Head Gourmet Provisioners</td><td>Helvetius Nagy</td><td>Sales Associate</td><td>WA</td><td>USA</td></tr>",
                            "<tr><td>White Clover Markets</td><td>Karl Jablonski</td><td>Owner</td><td>WA</td><td>USA</td></tr>",
                            "</table>"
                        ]
                    }
                }
            ],
            "execution_count": 60
        },
        {
            "cell_type": "markdown",
            "source": [
                "# **🤷‍♂️Tip 17: How to use ALTER VIEW**\n",
                "\n",
                "\\- This is used to update a view that is already created and being used.\n",
                "\n",
                "The following query uses the ALTER VIEW statement to add columns to the existing \\[USA\\_Customers\\] view created above:"
            ],
            "metadata": {
                "language": "sql",
                "azdata_cell_guid": "47a6137f-5589-4e9a-a094-c75bbce9abfa"
            },
            "attachments": {}
        },
        {
            "cell_type": "code",
            "source": [
                "/*\r\n",
                "Code Structure:\r\n",
                "____________________\r\n",
                "\r\n",
                "CREATE OR REPLACE VIEW [view_name] AS\r\n",
                "SELECT [column1], [column2], [new_column_name]\r\n",
                "FROM [table_name]\r\n",
                "WHERE [condition]\r\n",
                ";\r\n",
                "*/"
            ],
            "metadata": {
                "language": "sql",
                "azdata_cell_guid": "187285c3-8ded-430c-8a28-8005cb3064d2"
            },
            "outputs": [],
            "execution_count": null
        },
        {
            "cell_type": "code",
            "source": [
                "-- Example:\r\n",
                "USE Northwind_2023;\r\n",
                "GO\r\n",
                "\r\n",
                "ALTER VIEW [USA_Customers] AS\r\n",
                "SELECT CompanyName\r\n",
                "      ,ContactName\r\n",
                "      ,ContactTitle\r\n",
                "      ,Phone\r\n",
                "      ,City\r\n",
                "      ,Region\r\n",
                "      ,Country\r\n",
                "FROM dbo.Customers\r\n",
                "WHERE Country = 'USA'\r\n",
                ";\r\n",
                "\r\n",
                "-- Example continues below with next SQL statement:"
            ],
            "metadata": {
                "language": "sql",
                "azdata_cell_guid": "1cdf6559-398f-4658-86e8-8f6b6b745224"
            },
            "outputs": [
                {
                    "output_type": "display_data",
                    "data": {
                        "text/html": "Commands completed successfully."
                    },
                    "metadata": {}
                },
                {
                    "output_type": "display_data",
                    "data": {
                        "text/html": "Commands completed successfully."
                    },
                    "metadata": {}
                },
                {
                    "output_type": "display_data",
                    "data": {
                        "text/html": "Total execution time: 00:00:00.013"
                    },
                    "metadata": {}
                }
            ],
            "execution_count": 64
        },
        {
            "cell_type": "code",
            "source": [
                "SELECT top 5 *\r\n",
                "FROM [USA_Customers]\r\n",
                ";"
            ],
            "metadata": {
                "language": "sql",
                "azdata_cell_guid": "dacc6c52-463d-4c5d-9c49-b4a71df1c969"
            },
            "outputs": [
                {
                    "output_type": "display_data",
                    "data": {
                        "text/html": "(5 rows affected)"
                    },
                    "metadata": {}
                },
                {
                    "output_type": "display_data",
                    "data": {
                        "text/html": "Total execution time: 00:00:00.021"
                    },
                    "metadata": {}
                },
                {
                    "output_type": "execute_result",
                    "metadata": {},
                    "execution_count": 65,
                    "data": {
                        "application/vnd.dataresource+json": {
                            "schema": {
                                "fields": [
                                    {
                                        "name": "CompanyName"
                                    },
                                    {
                                        "name": "ContactName"
                                    },
                                    {
                                        "name": "ContactTitle"
                                    },
                                    {
                                        "name": "Phone"
                                    },
                                    {
                                        "name": "City"
                                    },
                                    {
                                        "name": "Region"
                                    },
                                    {
                                        "name": "Country"
                                    }
                                ]
                            },
                            "data": [
                                {
                                    "CompanyName": "Great Lakes Food Market",
                                    "ContactName": "Howard Snyder",
                                    "ContactTitle": "Marketing Manager",
                                    "Phone": "(503) 555-7555",
                                    "City": "Eugene",
                                    "Region": "OR",
                                    "Country": "USA"
                                },
                                {
                                    "CompanyName": "Hungry Coyote Import Store",
                                    "ContactName": "Yoshi Latimer",
                                    "ContactTitle": "Sales Representative",
                                    "Phone": "(503) 555-6874",
                                    "City": "Elgin",
                                    "Region": "OR",
                                    "Country": "USA"
                                },
                                {
                                    "CompanyName": "Lazy K Kountry Store",
                                    "ContactName": "John Steel",
                                    "ContactTitle": "Marketing Manager",
                                    "Phone": "(509) 555-7969",
                                    "City": "Walla Walla",
                                    "Region": "WA",
                                    "Country": "USA"
                                },
                                {
                                    "CompanyName": "Let's Stop N Shop",
                                    "ContactName": "Jaime Yorres",
                                    "ContactTitle": "Owner",
                                    "Phone": "(415) 555-5938",
                                    "City": "San Francisco",
                                    "Region": "CA",
                                    "Country": "USA"
                                },
                                {
                                    "CompanyName": "Lonesome Pine Restaurant",
                                    "ContactName": "Fran Wilson",
                                    "ContactTitle": "Sales Manager",
                                    "Phone": "(503) 555-9573",
                                    "City": "Portland",
                                    "Region": "OR",
                                    "Country": "USA"
                                }
                            ]
                        },
                        "text/html": [
                            "<table>",
                            "<tr><th>CompanyName</th><th>ContactName</th><th>ContactTitle</th><th>Phone</th><th>City</th><th>Region</th><th>Country</th></tr>",
                            "<tr><td>Great Lakes Food Market</td><td>Howard Snyder</td><td>Marketing Manager</td><td>(503) 555-7555</td><td>Eugene</td><td>OR</td><td>USA</td></tr>",
                            "<tr><td>Hungry Coyote Import Store</td><td>Yoshi Latimer</td><td>Sales Representative</td><td>(503) 555-6874</td><td>Elgin</td><td>OR</td><td>USA</td></tr>",
                            "<tr><td>Lazy K Kountry Store</td><td>John Steel</td><td>Marketing Manager</td><td>(509) 555-7969</td><td>Walla Walla</td><td>WA</td><td>USA</td></tr>",
                            "<tr><td>Let&#39;s Stop N Shop</td><td>Jaime Yorres</td><td>Owner</td><td>(415) 555-5938</td><td>San Francisco</td><td>CA</td><td>USA</td></tr>",
                            "<tr><td>Lonesome Pine Restaurant</td><td>Fran Wilson</td><td>Sales Manager</td><td>(503) 555-9573</td><td>Portland</td><td>OR</td><td>USA</td></tr>",
                            "</table>"
                        ]
                    }
                }
            ],
            "execution_count": 65
        },
        {
            "cell_type": "markdown",
            "source": [
                "# **🤷‍♂️Tip 18: How to use a CASE statement**\n",
                "\n",
                "\\- A CASE statement is similar to a IF-THEN-ELSE statement where it is used to sift through various conditions in a SQL statement tore turn a value which satisfes the condition and is deemed true.\n",
                "\n",
                "The following query uses the CASE statement to fulfill a condition from the \"Employees\" table from the Northwind\\_2023 database:"
            ],
            "metadata": {
                "language": "sql",
                "azdata_cell_guid": "b00de352-a4ba-487f-ba28-16b75c50181b"
            },
            "attachments": {}
        },
        {
            "cell_type": "code",
            "source": [
                "/*\r\n",
                "Code Structure:\r\n",
                "____________________\r\n",
                "SELECT [column_name1], [column_nam2], etc...\r\n",
                "FROM [table_name]\r\n",
                "ORDER BY\r\n",
                "(CASE\r\n",
                "    WHEN [condition1] THEN [result1]\r\n",
                "    WHEN [condition2] THEN [result2]\r\n",
                "    ELSE [result]\r\n",
                "END)\r\n",
                ";\r\n",
                "*/"
            ],
            "metadata": {
                "language": "sql",
                "azdata_cell_guid": "21db2ab8-1c88-42f6-8b97-43d61eda3f83"
            },
            "outputs": [],
            "execution_count": null
        },
        {
            "cell_type": "code",
            "source": [
                "-- Example:\r\n",
                "USE Northwind_2023;\r\n",
                "GO\r\n",
                "\r\n",
                "SELECT CONCAT(LastName, ' ', FirstName) as 'Name'\r\n",
                "      ,Title\r\n",
                "      ,City\r\n",
                "      ,Country\r\n",
                "      ,PostalCode\r\n",
                "FROM dbo.Employees\r\n",
                "ORDER BY\r\n",
                "(CASE\r\n",
                "    WHEN City = 'London' THEN Country\r\n",
                "    ELSE City\r\n",
                "END)\r\n",
                ";"
            ],
            "metadata": {
                "language": "sql",
                "azdata_cell_guid": "f6bab2c8-f302-450d-a3ec-b68eb4e0cfaa"
            },
            "outputs": [
                {
                    "output_type": "display_data",
                    "data": {
                        "text/html": "Commands completed successfully."
                    },
                    "metadata": {}
                },
                {
                    "output_type": "display_data",
                    "data": {
                        "text/html": "(9 rows affected)"
                    },
                    "metadata": {}
                },
                {
                    "output_type": "display_data",
                    "data": {
                        "text/html": "Total execution time: 00:00:00.020"
                    },
                    "metadata": {}
                },
                {
                    "output_type": "execute_result",
                    "metadata": {},
                    "execution_count": 70,
                    "data": {
                        "application/vnd.dataresource+json": {
                            "schema": {
                                "fields": [
                                    {
                                        "name": "Name"
                                    },
                                    {
                                        "name": "Title"
                                    },
                                    {
                                        "name": "City"
                                    },
                                    {
                                        "name": "Country"
                                    },
                                    {
                                        "name": "PostalCode"
                                    }
                                ]
                            },
                            "data": [
                                {
                                    "Name": "Leverling Janet",
                                    "Title": "Sales Representative",
                                    "City": "Kirkland",
                                    "Country": "USA",
                                    "PostalCode": "98033"
                                },
                                {
                                    "Name": "Peacock Margaret",
                                    "Title": "Sales Representative",
                                    "City": "Redmond",
                                    "Country": "USA",
                                    "PostalCode": "98052"
                                },
                                {
                                    "Name": "Davolio Nancy",
                                    "Title": "Sales Representative",
                                    "City": "Seattle",
                                    "Country": "USA",
                                    "PostalCode": "98122"
                                },
                                {
                                    "Name": "Callahan Laura",
                                    "Title": "Inside Sales Coordinator",
                                    "City": "Seattle",
                                    "Country": "USA",
                                    "PostalCode": "98105"
                                },
                                {
                                    "Name": "Fuller Andrew",
                                    "Title": "Vice President, Sales",
                                    "City": "Tacoma",
                                    "Country": "USA",
                                    "PostalCode": "98401"
                                },
                                {
                                    "Name": "Dodsworth Anne",
                                    "Title": "Sales Representative",
                                    "City": "London",
                                    "Country": "UK",
                                    "PostalCode": "WG2 7LT"
                                },
                                {
                                    "Name": "Buchanan Steven",
                                    "Title": "Sales Manager",
                                    "City": "London",
                                    "Country": "UK",
                                    "PostalCode": "SW1 8JR"
                                },
                                {
                                    "Name": "Suyama Michael",
                                    "Title": "Sales Representative",
                                    "City": "London",
                                    "Country": "UK",
                                    "PostalCode": "EC2 7JR"
                                },
                                {
                                    "Name": "King Robert",
                                    "Title": "Sales Representative",
                                    "City": "London",
                                    "Country": "UK",
                                    "PostalCode": "RG1 9SP"
                                }
                            ]
                        },
                        "text/html": [
                            "<table>",
                            "<tr><th>Name</th><th>Title</th><th>City</th><th>Country</th><th>PostalCode</th></tr>",
                            "<tr><td>Leverling Janet</td><td>Sales Representative</td><td>Kirkland</td><td>USA</td><td>98033</td></tr>",
                            "<tr><td>Peacock Margaret</td><td>Sales Representative</td><td>Redmond</td><td>USA</td><td>98052</td></tr>",
                            "<tr><td>Davolio Nancy</td><td>Sales Representative</td><td>Seattle</td><td>USA</td><td>98122</td></tr>",
                            "<tr><td>Callahan Laura</td><td>Inside Sales Coordinator</td><td>Seattle</td><td>USA</td><td>98105</td></tr>",
                            "<tr><td>Fuller Andrew</td><td>Vice President, Sales</td><td>Tacoma</td><td>USA</td><td>98401</td></tr>",
                            "<tr><td>Dodsworth Anne</td><td>Sales Representative</td><td>London</td><td>UK</td><td>WG2 7LT</td></tr>",
                            "<tr><td>Buchanan Steven</td><td>Sales Manager</td><td>London</td><td>UK</td><td>SW1 8JR</td></tr>",
                            "<tr><td>Suyama Michael</td><td>Sales Representative</td><td>London</td><td>UK</td><td>EC2 7JR</td></tr>",
                            "<tr><td>King Robert</td><td>Sales Representative</td><td>London</td><td>UK</td><td>RG1 9SP</td></tr>",
                            "</table>"
                        ]
                    }
                }
            ],
            "execution_count": 70
        },
        {
            "cell_type": "markdown",
            "source": [
                "# **🤷‍♂️Tip 19: How to use SUBSTRING function**\n",
                "\n",
                "\\- A SUBSTRING function extracts a section of string values in a column; it can start from any position within the string value.\n",
                "\n",
                "\\- The starting position of the substring varies depending on the dictated positive or negative number; i.e. if a positive number is used, then the substring begins from the beginning of the string value, however, if a negative numer is used, the substring begins from the end of the string (the position of the first character in the string is 1 and the starting position from last character in the string is -1). \n",
                "\n",
                "\\- 2 numbers are used to define the substring; the first determines the starting position, and the second number determines the length of the substring.\n",
                "\n",
                "The following query uses the SUBSTRING function to extract specific information from the \"Employees\" table from the Northwind\\_2023 database:"
            ],
            "metadata": {
                "language": "sql",
                "azdata_cell_guid": "7c331e8c-542b-40fe-80ad-abb5749bddfc"
            },
            "attachments": {}
        },
        {
            "cell_type": "code",
            "source": [
                "/*\r\n",
                "Code Structure:\r\n",
                "____________________\r\n",
                "SELECT SUBSTRING([string_column_name], [starting_integer], [length_integer])\r\n",
                "FROM [table_name]\r\n",
                ";\r\n",
                "*/"
            ],
            "metadata": {
                "language": "sql",
                "azdata_cell_guid": "b744a8f4-6ac1-4a9a-a63a-54e69966b4ba"
            },
            "outputs": [],
            "execution_count": null
        },
        {
            "cell_type": "code",
            "source": [
                "-- Example:\r\n",
                "USE Northwind_2023;\r\n",
                "GO\r\n",
                "\r\n",
                "SELECT top 5 CONCAT(LastName, ' ', FirstName) as 'Name'\r\n",
                "      ,Title\r\n",
                "      ,SUBSTRING(City, 1, 3) as 'City'\r\n",
                "      ,Country\r\n",
                "FROM dbo.Employees\r\n",
                ";"
            ],
            "metadata": {
                "language": "sql",
                "azdata_cell_guid": "f368d676-2ed4-438b-9172-abc5be1a4c37"
            },
            "outputs": [
                {
                    "output_type": "display_data",
                    "data": {
                        "text/html": "Commands completed successfully."
                    },
                    "metadata": {}
                },
                {
                    "output_type": "display_data",
                    "data": {
                        "text/html": "(5 rows affected)"
                    },
                    "metadata": {}
                },
                {
                    "output_type": "display_data",
                    "data": {
                        "text/html": "Total execution time: 00:00:00.015"
                    },
                    "metadata": {}
                },
                {
                    "output_type": "execute_result",
                    "metadata": {},
                    "execution_count": 72,
                    "data": {
                        "application/vnd.dataresource+json": {
                            "schema": {
                                "fields": [
                                    {
                                        "name": "Name"
                                    },
                                    {
                                        "name": "Title"
                                    },
                                    {
                                        "name": "City"
                                    },
                                    {
                                        "name": "Country"
                                    }
                                ]
                            },
                            "data": [
                                {
                                    "Name": "Davolio Nancy",
                                    "Title": "Sales Representative",
                                    "City": "Sea",
                                    "Country": "USA"
                                },
                                {
                                    "Name": "Fuller Andrew",
                                    "Title": "Vice President, Sales",
                                    "City": "Tac",
                                    "Country": "USA"
                                },
                                {
                                    "Name": "Leverling Janet",
                                    "Title": "Sales Representative",
                                    "City": "Kir",
                                    "Country": "USA"
                                },
                                {
                                    "Name": "Peacock Margaret",
                                    "Title": "Sales Representative",
                                    "City": "Red",
                                    "Country": "USA"
                                },
                                {
                                    "Name": "Buchanan Steven",
                                    "Title": "Sales Manager",
                                    "City": "Lon",
                                    "Country": "UK"
                                }
                            ]
                        },
                        "text/html": [
                            "<table>",
                            "<tr><th>Name</th><th>Title</th><th>City</th><th>Country</th></tr>",
                            "<tr><td>Davolio Nancy</td><td>Sales Representative</td><td>Sea</td><td>USA</td></tr>",
                            "<tr><td>Fuller Andrew</td><td>Vice President, Sales</td><td>Tac</td><td>USA</td></tr>",
                            "<tr><td>Leverling Janet</td><td>Sales Representative</td><td>Kir</td><td>USA</td></tr>",
                            "<tr><td>Peacock Margaret</td><td>Sales Representative</td><td>Red</td><td>USA</td></tr>",
                            "<tr><td>Buchanan Steven</td><td>Sales Manager</td><td>Lon</td><td>UK</td></tr>",
                            "</table>"
                        ]
                    }
                }
            ],
            "execution_count": 72
        },
        {
            "cell_type": "markdown",
            "source": [
                "# **🤷‍♂️Tip 20: How to use DATEDIFF function**\n",
                "\n",
                "\\- The DATEDIFF function determines the number of days between two date values in a column\n",
                "\n",
                "\\- You need to specify the variable of which the DATEDIFF function must operate under; i.e. day, week, month, year, etc...\n",
                "\n",
                "The following query uses the DATEDIFF function to determine the specific amount of time between 2 specific dates in the \"Employees\" table from the Northwind\\_2023 database:"
            ],
            "metadata": {
                "language": "sql",
                "azdata_cell_guid": "caec6e08-4c21-4915-8b9d-b3c92890a414"
            },
            "attachments": {}
        },
        {
            "cell_type": "code",
            "source": [
                "/*\r\n",
                "Code Structure:\r\n",
                "____________________\r\n",
                "SELECT DATEDDIFF(day, month, or year, [date_name1], [date_name2])\r\n",
                "FROM [table_name]\r\n",
                ";\r\n",
                "*/"
            ],
            "metadata": {
                "language": "sql",
                "azdata_cell_guid": "77257dcc-c2ca-4a28-83de-427cf841b439"
            },
            "outputs": [],
            "execution_count": null
        },
        {
            "cell_type": "code",
            "source": [
                "-- Example:\r\n",
                "USE Northwind_2023;\r\n",
                "GO\r\n",
                "\r\n",
                "SELECT top 5 CONCAT(LastName, ' ', FirstName) as 'Name'\r\n",
                "      ,Title\r\n",
                "      ,DATEDIFF(YEAR, ' ', BirthDate) as 'Time_Between'\r\n",
                "      ,SUBSTRING(City, 1, 3) as 'City'\r\n",
                "      ,Country\r\n",
                "FROM dbo.Employees\r\n",
                ";"
            ],
            "metadata": {
                "language": "sql",
                "azdata_cell_guid": "b373c4ab-842e-49ce-a535-c09889402413"
            },
            "outputs": [
                {
                    "output_type": "display_data",
                    "data": {
                        "text/html": "Commands completed successfully."
                    },
                    "metadata": {}
                },
                {
                    "output_type": "display_data",
                    "data": {
                        "text/html": "(5 rows affected)"
                    },
                    "metadata": {}
                },
                {
                    "output_type": "display_data",
                    "data": {
                        "text/html": "Total execution time: 00:00:00.015"
                    },
                    "metadata": {}
                },
                {
                    "output_type": "execute_result",
                    "metadata": {},
                    "execution_count": 87,
                    "data": {
                        "application/vnd.dataresource+json": {
                            "schema": {
                                "fields": [
                                    {
                                        "name": "Name"
                                    },
                                    {
                                        "name": "Title"
                                    },
                                    {
                                        "name": "Time_Between"
                                    },
                                    {
                                        "name": "City"
                                    },
                                    {
                                        "name": "Country"
                                    }
                                ]
                            },
                            "data": [
                                {
                                    "Name": "Davolio Nancy",
                                    "Title": "Sales Representative",
                                    "Time_Between": "73",
                                    "City": "Sea",
                                    "Country": "USA"
                                },
                                {
                                    "Name": "Fuller Andrew",
                                    "Title": "Vice President, Sales",
                                    "Time_Between": "77",
                                    "City": "Tac",
                                    "Country": "USA"
                                },
                                {
                                    "Name": "Leverling Janet",
                                    "Title": "Sales Representative",
                                    "Time_Between": "88",
                                    "City": "Kir",
                                    "Country": "USA"
                                },
                                {
                                    "Name": "Peacock Margaret",
                                    "Title": "Sales Representative",
                                    "Time_Between": "62",
                                    "City": "Red",
                                    "Country": "USA"
                                },
                                {
                                    "Name": "Buchanan Steven",
                                    "Title": "Sales Manager",
                                    "Time_Between": "80",
                                    "City": "Lon",
                                    "Country": "UK"
                                }
                            ]
                        },
                        "text/html": [
                            "<table>",
                            "<tr><th>Name</th><th>Title</th><th>Time_Between</th><th>City</th><th>Country</th></tr>",
                            "<tr><td>Davolio Nancy</td><td>Sales Representative</td><td>73</td><td>Sea</td><td>USA</td></tr>",
                            "<tr><td>Fuller Andrew</td><td>Vice President, Sales</td><td>77</td><td>Tac</td><td>USA</td></tr>",
                            "<tr><td>Leverling Janet</td><td>Sales Representative</td><td>88</td><td>Kir</td><td>USA</td></tr>",
                            "<tr><td>Peacock Margaret</td><td>Sales Representative</td><td>62</td><td>Red</td><td>USA</td></tr>",
                            "<tr><td>Buchanan Steven</td><td>Sales Manager</td><td>80</td><td>Lon</td><td>UK</td></tr>",
                            "</table>"
                        ]
                    }
                }
            ],
            "execution_count": 87
        },
        {
            "cell_type": "markdown",
            "source": [
                "# **🤷‍♂️Tip 21: How to use DATE\\_ADD function**\n",
                "\n",
                "\\- The DATEADD function adds a specified time/date interval to a known date value in a column and returns the new calculated date.\n",
                "\n",
                "\\- You need to specify the interval type of which the DATEADD function must operate under; i.e. day, week, month, year, etc...\n",
                "\n",
                "The following query uses the DATEADD function to add a specific amount of time to date values in the \"Employees\" table from the Northwind\\_2023 database:"
            ],
            "metadata": {
                "language": "sql",
                "azdata_cell_guid": "0f788370-de87-44b7-b60d-59be45089d4b"
            },
            "attachments": {}
        },
        {
            "cell_type": "code",
            "source": [
                "/*\r\n",
                "Code Structure:\r\n",
                "____________________\r\n",
                "SELECT DATEADD([Interval_type], [interval_value], [date_name or column name])\r\n",
                "FROM [table_name]\r\n",
                ";\r\n",
                "*/"
            ],
            "metadata": {
                "language": "sql",
                "azdata_cell_guid": "28b93a3f-e4e6-4fac-8c0b-fc7770a5263b"
            },
            "outputs": [],
            "execution_count": null
        },
        {
            "cell_type": "code",
            "source": [
                "-- Example:\r\n",
                "USE Northwind_2023;\r\n",
                "GO\r\n",
                "\r\n",
                "SELECT top 5 CONCAT(LastName, ' ', FirstName) as 'Name'\r\n",
                "      ,Title\r\n",
                "      ,DATEADD(YEAR, 10, (BirthDate)) as '10_More_Years'\r\n",
                "      ,SUBSTRING(City, 1, 3) as 'City'\r\n",
                "      ,Country\r\n",
                "FROM dbo.Employees\r\n",
                "ORDER BY 'Name' DESC\r\n",
                ";"
            ],
            "metadata": {
                "language": "sql",
                "azdata_cell_guid": "51902735-1e11-4a84-84ef-593d289a6861"
            },
            "outputs": [
                {
                    "output_type": "display_data",
                    "data": {
                        "text/html": "Commands completed successfully."
                    },
                    "metadata": {}
                },
                {
                    "output_type": "display_data",
                    "data": {
                        "text/html": "(5 rows affected)"
                    },
                    "metadata": {}
                },
                {
                    "output_type": "display_data",
                    "data": {
                        "text/html": "Total execution time: 00:00:00.020"
                    },
                    "metadata": {}
                },
                {
                    "output_type": "execute_result",
                    "metadata": {},
                    "execution_count": 83,
                    "data": {
                        "application/vnd.dataresource+json": {
                            "schema": {
                                "fields": [
                                    {
                                        "name": "Name"
                                    },
                                    {
                                        "name": "Title"
                                    },
                                    {
                                        "name": "10_More_Years"
                                    },
                                    {
                                        "name": "City"
                                    },
                                    {
                                        "name": "Country"
                                    }
                                ]
                            },
                            "data": [
                                {
                                    "Name": "Suyama Michael",
                                    "Title": "Sales Representative",
                                    "10_More_Years": "1998-07-02 00:00:00.000",
                                    "City": "Lon",
                                    "Country": "UK"
                                },
                                {
                                    "Name": "Peacock Margaret",
                                    "Title": "Sales Representative",
                                    "10_More_Years": "1972-09-19 00:00:00.000",
                                    "City": "Red",
                                    "Country": "USA"
                                },
                                {
                                    "Name": "Leverling Janet",
                                    "Title": "Sales Representative",
                                    "10_More_Years": "1998-08-30 00:00:00.000",
                                    "City": "Kir",
                                    "Country": "USA"
                                },
                                {
                                    "Name": "King Robert",
                                    "Title": "Sales Representative",
                                    "10_More_Years": "1995-05-29 00:00:00.000",
                                    "City": "Lon",
                                    "Country": "UK"
                                },
                                {
                                    "Name": "Fuller Andrew",
                                    "Title": "Vice President, Sales",
                                    "10_More_Years": "1987-02-19 00:00:00.000",
                                    "City": "Tac",
                                    "Country": "USA"
                                }
                            ]
                        },
                        "text/html": [
                            "<table>",
                            "<tr><th>Name</th><th>Title</th><th>10_More_Years</th><th>City</th><th>Country</th></tr>",
                            "<tr><td>Suyama Michael</td><td>Sales Representative</td><td>1998-07-02 00:00:00.000</td><td>Lon</td><td>UK</td></tr>",
                            "<tr><td>Peacock Margaret</td><td>Sales Representative</td><td>1972-09-19 00:00:00.000</td><td>Red</td><td>USA</td></tr>",
                            "<tr><td>Leverling Janet</td><td>Sales Representative</td><td>1998-08-30 00:00:00.000</td><td>Kir</td><td>USA</td></tr>",
                            "<tr><td>King Robert</td><td>Sales Representative</td><td>1995-05-29 00:00:00.000</td><td>Lon</td><td>UK</td></tr>",
                            "<tr><td>Fuller Andrew</td><td>Vice President, Sales</td><td>1987-02-19 00:00:00.000</td><td>Tac</td><td>USA</td></tr>",
                            "</table>"
                        ]
                    }
                }
            ],
            "execution_count": 83
        },
        {
            "cell_type": "markdown",
            "source": [
                "# **🤷‍♂️Tip 22: How to use CAST function**\n",
                "\n",
                "\\- The DATEADD function adds a specified time/date interval to a known date value in a column and returns the new calculated date.\n",
                "\n",
                "\\- You need to specify the interval type of which the DATEADD function must operate under; i.e. day, week, month, year, etc...\n",
                "\n",
                "The following query uses the DATEADD function to add a specific amount of time to date values in the \"Employees\" table from the Northwind\\_2023 database:"
            ],
            "metadata": {
                "language": "sql",
                "azdata_cell_guid": "bc905205-b0ed-4770-b442-47c105a96174"
            },
            "attachments": {}
        },
        {
            "cell_type": "markdown",
            "source": [
                "# **🤷‍♂️Tip 23: How to use ISNULL function**\n",
                "\n",
                "\\- The DATEADD function adds a specified time/date interval to a known date value in a column and returns the new calculated date.\n",
                "\n",
                "\\- You need to specify the interval type of which the DATEADD function must operate under; i.e. day, week, month, year, etc...\n",
                "\n",
                "The following query uses the DATEADD function to add a specific amount of time to date values in the \"Employees\" table from the Northwind\\_2023 database:"
            ],
            "metadata": {
                "language": "sql",
                "azdata_cell_guid": "396bddf5-e0b0-4a64-ba44-8025fda1351b"
            },
            "attachments": {}
        }
    ]
}